{
 "cells": [
  {
   "cell_type": "code",
   "execution_count": 1,
   "metadata": {
    "collapsed": true,
    "pycharm": {
     "is_executing": false
    }
   },
   "outputs": [],
   "source": [
    "from copy import deepcopy\n",
    "import pandas as pd\n",
    "import numpy as np\n",
    "from sklearn.model_selection import GridSearchCV\n",
    "from sklearn.metrics import mean_absolute_error, make_scorer\n",
    "from sklearn.model_selection import train_test_split"
   ]
  },
  {
   "cell_type": "code",
   "source": [
    "raw_train = pd.read_csv(\"Data/train.csv\")\n",
    "raw_test = pd.read_csv(\"Data/test.csv\")\n",
    "targets = [\"max_price\", \"delta_abs\", \"delta_rel\", \"min_price\"]\n"
   ],
   "metadata": {
    "collapsed": false,
    "pycharm": {
     "name": "#%%\n",
     "is_executing": false
    }
   },
   "execution_count": 2,
   "outputs": []
  },
  {
   "cell_type": "code",
   "execution_count": 3,
   "outputs": [],
   "source": [
    "def shared_reformat(df):\n",
    "    df = deepcopy(df)\n",
    "    \n",
    "    # create special targets (only on train set)\n",
    "    if \"max_price\" in list(df):\n",
    "        df[\"delta_abs\"] = df[\"max_price\"] - df[\"min_price\"] \n",
    "        df[\"delta_rel\"] = np.log(df[\"max_price\"] / df[\"min_price\"] )\n",
    "    \n",
    "    # deal with missing data\n",
    "    #df.pixels_y = df.pixels_y.fillna(0)\n",
    "    df.detachable_keyboard.fillna(0, inplace = True)  # only four cases. Assume none\n",
    "    df.pixels_x.fillna(1920, inplace = True)   # only 2 cases, replace by most common value\n",
    "    df.pixels_y.fillna(1080, inplace = True)   # only 2 cases, replace by most common value\n",
    "    df.loc[df.screen_surface.isna(), \"screen_surface\"] = 'Glossy'       # 12 cases, large majority is Glossy,\n",
    "    df.loc[df.screen_surface.isna() & df.pixels_x == 1920, \"screen_surface\"] = 'Matte'  # except here\n",
    "    df.sort_values(by=['name'])\n",
    "    df.cpu_details.fillna(method='bfill', inplace=True)  # take previous value, they are often similar\n",
    "    df.gpu.fillna(method='bfill', inplace=True)  # take previous value, they are often similar\n",
    "    df.weight.fillna(method='bfill', inplace=True)\n",
    "    df.loc[df.os.isna() & df.brand == \"Apple\", \"os\"] = 'macOS'  # 1 case\n",
    "    df.loc[df.os_details.isna() & df.brand == \"Apple\", \"os_details\"] = \"macOS Mojave\"  # 1 case, most common\n",
    "    df.loc[df.os.isna() & df.brand == \"Dell\", \"os\"] = 'Windows'  # 1 case\n",
    "    df.loc[df.os_details.isna() & df.brand == \"Dell\", \"os_details\"] = \"Windows 10 Home\"  # 1 case, most common\n",
    "    \n",
    "\n",
    "    # create new features\n",
    "    df[\"cpu_brand\"] = df.cpu.str.split(n=1).str[0]\n",
    "    df[\"cpu_type\"] = df.cpu.str.split(n=1).str[1]\n",
    "    df[\"gpu_brand\"] = df.gpu.str.split(n=1).str[0]\n",
    "    df[\"gpu_series\"] = df.gpu.str.split(n=2).str[1]\n",
    "    df[\"os_type\"] = df.os_details.str.split(n=1).str[1]\n",
    "    df[\"os_nr\"] = df.os_details.str.split(n=2).str[2]\n",
    "    df[\"resolution\"] = df.pixels_y / df.screen_size\n",
    "    df[\"gimmick\"] = df.detachable_keyboard + 5 * df.discrete_gpu + 3* df.touchscreen\n",
    "    def get_speed(sentence):\n",
    "        try:\n",
    "            sentence = sentence.split()\n",
    "            index = sentence.index('GHz')\n",
    "            return pow(float(sentence[index-1]),2)\n",
    "        except:\n",
    "            return pow(2.4, 2)\n",
    "    df[\"speed\"] = df.cpu_details.apply(get_speed)\n",
    "    def has_word(sentence, word):\n",
    "        try:\n",
    "            return word in sentence\n",
    "        except:\n",
    "            return False\n",
    "    df[\"Dual-Core\"] = df.cpu_details.apply(has_word, word=\"Dual-Core\")\n",
    "    df[\"Quad-Core\"] = df.cpu_details.apply(has_word, word=\"Quad-Core\")\n",
    "    df[\"Hexa-Core\"] = df.cpu_details.apply(has_word, word=\"Hexa-Core\")\n",
    "    df[\"Hyper-Threading\"] = df.cpu_details.apply(has_word, word=\"Hyper-Threading\")\n",
    "    \n",
    "    \n",
    "    # correct a few mistakes in new features\n",
    "    map_gpu_series = {\"GeFoce\":\"GeForce\", \"RadeonÂ\": \"Radeon\"}\n",
    "    df.gpu_series = df.gpu_series.replace(map_gpu_series) \n",
    "    map_screen_surface = {\"glossy\":\"Glossy\", \"matte\":\"Matte\"}\n",
    "    df.screen_surface = df.screen_surface.replace(map_screen_surface)  \n",
    "\n",
    "    \n",
    "    # make sure all values in categorical variables are strings\n",
    "    cat_col = df.select_dtypes(include=['object']).columns\n",
    "    df[cat_col] = df[cat_col].astype(str)\n",
    "    \n",
    "    # cleanup test set\n",
    "    df.pixels_y = df.pixels_y.astype('int64')\n",
    "    \n",
    "    # shuffle the database\n",
    "    df.sample(frac=1)\n",
    "    return df\n"
   ],
   "metadata": {
    "collapsed": false,
    "pycharm": {
     "name": "#%%\n",
     "is_executing": false
    }
   }
  },
  {
   "cell_type": "code",
   "execution_count": 4,
   "outputs": [
    {
     "name": "stdout",
     "text": [
      "Index(['id', 'name', 'brand', 'base_name', 'screen_size', 'pixels_x',\n",
      "       'pixels_y', 'screen_surface', 'touchscreen', 'cpu', 'cpu_details',\n",
      "       'detachable_keyboard', 'discrete_gpu', 'gpu', 'os', 'os_details', 'ram',\n",
      "       'ssd', 'storage', 'weight', 'min_price', 'max_price', 'delta_abs',\n",
      "       'delta_rel', 'cpu_brand', 'cpu_type', 'gpu_brand', 'gpu_series',\n",
      "       'os_type', 'os_nr', 'resolution', 'gimmick', 'speed', 'Dual-Core',\n",
      "       'Quad-Core', 'Hexa-Core', 'Hyper-Threading'],\n",
      "      dtype='object')\n",
      "Index(['brand', 'pixels_y', 'screen_surface', 'touchscreen', 'discrete_gpu',\n",
      "       'gpu', 'ram', 'storage', 'cpu_type', 'gpu_brand', 'os_type', 'os_nr',\n",
      "       'resolution', 'gimmick', 'speed', 'Dual-Core', 'Quad-Core', 'Hexa-Core',\n",
      "       'Hyper-Threading'],\n",
      "      dtype='object')\n",
      "    brand  pixels_y screen_surface  touchscreen  discrete_gpu  \\\n",
      "0  Lenovo      1080         Glossy            1             0   \n",
      "1   Razer      1080          Matte            0             1   \n",
      "\n",
      "                             gpu  ram  storage cpu_type gpu_brand  os_type  \\\n",
      "0                       Intel HD    8     1000  Core i7     Intel       10   \n",
      "1  NVIDIA GeForce RTX 2070 Max-Q   16      512  Core i7    NVIDIA  10 Home   \n",
      "\n",
      "  os_nr  resolution  gimmick  speed  Dual-Core  Quad-Core  Hexa-Core  \\\n",
      "0   nan   69.230769      3.0   5.76       True      False      False   \n",
      "1  Home   69.230769      5.0   4.84      False      False       True   \n",
      "\n",
      "   Hyper-Threading  \n",
      "0             True  \n",
      "1             True  \n"
     ],
     "output_type": "stream"
    },
    {
     "name": "stderr",
     "text": [
      "C:\\ProgramData\\Anaconda3\\envs\\ComputerPriceRange\\lib\\site-packages\\pandas\\core\\ops\\array_ops.py:253: FutureWarning: elementwise comparison failed; returning scalar instead, but in the future will perform elementwise comparison\n",
      "  res_values = method(rvalues)\n"
     ],
     "output_type": "stream"
    },
    {
     "data": {
      "text/plain": "brand               object\npixels_y             int64\nscreen_surface      object\ntouchscreen          int64\ndiscrete_gpu         int64\ngpu                 object\nram                  int64\nstorage              int64\ncpu_type            object\ngpu_brand           object\nos_type             object\nos_nr               object\nresolution         float64\ngimmick            float64\nspeed              float64\nDual-Core             bool\nQuad-Core             bool\nHexa-Core             bool\nHyper-Threading       bool\ndtype: object"
     },
     "metadata": {},
     "output_type": "execute_result",
     "execution_count": 4
    }
   ],
   "source": [
    "df_train = shared_reformat(raw_train)\n",
    "df_test = shared_reformat(raw_test)\n",
    "\n",
    "drop_cols=[\"id\", \"name\", \"base_name\", \"screen_size\", \"weight\", \"detachable_keyboard\", \"gpu_series\",\n",
    "              \"ssd\", \"pixels_x\", \"cpu_details\", \"os_details\", \"cpu_brand\", \"cpu\", \"os\", \"min_price\", \"max_price\", \"delta_abs\", \"delta_rel\"]\n",
    "\n",
    "drop_cols_test=[\"id\", \"name\", \"base_name\", \"screen_size\", \"weight\", \"detachable_keyboard\", \"gpu_series\",\n",
    "              \"ssd\", \"pixels_x\", \"cpu_details\", \"os_details\", \"cpu_brand\", \"cpu\", \"os\"]\n",
    "X = df_train.drop(columns=drop_cols, axis=1)\n",
    "y = df_train[[\"min_price\", \"max_price\"]]\n",
    "\n",
    "X_train, X_test, y_train, y_test = train_test_split(X, y, test_size=0.3)\n",
    "\n",
    "print(df_train.columns)\n",
    "print(X.columns)\n",
    "print(X.head(2))\n",
    "X.dtypes"
   ],
   "metadata": {
    "collapsed": false,
    "pycharm": {
     "name": "#%%\n",
     "is_executing": false
    }
   }
  },
  {
   "cell_type": "code",
   "execution_count": 5,
   "outputs": [],
   "source": [
    "from sklearn.pipeline import Pipeline\n",
    "from sklearn.impute import SimpleImputer\n",
    "from sklearn.preprocessing import StandardScaler, OneHotEncoder\n",
    "\n",
    "numeric_transformer = Pipeline(steps=[\n",
    "    ('imputer', SimpleImputer(strategy='median')),\n",
    "    ('scaler', StandardScaler())])\n",
    "\n",
    "categorical_transformer = Pipeline(steps=[\n",
    "    ('imputer', SimpleImputer(strategy='constant', fill_value='missing')),\n",
    "    ('onehot', OneHotEncoder(handle_unknown='ignore'))])\n",
    "\n",
    "numeric_features = X.select_dtypes(['int64', 'float64']).columns\n",
    "\n",
    "categorical_features = X.select_dtypes(include=['object']).columns\n",
    "\n",
    "from sklearn.compose import ColumnTransformer\n",
    "\n",
    "preprocessor = ColumnTransformer( \n",
    "    transformers = [\n",
    "        ('num', numeric_transformer, numeric_features),\n",
    "        ('cat', categorical_transformer, categorical_features)])"
   ],
   "metadata": {
    "collapsed": false,
    "pycharm": {
     "name": "#%%\n",
     "is_executing": false
    }
   }
  },
  {
   "cell_type": "code",
   "execution_count": 6,
   "outputs": [
    {
     "data": {
      "text/plain": "Pipeline(memory=None,\n         steps=[('preprocessor',\n                 ColumnTransformer(n_jobs=None, remainder='drop',\n                                   sparse_threshold=0.3,\n                                   transformer_weights=None,\n                                   transformers=[('num',\n                                                  Pipeline(memory=None,\n                                                           steps=[('imputer',\n                                                                   SimpleImputer(add_indicator=False,\n                                                                                 copy=True,\n                                                                                 fill_value=None,\n                                                                                 missing_values=nan,\n                                                                                 strategy='median',\n                                                                                 verbose=0)),\n                                                                  ('scaler',\n                                                                   StandardScaler(copy=True,\n                                                                                  with_mean...\n                 RandomForestRegressor(bootstrap=True, ccp_alpha=0.0,\n                                       criterion='mse', max_depth=None,\n                                       max_features='auto', max_leaf_nodes=None,\n                                       max_samples=None,\n                                       min_impurity_decrease=0.0,\n                                       min_impurity_split=None,\n                                       min_samples_leaf=1, min_samples_split=2,\n                                       min_weight_fraction_leaf=0.0,\n                                       n_estimators=100, n_jobs=None,\n                                       oob_score=False, random_state=None,\n                                       verbose=0, warm_start=False))],\n         verbose=False)"
     },
     "metadata": {},
     "output_type": "execute_result",
     "execution_count": 6
    }
   ],
   "source": [
    "from sklearn.ensemble import RandomForestClassifier, RandomForestRegressor\n",
    "\n",
    "rf = Pipeline(steps=[('preprocessor', preprocessor),\n",
    "                      ('classifier', RandomForestRegressor())])\n",
    "\n",
    "rf.fit(X_train, y_train)"
   ],
   "metadata": {
    "collapsed": false,
    "pycharm": {
     "name": "#%%\n",
     "is_executing": false
    }
   }
  },
  {
   "cell_type": "code",
   "execution_count": 7,
   "outputs": [
    {
     "name": "stdout",
     "text": [
      "[[ 483.1704      505.0948    ]\n",
      " [1413.9811     1489.498     ]\n",
      " [1176.58696    1185.08562667]\n",
      " [ 365.8059      378.1962    ]\n",
      " [1548.4532     1656.9897    ]\n",
      " [1510.2946     1602.2882    ]\n",
      " [1647.8477     1719.0329    ]\n",
      " [ 160.8083      164.9055    ]\n",
      " [ 693.9881      733.9964    ]\n",
      " [1752.52646667 1830.60576667]\n",
      " [ 285.16105     289.10135   ]\n",
      " [ 579.8574      586.7328    ]\n",
      " [ 369.2488      372.5626    ]\n",
      " [ 725.62301667  734.27158333]\n",
      " [ 395.6556      404.8587    ]\n",
      " [1769.6872     1810.7174    ]\n",
      " [1781.8751     1806.1928    ]\n",
      " [ 503.2782      526.31525   ]\n",
      " [ 585.48996667  604.1749    ]\n",
      " [ 240.19426667  245.89786667]\n",
      " [ 418.0317      429.3401    ]\n",
      " [1683.4337     1702.0536    ]\n",
      " [1120.3135     1164.0087    ]\n",
      " [2409.8886     2447.0705    ]\n",
      " [1140.1606     1238.5982    ]\n",
      " [ 390.3219      410.29353333]\n",
      " [ 315.9069      343.1015    ]\n",
      " [1241.818      1274.7124    ]\n",
      " [ 159.2757      168.1888    ]\n",
      " [1600.17565    1702.9078    ]\n",
      " [1316.4197     1362.0404    ]\n",
      " [ 640.3009      650.5105    ]\n",
      " [1576.6479     1617.6279    ]\n",
      " [ 549.7666      565.168     ]\n",
      " [1425.86883333 1453.29863333]\n",
      " [ 390.1363      391.8746    ]\n",
      " [ 413.7723      422.9196    ]\n",
      " [ 589.4445      631.1726    ]\n",
      " [ 634.7167      652.30023333]\n",
      " [ 395.8088      407.7776    ]\n",
      " [ 727.3145      742.5707    ]\n",
      " [1335.8126     1358.6235    ]\n",
      " [1755.8522     1766.2545    ]\n",
      " [ 671.7832      700.6538    ]\n",
      " [ 350.7283      368.2865    ]\n",
      " [1570.7695     1592.0899    ]\n",
      " [ 649.1104      664.64443333]\n",
      " [ 554.44503333  577.46643333]\n",
      " [1219.2617     1279.5019    ]\n",
      " [ 287.8926      302.0878    ]\n",
      " [1009.6371     1035.6407    ]\n",
      " [ 619.8064      641.3478    ]\n",
      " [ 594.0587      598.2517    ]\n",
      " [1250.2408     1333.0753    ]\n",
      " [ 266.40515     273.40065   ]\n",
      " [ 235.87138333  241.21368333]\n",
      " [ 567.69587333  590.57226333]\n",
      " [1466.6341     1485.1673    ]\n",
      " [1848.98683333 1881.11903333]\n",
      " [1487.25905    1630.43413333]\n",
      " [ 892.640875    944.5006    ]\n",
      " [ 338.51806667  367.72546667]\n",
      " [ 333.9713      338.5013    ]\n",
      " [ 663.68836667  700.25833333]\n",
      " [ 528.4011      540.2114    ]\n",
      " [ 273.2445      283.7654    ]\n",
      " [ 648.09885     693.90386667]\n",
      " [ 982.491      1019.9347    ]\n",
      " [ 219.2816      226.5974    ]\n",
      " [1073.264      1087.5238    ]\n",
      " [1288.9991     1359.7685    ]\n",
      " [ 783.7737      816.755     ]\n",
      " [ 343.9953      349.0317    ]\n",
      " [ 613.27411667  617.14195   ]\n",
      " [ 501.9511      515.078     ]\n",
      " [ 212.0707      215.7238    ]\n",
      " [ 922.963       963.49153333]\n",
      " [1242.3144     1354.5495    ]\n",
      " [ 315.04986667  330.10996667]\n",
      " [1418.1161     1463.5761    ]\n",
      " [ 592.56043333  612.41416667]\n",
      " [ 446.998       461.9425    ]\n",
      " [ 352.5533      375.3283    ]\n",
      " [1084.4833     1103.6623    ]\n",
      " [ 483.6367      502.6208    ]\n",
      " [ 239.1205      249.4776    ]\n",
      " [ 644.29611667  667.79438333]\n",
      " [ 477.2401      492.5026    ]\n",
      " [ 508.022       519.35      ]\n",
      " [1847.77146667 1891.16146667]\n",
      " [1430.811175   1468.7919    ]\n",
      " [ 451.192       454.5776    ]\n",
      " [ 635.2753      650.24483333]\n",
      " [ 334.4719      344.5372    ]\n",
      " [1706.47833333 1797.22813333]\n",
      " [ 462.7857      470.7919    ]\n",
      " [ 155.3945      165.4791    ]\n",
      " [ 359.0818      387.2189    ]\n",
      " [ 650.91        659.5741    ]\n",
      " [ 227.62876667  235.03266667]\n",
      " [ 247.366       262.695     ]\n",
      " [ 619.69266667  642.64893333]\n",
      " [1509.48736    1662.18198667]\n",
      " [1595.2926     1758.60883333]\n",
      " [ 514.5084      527.2228    ]\n",
      " [1214.2173     1260.5096    ]\n",
      " [ 879.666775    931.75186667]\n",
      " [ 282.2095      305.2496    ]\n",
      " [ 744.3979      761.8975    ]\n",
      " [ 866.744       935.16336667]\n",
      " [ 204.2955      213.2473    ]\n",
      " [ 651.1839      675.9291    ]\n",
      " [1637.2279     1759.01363333]\n",
      " [ 551.1706      598.6903    ]\n",
      " [ 252.2916      259.8428    ]\n",
      " [ 777.703645    788.760445  ]\n",
      " [2170.3218     2200.8755    ]\n",
      " [ 635.2753      650.24483333]\n",
      " [ 354.323575    361.338275  ]\n",
      " [1169.42485    1183.36098333]\n",
      " [1189.2636     1193.6601    ]\n",
      " [ 463.3024      501.9424    ]\n",
      " [ 929.214665    998.41146667]\n",
      " [ 593.0734      596.6276    ]\n",
      " [ 458.3633      471.1072    ]\n",
      " [ 457.2572      482.52543333]\n",
      " [ 713.66313333  746.307     ]\n",
      " [ 578.9948      581.9844    ]\n",
      " [ 187.348       188.4508    ]\n",
      " [ 598.9889      619.0655    ]\n",
      " [ 365.5413      384.5122    ]\n",
      " [ 171.7251      176.9887    ]\n",
      " [1663.75856667 1707.58836667]\n",
      " [1137.4017     1167.0975    ]\n",
      " [ 238.4121      267.0228    ]\n",
      " [1376.6537     1487.39253333]\n",
      " [1502.0423     1649.5669    ]\n",
      " [ 176.2066      181.072     ]\n",
      " [ 661.58796667  697.36793333]\n",
      " [ 223.2732      231.7744    ]\n",
      " [ 373.0599      397.487     ]\n",
      " [ 315.7822      330.2423    ]\n",
      " [ 333.9713      338.5013    ]\n",
      " [ 649.44405     667.59555   ]\n",
      " [1491.9639     1597.969     ]\n",
      " [ 362.5177      373.9625    ]\n",
      " [ 301.631       314.4799    ]\n",
      " [1419.2571     1470.6889    ]\n",
      " [ 655.88046     700.56276   ]\n",
      " [1403.5792     1417.8092    ]\n",
      " [ 606.0247      621.1729    ]\n",
      " [ 176.2066      181.072     ]\n",
      " [ 442.75886667  461.72713333]]\n"
     ],
     "output_type": "stream"
    }
   ],
   "source": [
    "y_pred = rf.predict(X_test)\n",
    "print(y_pred)"
   ],
   "metadata": {
    "collapsed": false,
    "pycharm": {
     "name": "#%%\n",
     "is_executing": false
    }
   }
  },
  {
   "cell_type": "code",
   "execution_count": 8,
   "outputs": [],
   "source": [
    "#def seppe_error(Y_true, Y_pred):\n",
    "#    return (mean_absolute_error(Y_true.min_price, Y_pred[:,0]) + mean_absolute_error(Y_true.max_price, Y_pred[:,1])) / 2\n",
    "\n",
    "#seppe_error(y_test, y_pred)"
   ],
   "metadata": {
    "collapsed": false,
    "pycharm": {
     "name": "#%%\n",
     "is_executing": false
    }
   }
  },
  {
   "cell_type": "code",
   "execution_count": 9,
   "outputs": [
    {
     "data": {
      "text/plain": "162.4526541067538"
     },
     "metadata": {},
     "output_type": "execute_result",
     "execution_count": 9
    }
   ],
   "source": [
    "def seppe_error(y_true, y_pred):\n",
    "    return mean_absolute_error(y_true, y_pred, multioutput=[0.5, 0.5])\n",
    "\n",
    "seppe_error(y_test, y_pred)"
   ],
   "metadata": {
    "collapsed": false,
    "pycharm": {
     "name": "#%%\n",
     "is_executing": false
    }
   }
  },
  {
   "cell_type": "code",
   "execution_count": 10,
   "outputs": [
    {
     "name": "stdout",
     "text": [
      "Index(['brand', 'pixels_y', 'screen_surface', 'touchscreen', 'discrete_gpu',\n",
      "       'gpu', 'ram', 'storage', 'cpu_type', 'gpu_brand', 'os_type', 'os_nr',\n",
      "       'resolution', 'gimmick', 'speed', 'Dual-Core', 'Quad-Core', 'Hexa-Core',\n",
      "       'Hyper-Threading'],\n",
      "      dtype='object')\n"
     ],
     "output_type": "stream"
    },
    {
     "data": {
      "text/plain": "Index(['brand', 'pixels_y', 'screen_surface', 'touchscreen', 'discrete_gpu',\n       'gpu', 'ram', 'storage', 'cpu_type', 'gpu_brand', 'os_type', 'os_nr',\n       'resolution', 'gimmick', 'speed', 'Dual-Core', 'Quad-Core', 'Hexa-Core',\n       'Hyper-Threading'],\n      dtype='object')"
     },
     "metadata": {},
     "output_type": "execute_result",
     "execution_count": 10
    }
   ],
   "source": [
    "X_eval = df_test.drop(columns=drop_cols_test, axis=1)\n",
    "print(X_eval.columns)\n",
    "#\n",
    "y_test_pred = rf.predict(X_eval)\n",
    "X_train.columns"
   ],
   "metadata": {
    "collapsed": false,
    "pycharm": {
     "name": "#%%\n",
     "is_executing": false
    }
   }
  },
  {
   "cell_type": "code",
   "execution_count": 11,
   "outputs": [
    {
     "data": {
      "text/plain": "             0            1     id\n0  1132.896800  1206.296700  28807\n1   388.923300   409.383633  22559\n2   801.741400   820.343800  28647\n3   547.434433   562.953433  22141\n4  2192.879300  2226.949000  26116",
      "text/html": "<div>\n<style scoped>\n    .dataframe tbody tr th:only-of-type {\n        vertical-align: middle;\n    }\n\n    .dataframe tbody tr th {\n        vertical-align: top;\n    }\n\n    .dataframe thead th {\n        text-align: right;\n    }\n</style>\n<table border=\"1\" class=\"dataframe\">\n  <thead>\n    <tr style=\"text-align: right;\">\n      <th></th>\n      <th>0</th>\n      <th>1</th>\n      <th>id</th>\n    </tr>\n  </thead>\n  <tbody>\n    <tr>\n      <th>0</th>\n      <td>1132.896800</td>\n      <td>1206.296700</td>\n      <td>28807</td>\n    </tr>\n    <tr>\n      <th>1</th>\n      <td>388.923300</td>\n      <td>409.383633</td>\n      <td>22559</td>\n    </tr>\n    <tr>\n      <th>2</th>\n      <td>801.741400</td>\n      <td>820.343800</td>\n      <td>28647</td>\n    </tr>\n    <tr>\n      <th>3</th>\n      <td>547.434433</td>\n      <td>562.953433</td>\n      <td>22141</td>\n    </tr>\n    <tr>\n      <th>4</th>\n      <td>2192.879300</td>\n      <td>2226.949000</td>\n      <td>26116</td>\n    </tr>\n  </tbody>\n</table>\n</div>"
     },
     "metadata": {},
     "output_type": "execute_result",
     "execution_count": 11
    }
   ],
   "source": [
    "result = pd.DataFrame(y_test_pred)\n",
    "result[\"id\"] = df_test.id.values\n",
    "\n",
    "result.head()"
   ],
   "metadata": {
    "collapsed": false,
    "pycharm": {
     "name": "#%%\n",
     "is_executing": false
    }
   }
  },
  {
   "cell_type": "code",
   "execution_count": 12,
   "outputs": [],
   "source": [
    "result.columns = [\"min_price\", \"max_price\", \"ID\"]\n",
    "result.set_index(keys = 'ID')\n",
    "result = result[[ \"ID\", \"min_price\", \"max_price\"]]\n",
    "result.head()\n",
    "result.to_csv('Data/jeroen_result.csv', index=False)"
   ],
   "metadata": {
    "collapsed": false,
    "pycharm": {
     "name": "#%%\n",
     "is_executing": false
    }
   }
  },
  {
   "cell_type": "code",
   "execution_count": 16,
   "outputs": [
    {
     "name": "stdout",
     "text": [
      "{'classifier__ccp_alpha': 0.01, 'classifier__max_features': 0.15, 'classifier__max_samples': None, 'classifier__min_samples_leaf': 1, 'classifier__n_estimators': 500, 'classifier__oob_score': True}\n",
      "-151.45903496625303\n"
     ],
     "output_type": "stream"
    }
   ],
   "source": [
    "params = {\n",
    "        'classifier__n_estimators':[200, 500,],\n",
    "        'classifier__max_features' : [.15, .3, \"auto\", \"log2\", None],\n",
    "        'classifier__max_samples' : [.1, .2, .5, None],\n",
    "        'classifier__min_samples_leaf' : [1, 5, 10],\n",
    "        'classifier__ccp_alpha' : [0, .01, .1, .2],\n",
    "        'classifier__oob_score' : [True, False]\n",
    "    }\n",
    "scoring = {'Seppe error': make_scorer(seppe_error, greater_is_better=False)}\n",
    "CV = GridSearchCV(rf, params, scoring=make_scorer(seppe_error, greater_is_better=False), cv=3,n_jobs= -1)\n",
    "                  \n",
    "CV.fit(X_train, y_train)\n",
    "print(CV.best_params_)    \n",
    "print(CV.best_score_)"
   ],
   "metadata": {
    "collapsed": false,
    "pycharm": {
     "name": "#%%\n",
     "is_executing": false
    }
   }
  },
  {
   "cell_type": "code",
   "execution_count": 13,
   "outputs": [],
   "source": [
    "\n"
   ],
   "metadata": {
    "collapsed": false,
    "pycharm": {
     "name": "#%%\n",
     "is_executing": false
    }
   }
  }
 ],
 "metadata": {
  "kernelspec": {
   "display_name": "Python 3",
   "language": "python",
   "name": "python3"
  },
  "language_info": {
   "codemirror_mode": {
    "name": "ipython",
    "version": 2
   },
   "file_extension": ".py",
   "mimetype": "text/x-python",
   "name": "python",
   "nbconvert_exporter": "python",
   "pygments_lexer": "ipython2",
   "version": "2.7.6"
  },
  "pycharm": {
   "stem_cell": {
    "cell_type": "raw",
    "source": [],
    "metadata": {
     "collapsed": false
    }
   }
  }
 },
 "nbformat": 4,
 "nbformat_minor": 0
}