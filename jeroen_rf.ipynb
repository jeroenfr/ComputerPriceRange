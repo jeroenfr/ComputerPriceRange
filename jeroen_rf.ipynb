{
 "cells": [
  {
   "cell_type": "code",
   "execution_count": 68,
   "metadata": {
    "collapsed": true,
    "pycharm": {
     "is_executing": false
    }
   },
   "outputs": [],
   "source": [
    "from copy import deepcopy\n",
    "import time\n",
    "import pandas as pd\n",
    "import numpy as np\n",
    "import json\n",
    "from sklearn.compose import ColumnTransformer\n",
    "from sklearn.ensemble import RandomForestRegressor\n",
    "from sklearn.impute import SimpleImputer\n",
    "from sklearn.metrics import mean_absolute_error, make_scorer\n",
    "from sklearn.model_selection import GridSearchCV"
   ]
  },
  {
   "cell_type": "code",
   "source": [
    "from sklearn.pipeline import Pipeline\n",
    "from sklearn.preprocessing import StandardScaler, OneHotEncoder\n",
    "raw_train = pd.read_csv(\"Data/train.csv\")\n",
    "raw_test = pd.read_csv(\"Data/test.csv\")\n",
    "targets = [\"max_price\", \"delta_abs\", \"delta_rel\", \"min_price\"]"
   ],
   "metadata": {
    "collapsed": false,
    "pycharm": {
     "name": "#%%\n",
     "is_executing": false
    }
   },
   "execution_count": 69,
   "outputs": []
  },
  {
   "cell_type": "code",
   "execution_count": 70,
   "outputs": [],
   "source": [
    "def shared_reformat(df):\n",
    "    df = deepcopy(df)\n",
    "    \n",
    "    # create special targets (only on train set)\n",
    "    if \"max_price\" in list(df):\n",
    "        df[\"delta_abs\"] = df[\"max_price\"] - df[\"min_price\"] \n",
    "        df[\"delta_rel\"] = np.log(df[\"max_price\"] / df[\"min_price\"] )\n",
    "    \n",
    "    # deal with missing data\n",
    "    #df.pixels_y = df.pixels_y.fillna(0)\n",
    "    df.detachable_keyboard.fillna(0, inplace = True)  # only four cases. Assume none\n",
    "    df.pixels_x.fillna(1920, inplace = True)   # only 2 cases, replace by most common value\n",
    "    df.pixels_y.fillna(1080, inplace = True)   # only 2 cases, replace by most common value\n",
    "    df.loc[df.screen_surface.isna(), \"screen_surface\"] = 'Glossy'       # 12 cases, large majority is Glossy,\n",
    "    df.loc[df.screen_surface.isna() & df.pixels_x == 1920, \"screen_surface\"] = 'Matte'  # except here\n",
    "    df.sort_values(by=['name'])\n",
    "    df.cpu_details.fillna(method='bfill', inplace=True)  # take previous value, they are often similar\n",
    "    df.gpu.fillna(method='bfill', inplace=True)  # take previous value, they are often similar\n",
    "    df.weight.fillna(method='bfill', inplace=True)\n",
    "    df.loc[df.os.isna() & df.brand == \"Apple\", \"os\"] = 'macOS'  # 1 case\n",
    "    df.loc[df.os_details.isna() & df.brand == \"Apple\", \"os_details\"] = \"macOS Mojave\"  # 1 case, most common\n",
    "    df.loc[df.os.isna() & df.brand == \"Dell\", \"os\"] = 'Windows'  # 1 case\n",
    "    df.loc[df.os_details.isna() & df.brand == \"Dell\", \"os_details\"] = \"Windows 10 Home\"  # 1 case, most common\n",
    "    \n",
    "\n",
    "    # create new features\n",
    "    df[\"cpu_brand\"] = df.cpu.str.split(n=1).str[0]\n",
    "    df[\"cpu_type\"] = df.cpu.str.split(n=1).str[1]\n",
    "    df[\"gpu_brand\"] = df.gpu.str.split(n=1).str[0]\n",
    "    df[\"gpu_series\"] = df.gpu.str.split(n=2).str[1]\n",
    "    df[\"os_type\"] = df.os_details.str.split(n=1).str[1]\n",
    "    df[\"os_nr\"] = df.os_details.str.split(n=2).str[2]\n",
    "    df[\"resolution\"] = df.pixels_y / df.screen_size\n",
    "    df[\"gimmick\"] = df.detachable_keyboard + 5 * df.discrete_gpu + 3* df.touchscreen\n",
    "    def get_speed(sentence):\n",
    "        try:\n",
    "            sentence = sentence.split()\n",
    "            index = sentence.index('GHz')\n",
    "            return pow(float(sentence[index-1]),2)\n",
    "        except:\n",
    "            return pow(2.4, 2)\n",
    "    df[\"speed\"] = df.cpu_details.apply(get_speed)\n",
    "    def has_word(sentence, word):\n",
    "        try:\n",
    "            return word in sentence\n",
    "        except:\n",
    "            return False\n",
    "    df[\"Dual-Core\"] = df.cpu_details.apply(has_word, word=\"Dual-Core\")\n",
    "    df[\"Quad-Core\"] = df.cpu_details.apply(has_word, word=\"Quad-Core\")\n",
    "    df[\"Hexa-Core\"] = df.cpu_details.apply(has_word, word=\"Hexa-Core\")\n",
    "    df[\"Hyper-Threading\"] = df.cpu_details.apply(has_word, word=\"Hyper-Threading\")\n",
    "    \n",
    "    \n",
    "    # correct a few mistakes in new features\n",
    "    map_gpu_series = {\"GeFoce\":\"GeForce\", \"RadeonÂ\": \"Radeon\"}\n",
    "    df.gpu_series = df.gpu_series.replace(map_gpu_series) \n",
    "    map_screen_surface = {\"glossy\":\"Glossy\", \"matte\":\"Matte\"}\n",
    "    df.screen_surface = df.screen_surface.replace(map_screen_surface)  \n",
    "\n",
    "    \n",
    "    # make sure all values in categorical variables are strings\n",
    "    cat_col = df.select_dtypes(include=['object']).columns\n",
    "    df[cat_col] = df[cat_col].astype(str)\n",
    "    \n",
    "    # cleanup test set\n",
    "    df.pixels_y = df.pixels_y.astype('int64')\n",
    "    \n",
    "    # shuffle the database\n",
    "    df.sample(frac=1)\n",
    "    return df\n"
   ],
   "metadata": {
    "collapsed": false,
    "pycharm": {
     "name": "#%%\n",
     "is_executing": false
    }
   }
  },
  {
   "cell_type": "code",
   "execution_count": 71,
   "outputs": [
    {
     "name": "stderr",
     "text": [
      "C:\\ProgramData\\Anaconda3\\envs\\ComputerPriceRange\\lib\\site-packages\\pandas\\core\\ops\\array_ops.py:253: FutureWarning: elementwise comparison failed; returning scalar instead, but in the future will perform elementwise comparison\n",
      "  res_values = method(rvalues)\n"
     ],
     "output_type": "stream"
    }
   ],
   "source": [
    "df_train = shared_reformat(raw_train)\n",
    "df_test = shared_reformat(raw_test)"
   ],
   "metadata": {
    "collapsed": false,
    "pycharm": {
     "name": "#%%\n",
     "is_executing": false
    }
   }
  },
  {
   "cell_type": "code",
   "execution_count": 72,
   "outputs": [
    {
     "data": {
      "text/plain": "    brand  pixels_y screen_surface  touchscreen  discrete_gpu  \\\n0  Lenovo      1080         Glossy            1             0   \n1   Razer      1080          Matte            0             1   \n\n                             gpu  ram  storage  min_price  max_price  ...  \\\n0                       Intel HD    8     1000     899.00     899.00  ...   \n1  NVIDIA GeForce RTX 2070 Max-Q   16      512    2099.99    2099.99  ...   \n\n   gpu_brand  os_type os_nr resolution gimmick speed  Dual-Core  Quad-Core  \\\n0      Intel       10   nan  69.230769     3.0  5.76       True      False   \n1     NVIDIA  10 Home  Home  69.230769     5.0  4.84      False      False   \n\n   Hexa-Core  Hyper-Threading  \n0      False             True  \n1       True             True  \n\n[2 rows x 23 columns]",
      "text/html": "<div>\n<style scoped>\n    .dataframe tbody tr th:only-of-type {\n        vertical-align: middle;\n    }\n\n    .dataframe tbody tr th {\n        vertical-align: top;\n    }\n\n    .dataframe thead th {\n        text-align: right;\n    }\n</style>\n<table border=\"1\" class=\"dataframe\">\n  <thead>\n    <tr style=\"text-align: right;\">\n      <th></th>\n      <th>brand</th>\n      <th>pixels_y</th>\n      <th>screen_surface</th>\n      <th>touchscreen</th>\n      <th>discrete_gpu</th>\n      <th>gpu</th>\n      <th>ram</th>\n      <th>storage</th>\n      <th>min_price</th>\n      <th>max_price</th>\n      <th>...</th>\n      <th>gpu_brand</th>\n      <th>os_type</th>\n      <th>os_nr</th>\n      <th>resolution</th>\n      <th>gimmick</th>\n      <th>speed</th>\n      <th>Dual-Core</th>\n      <th>Quad-Core</th>\n      <th>Hexa-Core</th>\n      <th>Hyper-Threading</th>\n    </tr>\n  </thead>\n  <tbody>\n    <tr>\n      <th>0</th>\n      <td>Lenovo</td>\n      <td>1080</td>\n      <td>Glossy</td>\n      <td>1</td>\n      <td>0</td>\n      <td>Intel HD</td>\n      <td>8</td>\n      <td>1000</td>\n      <td>899.00</td>\n      <td>899.00</td>\n      <td>...</td>\n      <td>Intel</td>\n      <td>10</td>\n      <td>nan</td>\n      <td>69.230769</td>\n      <td>3.0</td>\n      <td>5.76</td>\n      <td>True</td>\n      <td>False</td>\n      <td>False</td>\n      <td>True</td>\n    </tr>\n    <tr>\n      <th>1</th>\n      <td>Razer</td>\n      <td>1080</td>\n      <td>Matte</td>\n      <td>0</td>\n      <td>1</td>\n      <td>NVIDIA GeForce RTX 2070 Max-Q</td>\n      <td>16</td>\n      <td>512</td>\n      <td>2099.99</td>\n      <td>2099.99</td>\n      <td>...</td>\n      <td>NVIDIA</td>\n      <td>10 Home</td>\n      <td>Home</td>\n      <td>69.230769</td>\n      <td>5.0</td>\n      <td>4.84</td>\n      <td>False</td>\n      <td>False</td>\n      <td>True</td>\n      <td>True</td>\n    </tr>\n  </tbody>\n</table>\n<p>2 rows × 23 columns</p>\n</div>"
     },
     "metadata": {},
     "output_type": "execute_result",
     "execution_count": 72
    }
   ],
   "source": [
    "drop_cols=[\"id\", \"name\", \"base_name\", \"screen_size\", \"weight\", \"detachable_keyboard\", \"gpu_series\",\n",
    "              \"ssd\", \"pixels_x\", \"cpu_details\", \"os_details\", \"cpu_brand\", \"cpu\", \"os\"]\n",
    "df_rf = df_train.drop(columns=drop_cols)\n",
    "df_rf.head(2)\n",
    "\n"
   ],
   "metadata": {
    "collapsed": false,
    "pycharm": {
     "name": "#%%\n",
     "is_executing": false
    }
   }
  },
  {
   "cell_type": "code",
   "execution_count": 73,
   "outputs": [],
   "source": [
    "def seppe_error(Y1_true, Y1_pred, Y2_true, Y2_pred):\n",
    "    return (mean_absolute_error(Y1_true, Y1_pred) + mean_absolute_error(Y2_true, Y2_pred)) / 2"
   ],
   "metadata": {
    "collapsed": false,
    "pycharm": {
     "name": "#%%\n",
     "is_executing": false
    }
   }
  },
  {
   "cell_type": "code",
   "execution_count": 74,
   "outputs": [],
   "source": [
    "def runRFR(X,y):\n",
    "    \n",
    "    rfr = RandomForestRegressor(X,y)\n",
    "    \n",
    "    params = dict(\n",
    "        n_estimators=[100, 300, 500, 1000],\n",
    "        max_features = [.1, .2, .5, \"auto\", \"log2\"],\n",
    "        min_samples_leaf = [1, 5, 10]\n",
    "    )\n",
    "    \n",
    "    print(\"Parameters used for tuning:\")\n",
    "    for key in params:\n",
    "        print(\"{:20}: {}\".format(key, params[key]))\n",
    "        print(\"\")\n",
    "  \n",
    " \n",
    "\n",
    "    start_time = time.time()\n",
    "    print(\"Start hyper parameters tuning...\")\n",
    "    algorithm = GridSearchCV(rfr, params, scoring=make_scorer(seppe_error, greater_is_better=False), cv=3, n_jobs=-1)\n",
    "    #algorithm = RandomizedSearchCV(isolation_forest, param_distributions=params, scoring=scorer, cv=5, n_iter=20, n_jobs=-1)\n",
    "    algorithm.fit(X,y)\n",
    "    seconds = time.time() - start_time\n",
    "    minutes, seconds = divmod(seconds, 60)\n",
    "    print(\"Hyper parameters tuning done in {:.2f} minutes and {:.2f} secondes\".format(minutes, seconds))\n",
    "\n",
    "    print(\"{}:\\n{}\".format(\"Best parameters found\", json.dumps(algorithm.best_params_, indent=2)))\n",
    "    \n",
    "    return algorithm.predict(X)"
   ],
   "metadata": {
    "collapsed": false,
    "pycharm": {
     "name": "#%%\n",
     "is_executing": false
    }
   }
  },
  {
   "cell_type": "code",
   "execution_count": 75,
   "outputs": [],
   "source": [
    "def create_preprocessor(df_pp, categories):\n",
    "    #global categories\n",
    "    numeric_transformer = Pipeline(steps=[\n",
    "        ('imputer', SimpleImputer(strategy='median')),\n",
    "        ('scaler', StandardScaler())\n",
    "        ])\n",
    "    categorical_transformer = Pipeline(steps=[\n",
    "        ('imputer', SimpleImputer(strategy='constant', fill_value='missing')),\n",
    "        #('ordinal', OrdinalEncoder(categories=categories)),\n",
    "        #('scaler', StandardScaler())\n",
    "        ('onehot', OneHotEncoder(categories=categories, handle_unknown=\"ignore\")),   \n",
    "        ])\n",
    "\n",
    "    numeric_features = df_pp.select_dtypes(include=['int64', 'float64', 'boolean']).columns\n",
    "    categorical_features = df_pp.select_dtypes(include=['object']).columns\n",
    "    \n",
    "    preprocessor = ColumnTransformer(\n",
    "        transformers=[\n",
    "            ('num', numeric_transformer, numeric_features),\n",
    "            ('cat', categorical_transformer, categorical_features)\n",
    "        ])\n",
    "    return preprocessor"
   ],
   "metadata": {
    "collapsed": false,
    "pycharm": {
     "name": "#%%\n",
     "is_executing": false
    }
   }
  },
  {
   "cell_type": "code",
   "execution_count": 102,
   "outputs": [
    {
     "name": "stdout",
     "text": [
      "Index(['pixels_y', 'touchscreen', 'discrete_gpu', 'ram', 'storage',\n",
      "       'min_price', 'max_price', 'delta_abs', 'delta_rel', 'resolution',\n",
      "       'gimmick', 'speed', 'Dual-Core', 'Quad-Core', 'Hexa-Core',\n",
      "       'Hyper-Threading'],\n",
      "      dtype='object')\n"
     ],
     "output_type": "stream"
    }
   ],
   "source": [
    "def preprocessData(df):\n",
    "    numerics = df.select_dtypes(include=['int32','int64', 'float32', 'float64', 'boolean']).columns\n",
    "    categoricals = df.select_dtypes(include=['object']).columns\n",
    "    print(numerics)\n",
    "    num_imputer = SimpleImputer(missing_values=np.nan, strategy='median')\n",
    "    num_imputer.fit_transform(df[numerics])\n",
    "    num_scaler = StandardScaler()\n",
    "    num_scaler.fit_transform(df[numerics])\n",
    "    \n",
    "    cat_imputer = SimpleImputer(strategy='constant', fill_value='')\n",
    "    cat_imputer.fit_transform(df[categoricals])\n",
    "    cat_ohe = OneHotEncoder(categories = 'auto', handle_unknown=\"ignore\")\n",
    "    cat_ohe.fit_transform(df[categoricals])\n",
    "    return df\n",
    "\n",
    "\n",
    "#df_pp = preprocessData(df_rf)"
   ],
   "metadata": {
    "collapsed": false,
    "pycharm": {
     "name": "#%%\n",
     "is_executing": false
    }
   }
  },
  {
   "cell_type": "code",
   "execution_count": 109,
   "outputs": [
    {
     "name": "stdout",
     "text": [
      "Index(['pixels_y', 'touchscreen', 'discrete_gpu', 'ram', 'storage',\n",
      "       'delta_abs', 'delta_rel', 'resolution', 'gimmick', 'speed', 'Dual-Core',\n",
      "       'Quad-Core', 'Hexa-Core', 'Hyper-Threading'],\n",
      "      dtype='object')\n"
     ],
     "output_type": "stream"
    },
    {
     "data": {
      "text/plain": "      brand  pixels_y screen_surface  touchscreen  discrete_gpu  \\\n0    Lenovo      1080         Glossy            1             0   \n1     Razer      1080          Matte            0             1   \n2        HP       768         Glossy            0             0   \n3      Acer      1080          Matte            0             0   \n4        HP       900         Glossy            0             0   \n..      ...       ...            ...          ...           ...   \n505    Dell       768         Glossy            1             0   \n506    Asus      1080          Matte            0             1   \n507    Asus      1080          Matte            0             0   \n508      HP       900         Glossy            0             0   \n509   Other      1080          Matte            0             1   \n\n                               gpu  ram  storage  delta_abs  delta_rel  ...  \\\n0                         Intel HD    8     1000       0.00   0.000000  ...   \n1    NVIDIA GeForce RTX 2070 Max-Q   16      512       0.00   0.000000  ...   \n2                    AMD Radeon R4    8      500      10.00   0.022523  ...   \n3                    Intel UHD 620    6     1000      74.00   0.180097  ...   \n4                     Intel HD 620    8     1000       0.00   0.000000  ...   \n..                             ...  ...      ...        ...        ...  ...   \n505                  Intel HD 4400    4      500       0.00   0.000000  ...   \n506        NVIDIA GeForce GTX 1070   12     1128       0.00   0.000000  ...   \n507                  Intel UHD 620    8     1128     169.98   0.292645  ...   \n508                   Intel HD 620    8     1000       0.00   0.000000  ...   \n509        NVIDIA GeForce RTX 2070   32     1500      40.00   0.023825  ...   \n\n    gpu_brand  os_type os_nr resolution  gimmick  speed  Dual-Core  Quad-Core  \\\n0       Intel       10   nan  69.230769      3.0   5.76       True      False   \n1      NVIDIA  10 Home  Home  69.230769      5.0   4.84      False      False   \n2         AMD       10   nan  49.230769      0.0   6.25       True      False   \n3       Intel  10 Home  Home  69.230769      0.0   4.84       True      False   \n4       Intel       10   nan  52.023121      0.0   6.25       True      False   \n..        ...      ...   ...        ...      ...    ...        ...        ...   \n505     Intel      8.1   nan  49.230769      3.0   3.61       True      False   \n506    NVIDIA  10 Home  Home  62.427746      5.0   7.84      False       True   \n507     Intel  10 Home  Home  69.230769      0.0   2.56      False       True   \n508     Intel       10   nan  52.023121      0.0   6.25       True      False   \n509    NVIDIA  10 Home  Home  69.230769      5.0   6.76      False      False   \n\n     Hexa-Core  Hyper-Threading  \n0        False             True  \n1         True             True  \n2        False            False  \n3        False             True  \n4        False             True  \n..         ...              ...  \n505      False             True  \n506      False             True  \n507      False             True  \n508      False             True  \n509       True             True  \n\n[510 rows x 21 columns]",
      "text/html": "<div>\n<style scoped>\n    .dataframe tbody tr th:only-of-type {\n        vertical-align: middle;\n    }\n\n    .dataframe tbody tr th {\n        vertical-align: top;\n    }\n\n    .dataframe thead th {\n        text-align: right;\n    }\n</style>\n<table border=\"1\" class=\"dataframe\">\n  <thead>\n    <tr style=\"text-align: right;\">\n      <th></th>\n      <th>brand</th>\n      <th>pixels_y</th>\n      <th>screen_surface</th>\n      <th>touchscreen</th>\n      <th>discrete_gpu</th>\n      <th>gpu</th>\n      <th>ram</th>\n      <th>storage</th>\n      <th>delta_abs</th>\n      <th>delta_rel</th>\n      <th>...</th>\n      <th>gpu_brand</th>\n      <th>os_type</th>\n      <th>os_nr</th>\n      <th>resolution</th>\n      <th>gimmick</th>\n      <th>speed</th>\n      <th>Dual-Core</th>\n      <th>Quad-Core</th>\n      <th>Hexa-Core</th>\n      <th>Hyper-Threading</th>\n    </tr>\n  </thead>\n  <tbody>\n    <tr>\n      <th>0</th>\n      <td>Lenovo</td>\n      <td>1080</td>\n      <td>Glossy</td>\n      <td>1</td>\n      <td>0</td>\n      <td>Intel HD</td>\n      <td>8</td>\n      <td>1000</td>\n      <td>0.00</td>\n      <td>0.000000</td>\n      <td>...</td>\n      <td>Intel</td>\n      <td>10</td>\n      <td>nan</td>\n      <td>69.230769</td>\n      <td>3.0</td>\n      <td>5.76</td>\n      <td>True</td>\n      <td>False</td>\n      <td>False</td>\n      <td>True</td>\n    </tr>\n    <tr>\n      <th>1</th>\n      <td>Razer</td>\n      <td>1080</td>\n      <td>Matte</td>\n      <td>0</td>\n      <td>1</td>\n      <td>NVIDIA GeForce RTX 2070 Max-Q</td>\n      <td>16</td>\n      <td>512</td>\n      <td>0.00</td>\n      <td>0.000000</td>\n      <td>...</td>\n      <td>NVIDIA</td>\n      <td>10 Home</td>\n      <td>Home</td>\n      <td>69.230769</td>\n      <td>5.0</td>\n      <td>4.84</td>\n      <td>False</td>\n      <td>False</td>\n      <td>True</td>\n      <td>True</td>\n    </tr>\n    <tr>\n      <th>2</th>\n      <td>HP</td>\n      <td>768</td>\n      <td>Glossy</td>\n      <td>0</td>\n      <td>0</td>\n      <td>AMD Radeon R4</td>\n      <td>8</td>\n      <td>500</td>\n      <td>10.00</td>\n      <td>0.022523</td>\n      <td>...</td>\n      <td>AMD</td>\n      <td>10</td>\n      <td>nan</td>\n      <td>49.230769</td>\n      <td>0.0</td>\n      <td>6.25</td>\n      <td>True</td>\n      <td>False</td>\n      <td>False</td>\n      <td>False</td>\n    </tr>\n    <tr>\n      <th>3</th>\n      <td>Acer</td>\n      <td>1080</td>\n      <td>Matte</td>\n      <td>0</td>\n      <td>0</td>\n      <td>Intel UHD 620</td>\n      <td>6</td>\n      <td>1000</td>\n      <td>74.00</td>\n      <td>0.180097</td>\n      <td>...</td>\n      <td>Intel</td>\n      <td>10 Home</td>\n      <td>Home</td>\n      <td>69.230769</td>\n      <td>0.0</td>\n      <td>4.84</td>\n      <td>True</td>\n      <td>False</td>\n      <td>False</td>\n      <td>True</td>\n    </tr>\n    <tr>\n      <th>4</th>\n      <td>HP</td>\n      <td>900</td>\n      <td>Glossy</td>\n      <td>0</td>\n      <td>0</td>\n      <td>Intel HD 620</td>\n      <td>8</td>\n      <td>1000</td>\n      <td>0.00</td>\n      <td>0.000000</td>\n      <td>...</td>\n      <td>Intel</td>\n      <td>10</td>\n      <td>nan</td>\n      <td>52.023121</td>\n      <td>0.0</td>\n      <td>6.25</td>\n      <td>True</td>\n      <td>False</td>\n      <td>False</td>\n      <td>True</td>\n    </tr>\n    <tr>\n      <th>...</th>\n      <td>...</td>\n      <td>...</td>\n      <td>...</td>\n      <td>...</td>\n      <td>...</td>\n      <td>...</td>\n      <td>...</td>\n      <td>...</td>\n      <td>...</td>\n      <td>...</td>\n      <td>...</td>\n      <td>...</td>\n      <td>...</td>\n      <td>...</td>\n      <td>...</td>\n      <td>...</td>\n      <td>...</td>\n      <td>...</td>\n      <td>...</td>\n      <td>...</td>\n      <td>...</td>\n    </tr>\n    <tr>\n      <th>505</th>\n      <td>Dell</td>\n      <td>768</td>\n      <td>Glossy</td>\n      <td>1</td>\n      <td>0</td>\n      <td>Intel HD 4400</td>\n      <td>4</td>\n      <td>500</td>\n      <td>0.00</td>\n      <td>0.000000</td>\n      <td>...</td>\n      <td>Intel</td>\n      <td>8.1</td>\n      <td>nan</td>\n      <td>49.230769</td>\n      <td>3.0</td>\n      <td>3.61</td>\n      <td>True</td>\n      <td>False</td>\n      <td>False</td>\n      <td>True</td>\n    </tr>\n    <tr>\n      <th>506</th>\n      <td>Asus</td>\n      <td>1080</td>\n      <td>Matte</td>\n      <td>0</td>\n      <td>1</td>\n      <td>NVIDIA GeForce GTX 1070</td>\n      <td>12</td>\n      <td>1128</td>\n      <td>0.00</td>\n      <td>0.000000</td>\n      <td>...</td>\n      <td>NVIDIA</td>\n      <td>10 Home</td>\n      <td>Home</td>\n      <td>62.427746</td>\n      <td>5.0</td>\n      <td>7.84</td>\n      <td>False</td>\n      <td>True</td>\n      <td>False</td>\n      <td>True</td>\n    </tr>\n    <tr>\n      <th>507</th>\n      <td>Asus</td>\n      <td>1080</td>\n      <td>Matte</td>\n      <td>0</td>\n      <td>0</td>\n      <td>Intel UHD 620</td>\n      <td>8</td>\n      <td>1128</td>\n      <td>169.98</td>\n      <td>0.292645</td>\n      <td>...</td>\n      <td>Intel</td>\n      <td>10 Home</td>\n      <td>Home</td>\n      <td>69.230769</td>\n      <td>0.0</td>\n      <td>2.56</td>\n      <td>False</td>\n      <td>True</td>\n      <td>False</td>\n      <td>True</td>\n    </tr>\n    <tr>\n      <th>508</th>\n      <td>HP</td>\n      <td>900</td>\n      <td>Glossy</td>\n      <td>0</td>\n      <td>0</td>\n      <td>Intel HD 620</td>\n      <td>8</td>\n      <td>1000</td>\n      <td>0.00</td>\n      <td>0.000000</td>\n      <td>...</td>\n      <td>Intel</td>\n      <td>10</td>\n      <td>nan</td>\n      <td>52.023121</td>\n      <td>0.0</td>\n      <td>6.25</td>\n      <td>True</td>\n      <td>False</td>\n      <td>False</td>\n      <td>True</td>\n    </tr>\n    <tr>\n      <th>509</th>\n      <td>Other</td>\n      <td>1080</td>\n      <td>Matte</td>\n      <td>0</td>\n      <td>1</td>\n      <td>NVIDIA GeForce RTX 2070</td>\n      <td>32</td>\n      <td>1500</td>\n      <td>40.00</td>\n      <td>0.023825</td>\n      <td>...</td>\n      <td>NVIDIA</td>\n      <td>10 Home</td>\n      <td>Home</td>\n      <td>69.230769</td>\n      <td>5.0</td>\n      <td>6.76</td>\n      <td>False</td>\n      <td>False</td>\n      <td>True</td>\n      <td>True</td>\n    </tr>\n  </tbody>\n</table>\n<p>510 rows × 21 columns</p>\n</div>"
     },
     "metadata": {},
     "output_type": "execute_result",
     "execution_count": 109
    }
   ],
   "source": [
    "\n",
    "X = df_pp.drop(columns=[\"min_price\", \"max_price\"])\n",
    "y = df_pp[[\"min_price\", \"max_price\"]]\n",
    "y.head(2)\n",
    "X.head(2)#\n",
    "#y_pred = runRFR(X,y)\n",
    "\n",
    "preprocessData(X)"
   ],
   "metadata": {
    "collapsed": false,
    "pycharm": {
     "name": "#%%\n",
     "is_executing": false
    }
   }
  },
  {
   "cell_type": "code",
   "execution_count": 110,
   "outputs": [
    {
     "data": {
      "text/plain": "     pixels_y  touchscreen  discrete_gpu  ram  storage  delta_abs  delta_rel  \\\n0        1080            1             0    8     1000       0.00   0.000000   \n1        1080            0             1   16      512       0.00   0.000000   \n2         768            0             0    8      500      10.00   0.022523   \n3        1080            0             0    6     1000      74.00   0.180097   \n4         900            0             0    8     1000       0.00   0.000000   \n..        ...          ...           ...  ...      ...        ...        ...   \n505       768            1             0    4      500       0.00   0.000000   \n506      1080            0             1   12     1128       0.00   0.000000   \n507      1080            0             0    8     1128     169.98   0.292645   \n508       900            0             0    8     1000       0.00   0.000000   \n509      1080            0             1   32     1500      40.00   0.023825   \n\n     resolution  gimmick  speed  ...  os_nr_Home Signature Edition  os_nr_IoT  \\\n0     69.230769      3.0   5.76  ...                             0          0   \n1     69.230769      5.0   4.84  ...                             0          0   \n2     49.230769      0.0   6.25  ...                             0          0   \n3     69.230769      0.0   4.84  ...                             0          0   \n4     52.023121      0.0   6.25  ...                             0          0   \n..          ...      ...    ...  ...                           ...        ...   \n505   49.230769      3.0   3.61  ...                             0          0   \n506   62.427746      5.0   7.84  ...                             0          0   \n507   69.230769      0.0   2.56  ...                             0          0   \n508   52.023121      0.0   6.25  ...                             0          0   \n509   69.230769      5.0   6.76  ...                             0          0   \n\n     os_nr_Lion  os_nr_Mavericks  os_nr_Pro  os_nr_S  os_nr_Sierra  \\\n0             0                0          0        0             0   \n1             0                0          0        0             0   \n2             0                0          0        0             0   \n3             0                0          0        0             0   \n4             0                0          0        0             0   \n..          ...              ...        ...      ...           ...   \n505           0                0          0        0             0   \n506           0                0          0        0             0   \n507           0                0          0        0             0   \n508           0                0          0        0             0   \n509           0                0          0        0             0   \n\n     os_nr_X Lion  os_nr_Yosemite  os_nr_nan  \n0               0               0          1  \n1               0               0          0  \n2               0               0          1  \n3               0               0          0  \n4               0               0          1  \n..            ...             ...        ...  \n505             0               0          1  \n506             0               0          0  \n507             0               0          0  \n508             0               0          1  \n509             0               0          0  \n\n[510 rows x 167 columns]",
      "text/html": "<div>\n<style scoped>\n    .dataframe tbody tr th:only-of-type {\n        vertical-align: middle;\n    }\n\n    .dataframe tbody tr th {\n        vertical-align: top;\n    }\n\n    .dataframe thead th {\n        text-align: right;\n    }\n</style>\n<table border=\"1\" class=\"dataframe\">\n  <thead>\n    <tr style=\"text-align: right;\">\n      <th></th>\n      <th>pixels_y</th>\n      <th>touchscreen</th>\n      <th>discrete_gpu</th>\n      <th>ram</th>\n      <th>storage</th>\n      <th>delta_abs</th>\n      <th>delta_rel</th>\n      <th>resolution</th>\n      <th>gimmick</th>\n      <th>speed</th>\n      <th>...</th>\n      <th>os_nr_Home Signature Edition</th>\n      <th>os_nr_IoT</th>\n      <th>os_nr_Lion</th>\n      <th>os_nr_Mavericks</th>\n      <th>os_nr_Pro</th>\n      <th>os_nr_S</th>\n      <th>os_nr_Sierra</th>\n      <th>os_nr_X Lion</th>\n      <th>os_nr_Yosemite</th>\n      <th>os_nr_nan</th>\n    </tr>\n  </thead>\n  <tbody>\n    <tr>\n      <th>0</th>\n      <td>1080</td>\n      <td>1</td>\n      <td>0</td>\n      <td>8</td>\n      <td>1000</td>\n      <td>0.00</td>\n      <td>0.000000</td>\n      <td>69.230769</td>\n      <td>3.0</td>\n      <td>5.76</td>\n      <td>...</td>\n      <td>0</td>\n      <td>0</td>\n      <td>0</td>\n      <td>0</td>\n      <td>0</td>\n      <td>0</td>\n      <td>0</td>\n      <td>0</td>\n      <td>0</td>\n      <td>1</td>\n    </tr>\n    <tr>\n      <th>1</th>\n      <td>1080</td>\n      <td>0</td>\n      <td>1</td>\n      <td>16</td>\n      <td>512</td>\n      <td>0.00</td>\n      <td>0.000000</td>\n      <td>69.230769</td>\n      <td>5.0</td>\n      <td>4.84</td>\n      <td>...</td>\n      <td>0</td>\n      <td>0</td>\n      <td>0</td>\n      <td>0</td>\n      <td>0</td>\n      <td>0</td>\n      <td>0</td>\n      <td>0</td>\n      <td>0</td>\n      <td>0</td>\n    </tr>\n    <tr>\n      <th>2</th>\n      <td>768</td>\n      <td>0</td>\n      <td>0</td>\n      <td>8</td>\n      <td>500</td>\n      <td>10.00</td>\n      <td>0.022523</td>\n      <td>49.230769</td>\n      <td>0.0</td>\n      <td>6.25</td>\n      <td>...</td>\n      <td>0</td>\n      <td>0</td>\n      <td>0</td>\n      <td>0</td>\n      <td>0</td>\n      <td>0</td>\n      <td>0</td>\n      <td>0</td>\n      <td>0</td>\n      <td>1</td>\n    </tr>\n    <tr>\n      <th>3</th>\n      <td>1080</td>\n      <td>0</td>\n      <td>0</td>\n      <td>6</td>\n      <td>1000</td>\n      <td>74.00</td>\n      <td>0.180097</td>\n      <td>69.230769</td>\n      <td>0.0</td>\n      <td>4.84</td>\n      <td>...</td>\n      <td>0</td>\n      <td>0</td>\n      <td>0</td>\n      <td>0</td>\n      <td>0</td>\n      <td>0</td>\n      <td>0</td>\n      <td>0</td>\n      <td>0</td>\n      <td>0</td>\n    </tr>\n    <tr>\n      <th>4</th>\n      <td>900</td>\n      <td>0</td>\n      <td>0</td>\n      <td>8</td>\n      <td>1000</td>\n      <td>0.00</td>\n      <td>0.000000</td>\n      <td>52.023121</td>\n      <td>0.0</td>\n      <td>6.25</td>\n      <td>...</td>\n      <td>0</td>\n      <td>0</td>\n      <td>0</td>\n      <td>0</td>\n      <td>0</td>\n      <td>0</td>\n      <td>0</td>\n      <td>0</td>\n      <td>0</td>\n      <td>1</td>\n    </tr>\n    <tr>\n      <th>...</th>\n      <td>...</td>\n      <td>...</td>\n      <td>...</td>\n      <td>...</td>\n      <td>...</td>\n      <td>...</td>\n      <td>...</td>\n      <td>...</td>\n      <td>...</td>\n      <td>...</td>\n      <td>...</td>\n      <td>...</td>\n      <td>...</td>\n      <td>...</td>\n      <td>...</td>\n      <td>...</td>\n      <td>...</td>\n      <td>...</td>\n      <td>...</td>\n      <td>...</td>\n      <td>...</td>\n    </tr>\n    <tr>\n      <th>505</th>\n      <td>768</td>\n      <td>1</td>\n      <td>0</td>\n      <td>4</td>\n      <td>500</td>\n      <td>0.00</td>\n      <td>0.000000</td>\n      <td>49.230769</td>\n      <td>3.0</td>\n      <td>3.61</td>\n      <td>...</td>\n      <td>0</td>\n      <td>0</td>\n      <td>0</td>\n      <td>0</td>\n      <td>0</td>\n      <td>0</td>\n      <td>0</td>\n      <td>0</td>\n      <td>0</td>\n      <td>1</td>\n    </tr>\n    <tr>\n      <th>506</th>\n      <td>1080</td>\n      <td>0</td>\n      <td>1</td>\n      <td>12</td>\n      <td>1128</td>\n      <td>0.00</td>\n      <td>0.000000</td>\n      <td>62.427746</td>\n      <td>5.0</td>\n      <td>7.84</td>\n      <td>...</td>\n      <td>0</td>\n      <td>0</td>\n      <td>0</td>\n      <td>0</td>\n      <td>0</td>\n      <td>0</td>\n      <td>0</td>\n      <td>0</td>\n      <td>0</td>\n      <td>0</td>\n    </tr>\n    <tr>\n      <th>507</th>\n      <td>1080</td>\n      <td>0</td>\n      <td>0</td>\n      <td>8</td>\n      <td>1128</td>\n      <td>169.98</td>\n      <td>0.292645</td>\n      <td>69.230769</td>\n      <td>0.0</td>\n      <td>2.56</td>\n      <td>...</td>\n      <td>0</td>\n      <td>0</td>\n      <td>0</td>\n      <td>0</td>\n      <td>0</td>\n      <td>0</td>\n      <td>0</td>\n      <td>0</td>\n      <td>0</td>\n      <td>0</td>\n    </tr>\n    <tr>\n      <th>508</th>\n      <td>900</td>\n      <td>0</td>\n      <td>0</td>\n      <td>8</td>\n      <td>1000</td>\n      <td>0.00</td>\n      <td>0.000000</td>\n      <td>52.023121</td>\n      <td>0.0</td>\n      <td>6.25</td>\n      <td>...</td>\n      <td>0</td>\n      <td>0</td>\n      <td>0</td>\n      <td>0</td>\n      <td>0</td>\n      <td>0</td>\n      <td>0</td>\n      <td>0</td>\n      <td>0</td>\n      <td>1</td>\n    </tr>\n    <tr>\n      <th>509</th>\n      <td>1080</td>\n      <td>0</td>\n      <td>1</td>\n      <td>32</td>\n      <td>1500</td>\n      <td>40.00</td>\n      <td>0.023825</td>\n      <td>69.230769</td>\n      <td>5.0</td>\n      <td>6.76</td>\n      <td>...</td>\n      <td>0</td>\n      <td>0</td>\n      <td>0</td>\n      <td>0</td>\n      <td>0</td>\n      <td>0</td>\n      <td>0</td>\n      <td>0</td>\n      <td>0</td>\n      <td>0</td>\n    </tr>\n  </tbody>\n</table>\n<p>510 rows × 167 columns</p>\n</div>"
     },
     "metadata": {},
     "output_type": "execute_result",
     "execution_count": 110
    }
   ],
   "source": [
    "pd.get_dummies(X)"
   ],
   "metadata": {
    "collapsed": false,
    "pycharm": {
     "name": "#%%\n",
     "is_executing": false
    }
   }
  },
  {
   "cell_type": "code",
   "execution_count": 101,
   "outputs": [
    {
     "data": {
      "text/plain": "array(['x0_Acer', 'x0_Alienware', 'x0_Apple', 'x0_Asus', 'x0_Dell',\n       'x0_Google', 'x0_HP', 'x0_Huawei', 'x0_Jumper', 'x0_LG',\n       'x0_Lenovo', 'x0_MSI', 'x0_Microsoft', 'x0_Other', 'x0_RCA',\n       'x0_Razer', 'x0_Samsung', 'x0_Toshiba', 'x1_Glossy', 'x1_Matte',\n       'x2_AMD Radeon Pro 5500M', 'x2_AMD Radeon Pro 555X',\n       'x2_AMD Radeon R2', 'x2_AMD Radeon R4', 'x2_AMD Radeon R5',\n       'x2_AMD Radeon R6', 'x2_AMD Radeon R7', 'x2_AMD Radeon RX 560X',\n       'x2_AMD Radeon Vega 10', 'x2_AMD Radeon Vega 3',\n       'x2_AMD Radeon Vega 6', 'x2_AMD Radeon Vega 8',\n       'x2_AMD RadeonÂ\\xa0R4', 'x2_Imagination PowerVR GX6250',\n       'x2_Intel HD', 'x2_Intel HD (UMA)', 'x2_Intel HD 3000',\n       'x2_Intel HD 400', 'x2_Intel HD 4000', 'x2_Intel HD 405',\n       'x2_Intel HD 4200', 'x2_Intel HD 4400', 'x2_Intel HD 500',\n       'x2_Intel HD 5000', 'x2_Intel HD 505', 'x2_Intel HD 510',\n       'x2_Intel HD 515', 'x2_Intel HD 520', 'x2_Intel HD 5500',\n       'x2_Intel HD 6000', 'x2_Intel HD 615', 'x2_Intel HD 620',\n       'x2_Intel Iris 5100', 'x2_Intel Iris 540', 'x2_Intel Iris Plus',\n       'x2_Intel Iris Plus 640', 'x2_Intel Iris Plus 645',\n       'x2_Intel Iris Plus 655', 'x2_Intel UHD', 'x2_Intel UHD 600',\n       'x2_Intel UHD 605', 'x2_Intel UHD 615', 'x2_Intel UHD 617',\n       'x2_Intel UHD 620', 'x2_Mali-T860 MP4',\n       'x2_NVIDIA GeFoce GTX 1060', 'x2_NVIDIA GeForce',\n       'x2_NVIDIA GeForce 940M', 'x2_NVIDIA GeForce 940MX',\n       'x2_NVIDIA GeForce GT 750M', 'x2_NVIDIA GeForce GTX 1050',\n       'x2_NVIDIA GeForce GTX 1050 Max-Q',\n       'x2_NVIDIA GeForce GTX 1050 Ti', 'x2_NVIDIA GeForce GTX 1060',\n       'x2_NVIDIA GeForce GTX 1070', 'x2_NVIDIA GeForce GTX 1070 Max-Q',\n       'x2_NVIDIA GeForce GTX 1080', 'x2_NVIDIA GeForce GTX 1650',\n       'x2_NVIDIA GeForce GTX 1650 Max-Q',\n       'x2_NVIDIA GeForce GTX 1660 Ti', 'x2_NVIDIA GeForce GTX 960M',\n       'x2_NVIDIA GeForce GTX 965M', 'x2_NVIDIA GeForce GTX 980M',\n       'x2_NVIDIA GeForce GTX1070', 'x2_NVIDIA GeForce MX150',\n       'x2_NVIDIA GeForce MX250', 'x2_NVIDIA GeForce RTX 2060',\n       'x2_NVIDIA GeForce RTX 2070', 'x2_NVIDIA GeForce RTX 2070 Max-Q',\n       'x2_NVIDIA GeForce RTX 2080', 'x2_NVIDIA GeForce RTX 2080 Max-Q',\n       'x2_NVIDIA Quadro M1000M', 'x2_PowerVR GX6250', 'x3_A10', 'x3_A12',\n       'x3_A6', 'x3_A8', 'x3_A9', 'x3_Atom', 'x3_Celeron', 'x3_Core i3',\n       'x3_Core i5', 'x3_Core i7', 'x3_Core i9', 'x3_Core m3', 'x3_E2',\n       'x3_Exynos', 'x3_FX', 'x3_Pentium', 'x3_Ryzen 3', 'x3_Ryzen 5',\n       'x3_Ryzen 7', 'x3_Xeon', 'x3_nan', 'x4_AMD', 'x4_Imagination',\n       'x4_Intel', 'x4_Mali-T860', 'x4_NVIDIA', 'x4_PowerVR', 'x5_10',\n       'x5_10 Home', 'x5_10 Home Signature Edition', 'x5_10 IoT',\n       'x5_10 Pro', 'x5_10 S', 'x5_6', 'x5_7', 'x5_8', 'x5_8.1',\n       'x5_Catalina', 'x5_High Sierra', 'x5_Mojave', 'x5_OS',\n       'x5_OS X Lion', 'x5_Sierra', 'x5_X El Capitan', 'x5_X Lion',\n       'x5_X Mavericks', 'x5_X Yosemite', 'x5_nan', 'x6_El Capitan',\n       'x6_Home', 'x6_Home Signature Edition', 'x6_IoT', 'x6_Lion',\n       'x6_Mavericks', 'x6_Pro', 'x6_S', 'x6_Sierra', 'x6_X Lion',\n       'x6_Yosemite', 'x6_nan'], dtype=object)"
     },
     "metadata": {},
     "output_type": "execute_result",
     "execution_count": 101
    }
   ],
   "source": [],
   "metadata": {
    "collapsed": false,
    "pycharm": {
     "name": "#%%\n",
     "is_executing": false
    }
   }
  },
  {
   "cell_type": "code",
   "execution_count": 122,
   "outputs": [],
   "source": [
    "def create_preprocessor(df_pp):\n",
    "    #global categories\n",
    "    numeric_transformer = Pipeline(steps=[\n",
    "        ('imputer', SimpleImputer(strategy='median')),\n",
    "        ('scaler', StandardScaler())\n",
    "        ])\n",
    "    categorical_transformer = Pipeline(steps=[\n",
    "        ('imputer', SimpleImputer(strategy='constant', fill_value='missing')),\n",
    "        #('ordinal', OrdinalEncoder(categories=categories)),\n",
    "        #('scaler', StandardScaler())\n",
    "        ('onehot', OneHotEncoder(categories='auto', handle_unknown=\"ignore\")),   \n",
    "        ])\n",
    "\n",
    "    numeric_features = df_pp.select_dtypes(include=['int64', 'float64', 'boolean']).columns\n",
    "    categorical_features = df_pp.select_dtypes(include=['object']).columns\n",
    "    \n",
    "    preprocessor = ColumnTransformer(\n",
    "        transformers=[\n",
    "            ('num', numeric_transformer, numeric_features),\n",
    "            ('cat', categorical_transformer, categorical_features)\n",
    "        ])\n",
    "    return preprocessor"
   ],
   "metadata": {
    "collapsed": false,
    "pycharm": {
     "name": "#%%\n",
     "is_executing": false
    }
   }
  },
  {
   "cell_type": "code",
   "execution_count": 131,
   "outputs": [
    {
     "traceback": [
      "\u001b[1;31m---------------------------------------------------------------------------\u001b[0m",
      "\u001b[1;31mAttributeError\u001b[0m                            Traceback (most recent call last)",
      "\u001b[1;32m<ipython-input-131-af1cfdeb7cd4>\u001b[0m in \u001b[0;36m<module>\u001b[1;34m\u001b[0m\n\u001b[0;32m      2\u001b[0m \u001b[0mencoded\u001b[0m \u001b[1;33m=\u001b[0m \u001b[0mpreprocessor\u001b[0m\u001b[1;33m.\u001b[0m\u001b[0mfit_transform\u001b[0m\u001b[1;33m(\u001b[0m\u001b[0mdf_train\u001b[0m\u001b[1;33m)\u001b[0m\u001b[1;33m\u001b[0m\u001b[1;33m\u001b[0m\u001b[0m\n\u001b[0;32m      3\u001b[0m \u001b[0mdf_pp\u001b[0m \u001b[1;33m=\u001b[0m \u001b[0mpd\u001b[0m\u001b[1;33m.\u001b[0m\u001b[0mDataFrame\u001b[0m\u001b[1;33m(\u001b[0m\u001b[0mencoded\u001b[0m\u001b[1;33m.\u001b[0m\u001b[0mtoarray\u001b[0m\u001b[1;33m(\u001b[0m\u001b[1;33m)\u001b[0m\u001b[1;33m)\u001b[0m\u001b[1;33m\u001b[0m\u001b[1;33m\u001b[0m\u001b[0m\n\u001b[1;32m----> 4\u001b[1;33m \u001b[0mencoded\u001b[0m\u001b[1;33m.\u001b[0m\u001b[0mget_features\u001b[0m\u001b[1;33m\u001b[0m\u001b[1;33m\u001b[0m\u001b[0m\n\u001b[0m",
      "\u001b[1;32mC:\\ProgramData\\Anaconda3\\envs\\ComputerPriceRange\\lib\\site-packages\\scipy\\sparse\\base.py\u001b[0m in \u001b[0;36m__getattr__\u001b[1;34m(self, attr)\u001b[0m\n\u001b[0;32m    689\u001b[0m             \u001b[1;32mreturn\u001b[0m \u001b[0mself\u001b[0m\u001b[1;33m.\u001b[0m\u001b[0mgetnnz\u001b[0m\u001b[1;33m(\u001b[0m\u001b[1;33m)\u001b[0m\u001b[1;33m\u001b[0m\u001b[1;33m\u001b[0m\u001b[0m\n\u001b[0;32m    690\u001b[0m         \u001b[1;32melse\u001b[0m\u001b[1;33m:\u001b[0m\u001b[1;33m\u001b[0m\u001b[1;33m\u001b[0m\u001b[0m\n\u001b[1;32m--> 691\u001b[1;33m             \u001b[1;32mraise\u001b[0m \u001b[0mAttributeError\u001b[0m\u001b[1;33m(\u001b[0m\u001b[0mattr\u001b[0m \u001b[1;33m+\u001b[0m \u001b[1;34m\" not found\"\u001b[0m\u001b[1;33m)\u001b[0m\u001b[1;33m\u001b[0m\u001b[1;33m\u001b[0m\u001b[0m\n\u001b[0m\u001b[0;32m    692\u001b[0m \u001b[1;33m\u001b[0m\u001b[0m\n\u001b[0;32m    693\u001b[0m     \u001b[1;32mdef\u001b[0m \u001b[0mtranspose\u001b[0m\u001b[1;33m(\u001b[0m\u001b[0mself\u001b[0m\u001b[1;33m,\u001b[0m \u001b[0maxes\u001b[0m\u001b[1;33m=\u001b[0m\u001b[1;32mNone\u001b[0m\u001b[1;33m,\u001b[0m \u001b[0mcopy\u001b[0m\u001b[1;33m=\u001b[0m\u001b[1;32mFalse\u001b[0m\u001b[1;33m)\u001b[0m\u001b[1;33m:\u001b[0m\u001b[1;33m\u001b[0m\u001b[1;33m\u001b[0m\u001b[0m\n",
      "\u001b[1;31mAttributeError\u001b[0m: get_features not found"
     ],
     "ename": "AttributeError",
     "evalue": "get_features not found",
     "output_type": "error"
    }
   ],
   "source": [
    "preprocessor = create_preprocessor(df_train)\n",
    "encoded = preprocessor.fit_transform(df_train)\n",
    "df_pp = pd.DataFrame(encoded.toarray())\n",
    "encoded.get_features"
   ],
   "metadata": {
    "collapsed": false,
    "pycharm": {
     "name": "#%%\n",
     "is_executing": false
    }
   }
  },
  {
   "cell_type": "code",
   "execution_count": 134,
   "outputs": [
    {
     "data": {
      "text/plain": "(510, 1266)"
     },
     "metadata": {},
     "output_type": "execute_result",
     "execution_count": 134
    }
   ],
   "source": [],
   "metadata": {
    "collapsed": false,
    "pycharm": {
     "name": "#%%\n",
     "is_executing": false
    }
   }
  },
  {
   "cell_type": "code",
   "execution_count": null,
   "outputs": [],
   "source": [
    "\n"
   ],
   "metadata": {
    "collapsed": false,
    "pycharm": {
     "name": "#%%\n"
    }
   }
  }
 ],
 "metadata": {
  "kernelspec": {
   "display_name": "Python 3",
   "language": "python",
   "name": "python3"
  },
  "language_info": {
   "codemirror_mode": {
    "name": "ipython",
    "version": 2
   },
   "file_extension": ".py",
   "mimetype": "text/x-python",
   "name": "python",
   "nbconvert_exporter": "python",
   "pygments_lexer": "ipython2",
   "version": "2.7.6"
  },
  "pycharm": {
   "stem_cell": {
    "cell_type": "raw",
    "source": [],
    "metadata": {
     "collapsed": false
    }
   }
  }
 },
 "nbformat": 4,
 "nbformat_minor": 0
}