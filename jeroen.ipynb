{
 "cells": [
  {
   "cell_type": "code",
   "execution_count": 98,
   "metadata": {
    "collapsed": true,
    "pycharm": {
     "is_executing": false
    }
   },
   "outputs": [],
   "source": [
    "#Imports\n",
    "from datetime import time\n",
    "import pandas as pd\n",
    "from matplotlib import pyplot as plt\n",
    "import numpy as np\n",
    "import sklearn as skl\n",
    "from copy import deepcopy\n",
    "from sklearn.inspection import permutation_importance\n",
    "from sklearn.metrics import mean_absolute_error, make_scorer\n",
    "from sklearn.model_selection import cross_validate, GridSearchCV\n",
    "from sklearn.pipeline import Pipeline\n",
    "from sklearn.ensemble import RandomTreesEmbedding, RandomForestRegressor, RandomForestClassifier, GradientBoostingRegressor\n",
    "from sklearn.impute import SimpleImputer\n",
    "from sklearn.compose import ColumnTransformer, TransformedTargetRegressor\n",
    "import json"
   ]
  },
  {
   "cell_type": "code",
   "source": [
    "from sklearn.preprocessing import OneHotEncoder, StandardScaler\n",
    "raw_train = pd.read_csv(\"Data/train.csv\")\n",
    "raw_test = pd.read_csv(\"Data/test.csv\")\n",
    "\n",
    "raw_train.shape"
   ],
   "metadata": {
    "collapsed": false,
    "pycharm": {
     "name": "#%%\n",
     "is_executing": false
    }
   },
   "execution_count": 99,
   "outputs": [
    {
     "data": {
      "text/plain": "(510, 22)"
     },
     "metadata": {},
     "output_type": "execute_result",
     "execution_count": 99
    }
   ]
  },
  {
   "cell_type": "code",
   "execution_count": 100,
   "outputs": [],
   "source": [
    "# this data reformat function is shared by all models and executed beforehand\n",
    "# I assume we know the test set in advance\n",
    "def shared_reformat(df):\n",
    "    df = deepcopy(df)\n",
    "    \n",
    "    # create special targets (only on train set)\n",
    "    if \"max_price\" in list(df):\n",
    "        df[\"delta_abs\"] = df[\"max_price\"] - df[\"min_price\"] \n",
    "        df[\"delta_rel\"] = np.log(df[\"max_price\"] / df[\"min_price\"] )\n",
    "    \n",
    "    # deal with missing data\n",
    "    #df.pixels_y = df.pixels_y.fillna(0)\n",
    "    df.detachable_keyboard.fillna(0, inplace = True)  # only four cases. Assume none\n",
    "    df.pixels_x.fillna(1920, inplace = True)   # only 2 cases, replace by most common value\n",
    "    df.pixels_y.fillna(1080, inplace = True)   # only 2 cases, replace by most common value\n",
    "    df.loc[df.screen_surface.isna(), \"screen_surface\"] = 'Glossy'       # 12 cases, large majority is Glossy,\n",
    "    df.loc[df.screen_surface.isna() & df.pixels_x == 1920, \"screen_surface\"] = 'Matte'  # except here\n",
    "    df.sort_values(by=['name'])\n",
    "    df.cpu_details.fillna(method='bfill', inplace=True)  # take previous value, they are often similar\n",
    "    df.gpu.fillna(method='bfill', inplace=True)  # take previous value, they are often similar\n",
    "    df.weight.fillna(method='bfill', inplace=True)\n",
    "    df.loc[df.os.isna() & df.brand == \"Apple\", \"os\"] = 'macOS'  # 1 case\n",
    "    df.loc[df.os_details.isna() & df.brand == \"Apple\", \"os_details\"] = \"macOS Mojave\"  # 1 case, most common\n",
    "    df.loc[df.os.isna() & df.brand == \"Dell\", \"os\"] = 'Windows'  # 1 case\n",
    "    df.loc[df.os_details.isna() & df.brand == \"Dell\", \"os_details\"] = \"Windows 10 Home\"  # 1 case, most common\n",
    "    \n",
    "\n",
    "    # create new features\n",
    "    df[\"cpu_brand\"] = df.cpu.str.split(n=1).str[0]\n",
    "    df[\"cpu_type\"] = df.cpu.str.split(n=1).str[1]\n",
    "    df[\"gpu_brand\"] = df.gpu.str.split(n=1).str[0]\n",
    "    df[\"gpu_series\"] = df.gpu.str.split(n=2).str[1]\n",
    "    df[\"os_type\"] = df.os_details.str.split(n=1).str[1]\n",
    "    df[\"os_nr\"] = df.os_details.str.split(n=2).str[2]\n",
    "    df[\"resolution\"] = df.pixels_y / df.screen_size\n",
    "    df[\"gimmick\"] = df.detachable_keyboard + 5 * df.discrete_gpu + 3* df.touchscreen\n",
    "    def get_speed(sentence):\n",
    "        try:\n",
    "            sentence = sentence.split()\n",
    "            index = sentence.index('GHz')\n",
    "            return pow(float(sentence[index-1]),2)\n",
    "        except:\n",
    "            return pow(2.4, 2)\n",
    "    df[\"speed\"] = df.cpu_details.apply(get_speed)\n",
    "    def has_word(sentence, word):\n",
    "        try:\n",
    "            return word in sentence\n",
    "        except:\n",
    "            return False\n",
    "    df[\"Dual-Core\"] = df.cpu_details.apply(has_word, word=\"Dual-Core\")\n",
    "    df[\"Quad-Core\"] = df.cpu_details.apply(has_word, word=\"Quad-Core\")\n",
    "    df[\"Hexa-Core\"] = df.cpu_details.apply(has_word, word=\"Hexa-Core\")\n",
    "    df[\"Hyper-Threading\"] = df.cpu_details.apply(has_word, word=\"Hyper-Threading\")\n",
    "    \n",
    "    \n",
    "    # correct a few mistakes in new features\n",
    "    map_gpu_series = {\"GeFoce\":\"GeForce\", \"RadeonÂ\": \"Radeon\"}\n",
    "    df.gpu_series = df.gpu_series.replace(map_gpu_series) \n",
    "    map_screen_surface = {\"glossy\":\"Glossy\", \"matte\":\"Matte\"}\n",
    "    df.screen_surface = df.screen_surface.replace(map_screen_surface)  \n",
    "\n",
    "    \n",
    "    # make sure all values in categorical variables are strings\n",
    "    cat_col = df.select_dtypes(include=['object']).columns\n",
    "    df[cat_col] = df[cat_col].astype(str)\n",
    "    \n",
    "    # cleanup test set\n",
    "    df.pixels_y = df.pixels_y.astype('int64')\n",
    "    \n",
    "    # shuffle the database\n",
    "    df.sample(frac=1)\n",
    "    return df\n"
   ],
   "metadata": {
    "collapsed": false,
    "pycharm": {
     "name": "#%%\n",
     "is_executing": false
    }
   }
  },
  {
   "cell_type": "code",
   "execution_count": 101,
   "outputs": [
    {
     "name": "stderr",
     "text": [
      "C:\\ProgramData\\Anaconda3\\envs\\ComputerPriceRange\\lib\\site-packages\\pandas\\core\\ops\\array_ops.py:253: FutureWarning: elementwise comparison failed; returning scalar instead, but in the future will perform elementwise comparison\n",
      "  res_values = method(rvalues)\n"
     ],
     "output_type": "stream"
    },
    {
     "data": {
      "text/plain": "(222, 33)"
     },
     "metadata": {},
     "output_type": "execute_result",
     "execution_count": 101
    }
   ],
   "source": [
    "df_train = shared_reformat(raw_train)\n",
    "df_test = shared_reformat(raw_test)\n",
    "\n",
    "df_test.shape"
   ],
   "metadata": {
    "collapsed": false,
    "pycharm": {
     "name": "#%%\n",
     "is_executing": false
    }
   }
  },
  {
   "cell_type": "code",
   "execution_count": 102,
   "outputs": [
    {
     "name": "stdout",
     "text": [
      "Index(['id', 'name', 'brand', 'base_name', 'screen_size', 'pixels_x',\n",
      "       'pixels_y', 'screen_surface', 'touchscreen', 'cpu', 'cpu_details',\n",
      "       'detachable_keyboard', 'discrete_gpu', 'gpu', 'os', 'os_details', 'ram',\n",
      "       'ssd', 'storage', 'weight', 'min_price', 'max_price', 'delta_abs',\n",
      "       'delta_rel', 'cpu_brand', 'cpu_type', 'gpu_brand', 'gpu_series',\n",
      "       'os_type', 'os_nr', 'resolution', 'gimmick', 'speed', 'Dual-Core',\n",
      "       'Quad-Core', 'Hexa-Core', 'Hyper-Threading'],\n",
      "      dtype='object')\n",
      "Index(['id', 'name', 'brand', 'base_name', 'screen_size', 'pixels_x',\n",
      "       'pixels_y', 'screen_surface', 'touchscreen', 'cpu', 'cpu_details',\n",
      "       'detachable_keyboard', 'discrete_gpu', 'gpu', 'os', 'os_details', 'ram',\n",
      "       'ssd', 'storage', 'weight', 'cpu_brand', 'cpu_type', 'gpu_brand',\n",
      "       'gpu_series', 'os_type', 'os_nr', 'resolution', 'gimmick', 'speed',\n",
      "       'Dual-Core', 'Quad-Core', 'Hexa-Core', 'Hyper-Threading'],\n",
      "      dtype='object')\n"
     ],
     "output_type": "stream"
    }
   ],
   "source": [
    "print(df_train.columns)\n",
    "print(df_test.columns)"
   ],
   "metadata": {
    "collapsed": false,
    "pycharm": {
     "name": "#%%\n",
     "is_executing": false
    }
   }
  },
  {
   "cell_type": "code",
   "source": [
    "targets = [\"max_price\", \"delta_abs\", \"delta_rel\", \"min_price\"]\n",
    "# initialize dictionaries. Keys are the model names\n",
    "model_dict = {}\n",
    "reformat_dict = {}\n",
    "categories_dict = {}\n",
    "log_dict = {}"
   ],
   "metadata": {
    "collapsed": false,
    "pycharm": {
     "name": "#%%\n",
     "is_executing": false
    }
   },
   "execution_count": 103,
   "outputs": []
  },
  {
   "cell_type": "code",
   "execution_count": 104,
   "outputs": [],
   "source": [
    "# prepares the regressor and X values for a model\n",
    "def prepare_model(model, df, target, log, verbose=True):\n",
    "    vprint = print if verbose else lambda *a, **k: None\n",
    "    df_pp = reformat_dict[model](df)\n",
    "    X = df_pp.drop(targets, axis=1)\n",
    "    categories = categories_dict[model]\n",
    "    preprocessor = create_preprocessor(X, categories)\n",
    "    input_shape = Pipeline([('tp', preprocessor)]).fit_transform(X).shape[1]\n",
    "    vprint(\"nr of features=\", input_shape)\n",
    "    regressor = model_dict[model](preprocessor, input_shape)\n",
    "    if log: regressor = TransformedTargetRegressor(regressor=regressor, func=np.log, inverse_func=np.exp)\n",
    "    return X, regressor"
   ],
   "metadata": {
    "collapsed": false,
    "pycharm": {
     "name": "#%%\n",
     "is_executing": false
    }
   }
  },
  {
   "cell_type": "code",
   "execution_count": 105,
   "outputs": [],
   "source": [
    "# computes all levels for all categorical variables\n",
    "# that a give model uses. Takes both training and\n",
    "# test set into account (we know the test set)\n",
    "\n",
    "def get_categories(df_train, df_test, reformater):\n",
    "    # compute levels categorical variables for Huber\n",
    "    train_df = reformater(df_train)\n",
    "    train_df = train_df.drop(columns=targets)\n",
    "    test_df = reformater(df_test)\n",
    "    categorical_features = test_df.select_dtypes(include=['object']).columns\n",
    "    df_full = pd.concat([train_df,test_df], join='outer', axis=0)\n",
    "    categories = []\n",
    "    for col in categorical_features:\n",
    "        categories.append(df_full[col].unique())\n",
    "    return categories"
   ],
   "metadata": {
    "collapsed": false,
    "pycharm": {
     "name": "#%%\n",
     "is_executing": false
    }
   }
  },
  {
   "cell_type": "code",
   "execution_count": 106,
   "outputs": [],
   "source": [
    "## RANDOM FOREST REGRESSOR ##\n",
    "def reformat_rfr(df):\n",
    "    df = deepcopy(df)\n",
    "    \n",
    "    # transform values of some nominal variables\n",
    "    df.screen_size = df.screen_size.pow(2)  #square the values\n",
    "    df.ram = df.ram.pow(2)  #square the values\n",
    "    df.weight = np.maximum(0,np.log(df.weight)) \n",
    "    \n",
    "    # drop columns\n",
    "    drop_cols=[\"id\", \"name\", \"gpu_series\", \"pixels_x\", \"screen_surface\", \"os\", \"os_details\", \"cpu_brand\",\n",
    "              \"detachable_keyboard\", \"touchscreen\", \"os_nr\", \"screen_size\", \"cpu_details\", \"brand\",\n",
    "              \"gpu_brand\", \"os_type\", \"storage\"]\n",
    "    drop_cols=[\"id\", \"name\", \"base_name\", \"screen_size\", \"weight\", \"detachable_keyboard\", \"gpu_series\",\n",
    "              \"ssd\", \"pixels_x\", \"cpu_details\", \"os_details\", \"cpu_brand\", \"cpu\", \"os\"]\n",
    "    df = df.drop(columns=drop_cols)\n",
    "    \n",
    "    # replace rare categorical levels by \"other\": doesn't seem to help\n",
    "    #cat_col = df.select_dtypes(include=['object']).columns\n",
    "    #for col in cat_col:\n",
    "    #    val_counts = df[col].value_counts(normalize=True).cumsum()\n",
    "    #    val_counts = val_counts.where(val_counts < .99)\n",
    "    #    keep_vals = list(val_counts.dropna().index.values)\n",
    "    #    df.loc[~df[col].isin(keep_vals), col] = \"other\"\n",
    "\n",
    "    return df\n",
    "\n",
    "reformat_dict[\"rfr\"] = reformat_rfr\n",
    "categories_dict[\"rfr\"] =  get_categories(df_train, df_test, reformat_rfr)\n",
    "log_dict[\"rfr\"] = True\n",
    "\n",
    "def pipe_rfr(preprocessor, input_shape):\n",
    "    pipeline= Pipeline([\n",
    "                    (('preprocessor', preprocessor)),\n",
    "                     ('rfr', RandomForestRegressor(criterion=\"mse\", max_features = .2, n_jobs=-1,\n",
    "                                                   min_samples_leaf=1, max_depth=20, n_estimators=500))\n",
    "     ])\n",
    "    return pipeline\n",
    "model_dict[\"rfr\"] = pipe_rfr"
   ],
   "metadata": {
    "collapsed": false,
    "pycharm": {
     "name": "#%%\n",
     "is_executing": false
    }
   }
  },
  {
   "cell_type": "code",
   "execution_count": 106,
   "outputs": [],
   "source": [],
   "metadata": {
    "collapsed": false,
    "pycharm": {
     "name": "#%%\n",
     "is_executing": false
    }
   }
  },
  {
   "cell_type": "code",
   "execution_count": 107,
   "outputs": [],
   "source": [
    "# this preprocessor is the same for all models, but doesn't have to be\n",
    "def create_preprocessor(df_pp, categories):\n",
    "    #global categories\n",
    "    numeric_transformer = Pipeline(steps=[\n",
    "        ('imputer', SimpleImputer(strategy='median')),\n",
    "        ('scaler', StandardScaler())\n",
    "        ])\n",
    "    categorical_transformer = Pipeline(steps=[\n",
    "        ('imputer',SimpleImputer(strategy='constant', fill_value='missing')),\n",
    "        #('ordinal', OrdinalEncoder(categories=categories)),\n",
    "        #('scaler', StandardScaler())\n",
    "        ('onehot', OneHotEncoder(categories=categories, handle_unknown=\"ignore\")),   \n",
    "        ])\n",
    "\n",
    "    numeric_features = df_pp.select_dtypes(include=['int64', 'float64', 'boolean']).columns\n",
    "    categorical_features = df_pp.select_dtypes(include=['object']).columns\n",
    "    \n",
    "    preprocessor = ColumnTransformer(\n",
    "        transformers=[\n",
    "            ('num', numeric_transformer, numeric_features),\n",
    "            ('cat', categorical_transformer, categorical_features)\n",
    "        ])\n",
    "    return preprocessor"
   ],
   "metadata": {
    "collapsed": false,
    "pycharm": {
     "name": "#%%\n",
     "is_executing": false
    }
   }
  },
  {
   "cell_type": "code",
   "execution_count": 108,
   "outputs": [],
   "source": [
    "# permutation variable importance\n",
    "def var_importance(pipe, X, Y, scoring=None):\n",
    "    perm_imp = permutation_importance(pipe, X, Y, scoring=scoring, n_repeats=10, n_jobs=None, random_state=None)\n",
    "    sorted_idx = perm_imp.importances_mean.argsort()\n",
    "\n",
    "    fig, ax = plt.subplots()\n",
    "    ax.boxplot(perm_imp.importances[sorted_idx].T,\n",
    "               vert=False, labels=X.columns[sorted_idx])\n",
    "    ax.set_title(\"Permutation Importances (test set)\")\n",
    "    fig.tight_layout()\n",
    "    plt.show()\n"
   ],
   "metadata": {
    "collapsed": false,
    "pycharm": {
     "name": "#%%\n",
     "is_executing": false
    }
   }
  },
  {
   "cell_type": "code",
   "execution_count": 109,
   "outputs": [],
   "source": [
    "# With this function, models are tested in 10-fold cross_validation and\n",
    "# a permutation variance analysis is performed\n",
    "def test_model(model, df, target = \"max_price\", log=True, nr_folds=10):\n",
    "    Y = df[target]\n",
    "    X, regressor = prepare_model(model, df, target, log)\n",
    "    scores = cross_validate(regressor, X, Y, scoring=['neg_mean_absolute_error'], cv=nr_folds)\n",
    "    print(\"gemiddeld: {}, details: {}\".format(-np.mean(scores['test_neg_mean_absolute_error']), -scores['test_neg_mean_absolute_error']))\n",
    "    regressor.fit(X, Y)\n",
    "    var_importance(regressor, X, Y)"
   ],
   "metadata": {
    "collapsed": false,
    "pycharm": {
     "name": "#%%\n",
     "is_executing": false
    }
   }
  },
  {
   "cell_type": "code",
   "execution_count": 109,
   "outputs": [],
   "source": [],
   "metadata": {
    "collapsed": false,
    "pycharm": {
     "name": "#%%\n",
     "is_executing": false
    }
   }
  },
  {
   "cell_type": "code",
   "execution_count": 110,
   "outputs": [
    {
     "name": "stdout",
     "text": [
      "nr of features= 187\n",
      "gemiddeld: 144.10986469361234, details: [104.78378255 213.61273473 129.44513904 138.38498051 150.58726798\n",
      " 140.51069636 126.49274973 137.63047753 194.5247755  105.12604301]\n",
      "nr of features= 187\n",
      "gemiddeld: 138.79742649126666, details: [102.87129166 209.4644752  105.69997561 129.10413088 133.91683483\n",
      " 128.14942018 139.20414514 128.84032255 194.97537901 115.74828986]\n"
     ],
     "output_type": "stream"
    },
    {
     "data": {
      "text/plain": "<Figure size 432x288 with 1 Axes>",
      "image/png": "[encoded data removed]"
     },
     "metadata": {
      "needs_background": "light"
     },
     "output_type": "display_data"
    },
    {
     "data": {
      "text/plain": "<Figure size 432x288 with 1 Axes>",
      "image/png": "[encoded data removed]"
     },
     "metadata": {
      "needs_background": "light"
     },
     "output_type": "display_data"
    }
   ],
   "source": [
    "test_model(\"rfr\", df_train, target=\"max_price\", log=True)\n",
    "test_model(\"rfr\", df_train, target=\"min_price\", log=True)"
   ],
   "metadata": {
    "collapsed": false,
    "pycharm": {
     "name": "#%%\n",
     "is_executing": false
    }
   }
  },
  {
   "cell_type": "code",
   "execution_count": null,
   "outputs": [],
   "source": [
    "def seppe_error(Y1_true, Y1_pred, Y2_true, Y2_pred):\n",
    "    return (mean_absolute_error(Y1_true, Y1_pred) + mean_absolute_error(Y2_true, Y2_pred)) / 2"
   ],
   "metadata": {
    "collapsed": false,
    "pycharm": {
     "name": "#%%\n"
    }
   }
  },
  {
   "cell_type": "code",
   "execution_count": null,
   "outputs": [],
   "source": [
    "## RANDOM FOREST REGRESSOR ##\n",
    "def runRFR(X,y):\n",
    "    \n",
    "    rfr = RandomForestRegressor(X,y)\n",
    "    \n",
    "    params = dict(\n",
    "        n_estimators=[100, 300, 500, 1000],\n",
    "        max_features = [.1, .2, .5, \"auto\", \"log2\"],\n",
    "        min_samples_leaf = [1, 5, 10]\n",
    "    )\n",
    "    \n",
    "    print(\"Parameters used for tuning:\")\n",
    "    for key in params:\n",
    "        print(\"{:20}: {}\".format(key, params[key]))\n",
    "        print(\"\")\n",
    "  \n",
    " \n",
    "\n",
    "    start_time = time.time()\n",
    "    print(\"Start hyper parameters tuning...\")\n",
    "    algorithm = GridSearchCV(rfr, params, scoring=make_scorer(seppe_error, greater_is_better=False), cv=3, n_jobs=-1)\n",
    "    #algorithm = RandomizedSearchCV(isolation_forest, param_distributions=params, scoring=scorer, cv=5, n_iter=20, n_jobs=-1)\n",
    "    algorithm.fit(X,y)\n",
    "    seconds = time.time() - start_time\n",
    "    minutes, seconds = divmod(seconds, 60)\n",
    "    print(\"Hyper parameters tuning done in {:.2f} minutes and {:.2f} secondes\".format(minutes, seconds))\n",
    "\n",
    "    print(\"{}:\\n{}\".format(\"Best parameters found\", json.dumps(algorithm.best_params_, indent=2)))\n",
    "    \n",
    "    return algorithm.predict(X)"
   ],
   "metadata": {
    "collapsed": false,
    "pycharm": {
     "name": "#%%\n"
    }
   }
  },
  {
   "cell_type": "code",
   "execution_count": null,
   "outputs": [],
   "source": [
    "\n"
   ],
   "metadata": {
    "collapsed": false,
    "pycharm": {
     "name": "#%%\n"
    }
   }
  }
 ],
 "metadata": {
  "kernelspec": {
   "name": "python3",
   "language": "python",
   "display_name": "Python 3"
  },
  "language_info": {
   "codemirror_mode": {
    "name": "ipython",
    "version": 2
   },
   "file_extension": ".py",
   "mimetype": "text/x-python",
   "name": "python",
   "nbconvert_exporter": "python",
   "pygments_lexer": "ipython2",
   "version": "2.7.6"
  },
  "pycharm": {
   "stem_cell": {
    "cell_type": "raw",
    "source": [],
    "metadata": {
     "collapsed": false
    }
   }
  }
 },
 "nbformat": 4,
 "nbformat_minor": 0
}