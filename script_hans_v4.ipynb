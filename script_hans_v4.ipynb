{
 "cells": [
  {
   "cell_type": "code",
   "execution_count": 1,
   "metadata": {},
   "outputs": [],
   "source": [
    "import numpy as np\n",
    "import pandas as pd\n",
    "from dython.nominal import associations\n",
    "import seaborn as sns\n",
    "import matplotlib.pyplot as plt\n",
    "from copy import deepcopy\n",
    "from sklearn.preprocessing import LabelEncoder, StandardScaler, OneHotEncoder, MinMaxScaler, OrdinalEncoder\n",
    "from sklearn.pipeline import Pipeline\n",
    "from sklearn.linear_model import LinearRegression, Ridge, HuberRegressor, LogisticRegression\n",
    "from sklearn.manifold import LocallyLinearEmbedding\n",
    "from sklearn.decomposition import PCA\n",
    "from sklearn.model_selection import train_test_split\n",
    "from sklearn.ensemble import RandomTreesEmbedding, RandomForestRegressor, RandomForestClassifier, GradientBoostingRegressor\n",
    "from sklearn.impute import SimpleImputer\n",
    "from sklearn.compose import ColumnTransformer\n",
    "from sklearn.compose import TransformedTargetRegressor\n",
    "from sklearn.model_selection import cross_validate\n",
    "from sklearn.metrics import recall_score\n",
    "#from sklearn.inspection import permutation_importance\n",
    "from sklearn.preprocessing import FunctionTransformer\n",
    "from sklearn.model_selection import KFold\n",
    "from sklearn.metrics import mean_absolute_error\n",
    "from sklearn.base import BaseEstimator,TransformerMixin\n",
    "from sklearn.compose import TransformedTargetRegressor\n",
    "from sklearn.svm import SVR\n",
    "from sklearn.neighbors import KNeighborsRegressor"
   ]
  },
  {
   "cell_type": "code",
   "execution_count": 2,
   "metadata": {},
   "outputs": [],
   "source": [
    "# read the files\n",
    "df_train = pd.read_csv(\"Data/train.csv\")\n",
    "df_test = pd.read_csv(\"Data/test.csv\")\n",
    "\n",
    "# initialize dictionaries. Keys are the model names\n",
    "model_dict = {}\n",
    "reformat_dict = {}\n",
    "categories_dict = {}\n",
    "log_dict = {}"
   ]
  },
  {
   "cell_type": "code",
   "execution_count": 3,
   "metadata": {},
   "outputs": [],
   "source": [
    "# this data reformat function is shared by all models and exceuted beforehand\n",
    "# I assume we know the test set in advance\n",
    "def shared_reformat(df):\n",
    "    df = deepcopy(df)\n",
    "    \n",
    "    # create special targets (only on train set)\n",
    "    if \"max_price\" in list(df):\n",
    "        df[\"delta_abs\"] = df[\"max_price\"] - df[\"min_price\"] \n",
    "        df[\"delta_rel\"] = np.log(df[\"max_price\"] / df[\"min_price\"] )\n",
    "    \n",
    "    # deal with missing data\n",
    "    #df.pixels_y = df.pixels_y.fillna(0)\n",
    "    df.detachable_keyboard.fillna(0, inplace = True)  # only four cases. Assume none\n",
    "    df.pixels_x.fillna(1920, inplace = True)   # only 2 cases, replace by most common value\n",
    "    df.pixels_y.fillna(1080, inplace = True)   # only 2 cases, replace by most common value\n",
    "    df.loc[df.screen_surface.isna(), \"screen_surface\"] = 'Glossy'       # 12 cases, large majority is Glossy,\n",
    "    df.loc[df.screen_surface.isna() & df.pixels_x == 1920, \"screen_surface\"] = 'Matte'  # except here\n",
    "    df.sort_values(by=['name'])\n",
    "    df.cpu_details.fillna(method='bfill', inplace=True)  # take previous value, they are often similar\n",
    "    df.gpu.fillna(method='bfill', inplace=True)  # take previous value, they are often similar\n",
    "    df.weight.fillna(method='bfill', inplace=True)\n",
    "    df.loc[df.os.isna() & df.brand == \"Apple\", \"os\"] = 'macOS'  # 1 case\n",
    "    df.loc[df.os_details.isna() & df.brand == \"Apple\", \"os_details\"] = \"macOS Mojave\"  # 1 case, most common\n",
    "    df.loc[df.os.isna() & df.brand == \"Dell\", \"os\"] = 'Windows'  # 1 case\n",
    "    df.loc[df.os_details.isna() & df.brand == \"Dell\", \"os_details\"] = \"Windows 10 Home\"  # 1 case, most common\n",
    "    \n",
    "\n",
    "    # create new features\n",
    "    df[\"cpu_brand\"] = df.cpu.str.split(n=1).str[0]\n",
    "    df[\"cpu_type\"] = df.cpu.str.split(n=1).str[1]\n",
    "    df[\"gpu_brand\"] = df.gpu.str.split(n=1).str[0]\n",
    "    df[\"gpu_series\"] = df.gpu.str.split(n=2).str[1]\n",
    "    df[\"os_type\"] = df.os_details.str.split(n=1).str[1]\n",
    "    df[\"os_nr\"] = df.os_details.str.split(n=2).str[2]\n",
    "    df[\"resolution\"] = df.pixels_y / df.screen_size\n",
    "    df[\"gimmick\"] = df.detachable_keyboard + 5 * df.discrete_gpu + 3* df.touchscreen\n",
    "    def get_speed(sentence):\n",
    "        try:\n",
    "            sentence = sentence.split()\n",
    "            index = sentence.index('GHz')\n",
    "            return pow(float(sentence[index-1]),2)\n",
    "        except:\n",
    "            return pow(2.4, 2)\n",
    "    df[\"speed\"] = df.cpu_details.apply(get_speed)\n",
    "    def has_word(sentence, word):\n",
    "        try:\n",
    "            return word in sentence\n",
    "        except:\n",
    "            return False\n",
    "    df[\"Dual-Core\"] = df.cpu_details.apply(has_word, word=\"Dual-Core\")\n",
    "    df[\"Quad-Core\"] = df.cpu_details.apply(has_word, word=\"Quad-Core\")\n",
    "    df[\"Hexa-Core\"] = df.cpu_details.apply(has_word, word=\"Hexa-Core\")\n",
    "    df[\"Hyper-Threading\"] = df.cpu_details.apply(has_word, word=\"Hyper-Threading\")\n",
    "    \n",
    "    \n",
    "    # correct a few mistakes in new features\n",
    "    map_gpu_series = {\"GeFoce\":\"GeForce\", \"RadeonÂ\": \"Radeon\"}\n",
    "    df.gpu_series = df.gpu_series.replace(map_gpu_series) \n",
    "    map_screen_surface = {\"glossy\":\"Glossy\", \"matte\":\"Matte\"}\n",
    "    df.screen_surface = df.screen_surface.replace(map_screen_surface)  \n",
    "\n",
    "    \n",
    "    # make sure all values in categorical variables are strings\n",
    "    cat_col = df.select_dtypes(include=['object']).columns\n",
    "    df[cat_col] = df[cat_col].astype(str)\n",
    "    \n",
    "    # skewedness\n",
    "    #numeric_feats = df.dtypes[df.dtypes != \"object\"].index\n",
    "    #from scipy.stats import skew\n",
    "    #skewed_feats = df[numeric_feats].apply(lambda x: skew(x.dropna())).sort_values(ascending=False)\n",
    "    #skewness = pd.DataFrame({'Skew' :skewed_feats})\n",
    "    #print(skewness)\n",
    "    #skewness = skewness[abs(skewness) > 2]\n",
    "    #from scipy.special import boxcox1p\n",
    "    #skewed_features = skewness.index\n",
    "    #skewed_features = [x for x in skewed_features if x not in [\"max_price\", \"min_price\", \"delta_abs\", \"delta_rel\"]]\n",
    "    #lam = 0.15\n",
    "    #for feat in skewed_features:\n",
    "    #    print(\"bj\", feat)\n",
    "    #    df[feat] = boxcox1p(df[feat], lam)\n",
    "                                                 \n",
    "    # cleanup test set\n",
    "    df.pixels_y = df.pixels_y.astype('int64')\n",
    "    \n",
    "    # shuffle the database\n",
    "    df.sample(frac=1)\n",
    "    \n",
    "    return df"
   ]
  },
  {
   "cell_type": "code",
   "execution_count": 4,
   "metadata": {},
   "outputs": [
    {
     "name": "stdout",
     "output_type": "stream",
     "text": [
      "510 222\n"
     ]
    },
    {
     "name": "stderr",
     "output_type": "stream",
     "text": [
      "C:\\Users\\u0115374\\AppData\\Local\\Continuum\\anaconda3\\lib\\site-packages\\pandas\\core\\ops.py:1649: FutureWarning: elementwise comparison failed; returning scalar instead, but in the future will perform elementwise comparison\n",
      "  result = method(y)\n"
     ]
    }
   ],
   "source": [
    "df_train[\"set\"] = \"train\"\n",
    "df_test[\"set\"] = \"test\"\n",
    "df_complete = pd.concat([df_train,df_test], join='outer', axis=0, sort=False)\n",
    "df_complete = shared_reformat(df_complete)\n",
    "df_train = df_complete[df_complete.set == \"train\"].drop(columns=[\"set\"])\n",
    "df_test = df_complete[df_complete.set == \"test\"].drop(columns=[\"set\"])\n",
    "print(len(df_train), len(df_test))"
   ]
  },
  {
   "cell_type": "code",
   "execution_count": 5,
   "metadata": {},
   "outputs": [],
   "source": [
    "# I no longer use delta_abs and delta_rel but they keep trailing in the functions\n",
    "targets = [\"max_price\", \"delta_abs\", \"delta_rel\", \"min_price\"]"
   ]
  },
  {
   "cell_type": "code",
   "execution_count": 6,
   "metadata": {},
   "outputs": [],
   "source": [
    "# prepares the regressor and X values for a model\n",
    "def prepare_model(model, df, target, log, verbose=True):\n",
    "    vprint = print if verbose else lambda *a, **k: None\n",
    "    df_pp = reformat_dict[model](df)\n",
    "    X = df_pp.drop(targets, axis=1)\n",
    "    categories = categories_dict[model]\n",
    "    preprocessor = create_preprocessor(X, categories)\n",
    "    input_shape = Pipeline([('tp', preprocessor)]).fit_transform(X).shape[1]\n",
    "    vprint(\"nr of features=\", input_shape)\n",
    "    regressor = model_dict[model](preprocessor, input_shape)\n",
    "    if log: regressor = TransformedTargetRegressor(regressor=regressor, func=np.log, inverse_func=np.exp)\n",
    "    return X, regressor"
   ]
  },
  {
   "cell_type": "code",
   "execution_count": 7,
   "metadata": {},
   "outputs": [],
   "source": [
    "# With this function, models are tested in 10-fold cross_validation and\n",
    "# a permutation variance analysis is performed\n",
    "def test_model(model, df, target = \"max_price\", log=True, nr_folds=10):\n",
    "    Y = df[target]\n",
    "    X, regressor = prepare_model(model, df, target, log)\n",
    "    scores = cross_validate(regressor, X, Y, scoring=['neg_mean_absolute_error'], cv=nr_folds)\n",
    "    print(\"gemiddeld: {}, details: {}\".format(-np.mean(scores['test_neg_mean_absolute_error']), -scores['test_neg_mean_absolute_error']))\n",
    "    regressor.fit(X, Y)\n",
    "    var_importance(regressor, X, Y)"
   ]
  },
  {
   "cell_type": "code",
   "execution_count": 8,
   "metadata": {},
   "outputs": [],
   "source": [
    "# computes all levels for all categorical variables\n",
    "# that a give model uses. Takes both training and\n",
    "# test set into account (we know the test set)\n",
    "\n",
    "def get_categories(df_train, df_test, reformater):\n",
    "    # compute levels categorical variables for Huber\n",
    "    train_df = reformater(df_train)\n",
    "    train_df = train_df.drop(columns=targets)\n",
    "    test_df = reformater(df_test)\n",
    "    categorical_features = test_df.select_dtypes(include=['object']).columns\n",
    "    df_full = pd.concat([train_df,test_df], join='outer', axis=0)\n",
    "    categories = []\n",
    "    for col in categorical_features:\n",
    "        categories.append(df_full[col].unique())\n",
    "    return categories"
   ]
  },
  {
   "cell_type": "code",
   "execution_count": 9,
   "metadata": {},
   "outputs": [
    {
     "name": "stderr",
     "output_type": "stream",
     "text": [
      "C:\\Users\\u0115374\\AppData\\Local\\Continuum\\anaconda3\\lib\\site-packages\\ipykernel_launcher.py:11: FutureWarning: Sorting because non-concatenation axis is not aligned. A future version\n",
      "of pandas will change to not sort by default.\n",
      "\n",
      "To accept the future behavior, pass 'sort=False'.\n",
      "\n",
      "To retain the current behavior and silence the warning, pass 'sort=True'.\n",
      "\n",
      "  # This is added back by InteractiveShellApp.init_path()\n"
     ]
    }
   ],
   "source": [
    "## HUBER ##\n",
    "def reformat_huber(df):\n",
    "    df = deepcopy(df)\n",
    "    \n",
    "    # transform values of some nominal variables\n",
    "    df.screen_size = df.screen_size.pow(2)  #square the values\n",
    "    df.ram = df.ram.pow(2)  #square the values\n",
    "    df.ssd = df.ssd.pow(1)  #square the values\n",
    "    df.weight = np.maximum(0,np.log(df.weight+.0000001)) \n",
    "    df[\"wstorage\"] = df.storage.pow(1.5)\n",
    "    \n",
    "    # drop columns\n",
    "    drop_cols = [\"touchscreen\", \"screen_surface\", \"gpu_series\", \"ram\", \"detachable_keyboard\", \"os\",\n",
    "                \"pixels_y\", \"os_type\", \"os_nr\", \"id\", \"pixels_x\", \"gpu_brand\", \"name\", \"cpu_type\",\n",
    "                \"weight\", \"storage\", \"cpu_brand\", \"os_details\"]\n",
    "    # previous best \n",
    "    drop_cols = [\"id\", \"name\", \"screen_size\", \"weight\", \"gpu_series\", \"base_name\", \n",
    "                \"detachable_keyboard\", \"ram\", \"screen_surface\", \"storage\", \"Quad-Core\",\"os_details\",\n",
    "                \"speed\", \"cpu_details\", \"os\", \"pixels_x\", \"cpu_details\", \"touchscreen\", \"cpu_type\",\n",
    "                \"gimmick\"]\n",
    "    #best performer v3\n",
    "    drop_cols = [\"touchscreen\", \"screen_surface\", \"gpu_series\", \"ram\", \"detachable_keyboard\", \"os\",\n",
    "            \"pixels_y\", \"os_type\", \"os_nr\", \"id\", \"pixels_x\", \"gpu_brand\", \"name\", \"cpu_type\",\n",
    "            \"Dual-Core\"]\n",
    "    df = df.drop(columns=drop_cols)\n",
    "    \n",
    "    # replace rare categorical levels by \"other\"\n",
    "    cat_col = df.select_dtypes(include=['object']).columns\n",
    "    for col in cat_col:\n",
    "        val_counts = df[col].value_counts(normalize=True).cumsum()\n",
    "        val_counts = val_counts.where(val_counts < .95)\n",
    "        keep_vals = list(val_counts.dropna().index.values)\n",
    "        df.loc[~df[col].isin(keep_vals), col] = \"other\"\n",
    "\n",
    "    return df\n",
    "\n",
    "reformat_dict[\"huber\"] = reformat_huber\n",
    "categories_dict[\"huber\"] =  get_categories(df_train, df_test, reformat_huber)\n",
    "log_dict[\"huber\"] = False\n",
    "\n",
    "def pipe_huber(preprocessor, input_shape):\n",
    "    pipeline = Pipeline([\n",
    "                    (('preprocessor', preprocessor)),\n",
    "                    #('uma', umap.UMAP(n_components=15, n_neighbors=10, n_epochs=100)),\n",
    "                    #('tsv', TruncatedSVD(n_components=1000)),\n",
    "                     ('rdg', HuberRegressor(1.7, alpha=.020, max_iter=5000)) #alpha:regulizer\n",
    "                    ])\n",
    "    return pipeline\n",
    "\n",
    "\n",
    "model_dict[\"huber\"] = pipe_huber"
   ]
  },
  {
   "cell_type": "code",
   "execution_count": 10,
   "metadata": {},
   "outputs": [
    {
     "name": "stderr",
     "output_type": "stream",
     "text": [
      "C:\\Users\\u0115374\\AppData\\Local\\Continuum\\anaconda3\\lib\\site-packages\\ipykernel_launcher.py:11: FutureWarning: Sorting because non-concatenation axis is not aligned. A future version\n",
      "of pandas will change to not sort by default.\n",
      "\n",
      "To accept the future behavior, pass 'sort=False'.\n",
      "\n",
      "To retain the current behavior and silence the warning, pass 'sort=True'.\n",
      "\n",
      "  # This is added back by InteractiveShellApp.init_path()\n"
     ]
    }
   ],
   "source": [
    "## RANDOM FOREST REGRESSOR ##\n",
    "def reformat_rfr(df):\n",
    "    df = deepcopy(df)\n",
    "    \n",
    "    # transform values of some nominal variables\n",
    "    df.screen_size = df.screen_size.pow(2)  #square the values\n",
    "    df.ram = df.ram.pow(2)  #square the values\n",
    "    df.weight = np.maximum(0,np.log(df.weight)) \n",
    "    \n",
    "    # drop columns\n",
    "    drop_cols=[\"id\", \"name\", \"gpu_series\", \"pixels_x\", \"screen_surface\", \"os\", \"os_details\", \"cpu_brand\",\n",
    "              \"detachable_keyboard\", \"touchscreen\", \"os_nr\", \"screen_size\", \"cpu_details\", \"brand\",\n",
    "              \"gpu_brand\", \"os_type\", \"storage\"]\n",
    "    drop_cols=[\"id\", \"name\", \"base_name\", \"screen_size\", \"weight\", \"detachable_keyboard\", \"gpu_series\",\n",
    "              \"ssd\", \"pixels_x\", \"cpu_details\", \"os_details\", \"cpu_brand\", \"cpu\", \"os\"]\n",
    "    df = df.drop(columns=drop_cols)\n",
    "    \n",
    "    # replace rare categorical levels by \"other\": doesn't seem to help\n",
    "    #cat_col = df.select_dtypes(include=['object']).columns\n",
    "    #for col in cat_col:\n",
    "    #    val_counts = df[col].value_counts(normalize=True).cumsum()\n",
    "    #    val_counts = val_counts.where(val_counts < .99)\n",
    "    #    keep_vals = list(val_counts.dropna().index.values)\n",
    "    #    df.loc[~df[col].isin(keep_vals), col] = \"other\"\n",
    "\n",
    "    return df\n",
    "\n",
    "reformat_dict[\"rfr\"] = reformat_rfr\n",
    "categories_dict[\"rfr\"] =  get_categories(df_train, df_test, reformat_rfr)\n",
    "log_dict[\"rfr\"] = True\n",
    "\n",
    "def pipe_rfr(preprocessor, input_shape):\n",
    "    pipeline= Pipeline([\n",
    "                    (('preprocessor', preprocessor)),\n",
    "                     ('rfr', RandomForestRegressor(criterion=\"mse\", max_features = .2, n_jobs=-1,\n",
    "                                                   min_samples_leaf=1, max_depth=20, n_estimators=500))\n",
    "     ])\n",
    "    return pipeline\n",
    "model_dict[\"rfr\"] = pipe_rfr"
   ]
  },
  {
   "cell_type": "code",
   "execution_count": 11,
   "metadata": {},
   "outputs": [
    {
     "name": "stderr",
     "output_type": "stream",
     "text": [
      "C:\\Users\\u0115374\\AppData\\Local\\Continuum\\anaconda3\\lib\\site-packages\\ipykernel_launcher.py:11: FutureWarning: Sorting because non-concatenation axis is not aligned. A future version\n",
      "of pandas will change to not sort by default.\n",
      "\n",
      "To accept the future behavior, pass 'sort=False'.\n",
      "\n",
      "To retain the current behavior and silence the warning, pass 'sort=True'.\n",
      "\n",
      "  # This is added back by InteractiveShellApp.init_path()\n"
     ]
    }
   ],
   "source": [
    "## GRADIENT BOOSTING REGRESSOR ##\n",
    "def reformat_gbr(df):\n",
    "    df = deepcopy(df)\n",
    "    \n",
    "    # transform values of some nominal variables\n",
    "    df.screen_size = df.screen_size.pow(2)  #square the values\n",
    "    df.ram = df.ram.pow(2)  #square the values\n",
    "    df.weight = np.maximum(0,np.log(df.weight)) \n",
    "    \n",
    "    # drop columns\n",
    "    drop_cols=[\"id\", \"name\", \"detachable_keyboard\", \"base_name\"]\n",
    "    df = df.drop(columns=drop_cols)\n",
    "    \n",
    "    # replace rare categorical levels by \"other\": doesn't seem to help\n",
    "    #cat_col = df.select_dtypes(include=['object']).columns\n",
    "    #for col in cat_col:\n",
    "    #    val_counts = df[col].value_counts(normalize=True).cumsum()\n",
    "    #    val_counts = val_counts.where(val_counts < .99)\n",
    "    #    keep_vals = list(val_counts.dropna().index.values)\n",
    "    #    df.loc[~df[col].isin(keep_vals), col] = \"other\"\n",
    "\n",
    "    return df\n",
    "\n",
    "reformat_dict[\"gbr\"] = reformat_gbr\n",
    "categories_dict[\"gbr\"] =  get_categories(df_train, df_test, reformat_gbr)\n",
    "log_dict[\"gbr\"] = True\n",
    "\n",
    "def pipe_gbr(preprocessor, input_shape):\n",
    "    pipeline= Pipeline([\n",
    "                    (('preprocessor', preprocessor)),\n",
    "                     ('3rd', GradientBoostingRegressor(n_estimators=1000, learning_rate=0.05,\n",
    "                                   max_depth=8, max_features='sqrt',\n",
    "                                   min_samples_leaf=1, min_samples_split=5, \n",
    "                                   loss='huber', random_state =5))\n",
    "                    ])\n",
    "    return pipeline\n",
    "\n",
    "model_dict[\"gbr\"] = pipe_gbr"
   ]
  },
  {
   "cell_type": "code",
   "execution_count": 12,
   "metadata": {},
   "outputs": [
    {
     "name": "stderr",
     "output_type": "stream",
     "text": [
      "C:\\Users\\u0115374\\AppData\\Local\\Continuum\\anaconda3\\lib\\site-packages\\ipykernel_launcher.py:11: FutureWarning: Sorting because non-concatenation axis is not aligned. A future version\n",
      "of pandas will change to not sort by default.\n",
      "\n",
      "To accept the future behavior, pass 'sort=False'.\n",
      "\n",
      "To retain the current behavior and silence the warning, pass 'sort=True'.\n",
      "\n",
      "  # This is added back by InteractiveShellApp.init_path()\n"
     ]
    }
   ],
   "source": [
    "## SUPPORT VECTOR MACHINE ##\n",
    "def reformat_svm(df):\n",
    "    df = deepcopy(df)\n",
    "    \n",
    "    # transform values of some nominal variables\n",
    "    df.screen_size = df.screen_size.pow(2)  #square the values\n",
    "    df.ram = df.ram.pow(2)  #square the values\n",
    "    df.weight = np.maximum(0,np.log(df.weight)) \n",
    "    \n",
    "    # drop columns\n",
    "    drop_cols=[\"id\", \"name\", \"detachable_keyboard\", \"base_name\", \"pixels_x\", \"os_details\", \"cpu\",\n",
    "              \"cpu_details\", \"cpu_brand\", \"os\", \"screen_surface\", \"os_nr\"]\n",
    "    df = df.drop(columns=drop_cols)\n",
    "    \n",
    "    # replace rare categorical levels by \"other\": doesn't seem to help\n",
    "    #cat_col = df.select_dtypes(include=['object']).columns\n",
    "    #for col in cat_col:\n",
    "    #    val_counts = df[col].value_counts(normalize=True).cumsum()\n",
    "    #    val_counts = val_counts.where(val_counts < .99)\n",
    "    #    keep_vals = list(val_counts.dropna().index.values)\n",
    "    #    df.loc[~df[col].isin(keep_vals), col] = \"other\"\n",
    "\n",
    "    return df\n",
    "\n",
    "reformat_dict[\"svm\"] = reformat_svm\n",
    "categories_dict[\"svm\"] =  get_categories(df_train, df_test, reformat_svm)\n",
    "log_dict[\"svm\"] = True\n",
    "\n",
    "def pipe_svm(preprocessor, input_shape):\n",
    "    \n",
    "    pipeline = Pipeline([\n",
    "                        (('preprocessor', preprocessor)),\n",
    "                         ('3rd', SVR())\n",
    "                        ])\n",
    "    return pipeline\n",
    "\n",
    "model_dict[\"svm\"] = pipe_svm"
   ]
  },
  {
   "cell_type": "code",
   "execution_count": 13,
   "metadata": {},
   "outputs": [
    {
     "name": "stderr",
     "output_type": "stream",
     "text": [
      "C:\\Users\\u0115374\\AppData\\Local\\Continuum\\anaconda3\\lib\\site-packages\\ipykernel_launcher.py:11: FutureWarning: Sorting because non-concatenation axis is not aligned. A future version\n",
      "of pandas will change to not sort by default.\n",
      "\n",
      "To accept the future behavior, pass 'sort=False'.\n",
      "\n",
      "To retain the current behavior and silence the warning, pass 'sort=True'.\n",
      "\n",
      "  # This is added back by InteractiveShellApp.init_path()\n"
     ]
    }
   ],
   "source": [
    "## K NEIGHBORS REGRESSOR ##\n",
    "def reformat_knr(df):\n",
    "    df = deepcopy(df)\n",
    "    \n",
    "    # transform values of some nominal variables\n",
    "    df.screen_size = df.screen_size.pow(2)  #square the values\n",
    "    df.ram = df.ram.pow(2)  #square the values\n",
    "    df.weight = np.maximum(0,np.log(df.weight)) \n",
    "    \n",
    "    # drop columns\n",
    "    drop_cols=[\"id\", \"name\", \"detachable_keyboard\", \"base_name\", \"pixels_x\", \"cpu_details\", \"os\", \"gimmick\",\n",
    "              \"os_type\", \"os_details\", \"Dual-Core\", \"discrete_gpu\", \"cpu_brand\"]\n",
    "    df = df.drop(columns=drop_cols)\n",
    "    \n",
    "    # replace rare categorical levels by \"other\": doesn't seem to help\n",
    "    #cat_col = df.select_dtypes(include=['object']).columns\n",
    "    #for col in cat_col:\n",
    "    #    val_counts = df[col].value_counts(normalize=True).cumsum()\n",
    "    #    val_counts = val_counts.where(val_counts < .99)\n",
    "    #    keep_vals = list(val_counts.dropna().index.values)\n",
    "    #    df.loc[~df[col].isin(keep_vals), col] = \"other\"\n",
    "\n",
    "    return df\n",
    "\n",
    "reformat_dict[\"knr\"] = reformat_knr\n",
    "categories_dict[\"knr\"] =  get_categories(df_train, df_test, reformat_knr)\n",
    "log_dict[\"knr\"] = True\n",
    "\n",
    "def pipe_knr(preprocessor, input_shape):\n",
    "    \n",
    "    pipeline = Pipeline([\n",
    "                        (('preprocessor', preprocessor)),\n",
    "                         ('knr', KNeighborsRegressor(n_neighbors=3, leaf_size=10, p=1, weights='distance'))\n",
    "                        ])\n",
    "    return pipeline\n",
    "\n",
    "model_dict[\"knr\"] = pipe_knr"
   ]
  },
  {
   "cell_type": "code",
   "execution_count": 14,
   "metadata": {},
   "outputs": [
    {
     "name": "stderr",
     "output_type": "stream",
     "text": [
      "Using TensorFlow backend.\n"
     ]
    }
   ],
   "source": [
    "# neural network imports\n",
    "from sklearn.base import TransformerMixin\n",
    "from keras.wrappers.scikit_learn import KerasRegressor\n",
    "from keras.callbacks import EarlyStopping, ModelCheckpoint\n",
    "from keras.layers import Dense, Input\n",
    "from keras.models import Model\n",
    "from keras import regularizers\n",
    "from keras.regularizers import l1_l2\n",
    "from keras.models import load_model\n",
    "\n",
    "class MLP_custom(TransformerMixin):\n",
    "    def __init__(self, nodes=5, epochs=200, batch_size=60, metric='mean_absolute_error', l1=0.0001, l2=0.0001,\n",
    "                 input_shape=0, validation_split=.3, patience=3):\n",
    "        self.nd = nodes\n",
    "        self.ep = epochs\n",
    "        self.bs= batch_size\n",
    "        self.metric = metric\n",
    "        self.l1 = l1\n",
    "        self.l2 = l2\n",
    "        self.vs = validation_split\n",
    "        self.pat = patience\n",
    "        \n",
    "        # model\n",
    "        inputs = Input(shape=(input_shape,))  # was 1196\n",
    "        dense = Dense(self.nd, activity_regularizer=l1_l2(self.l1, self.l2), \n",
    "                      activation=\"relu\", kernel_initializer='Orthogonal')(inputs)\n",
    "        output = Dense(1, activation=\"relu\")(dense)\n",
    "        self.model = Model(inputs=inputs, outputs=output)\n",
    "        self.model.compile(loss = self.metric, optimizer = 'adadelta', metrics=[self.metric])\n",
    "        \n",
    "        #callbacks\n",
    "        self.es = EarlyStopping(monitor='val_'+metric, mode='min', verbose=0, patience=self.pat)\n",
    "        self.mc = ModelCheckpoint('best_model.h5', monitor='val_'+metric, mode='min', verbose=0, save_best_only=True)\n",
    "        \n",
    "        \n",
    "    def fit(self, X, Y):\n",
    "        self.X = X\n",
    "        self.Y = Y\n",
    "        self.model.fit(X, Y, epochs=self.ep, batch_size=self.bs, callbacks=[self.es, self.mc], \n",
    "                       validation_split=self.vs, verbose=0)    \n",
    "        self.model = load_model('best_model.h5')\n",
    "\n",
    "    \n",
    "    def transform(self, X):\n",
    "        return self.model.predict(X)\n",
    "    \n",
    "    \n",
    "    def predict(self, X):\n",
    "        return self.model.predict(X)\n",
    "    \n",
    "    def score(self, X, Y):\n",
    "        self.X = X\n",
    "        self.Y = Y\n",
    "        self.Y_pred = self.model.predict(X)\n",
    "        return mean_absolute_error(self.Y, self.Y_pred)\n"
   ]
  },
  {
   "cell_type": "code",
   "execution_count": 15,
   "metadata": {},
   "outputs": [
    {
     "name": "stderr",
     "output_type": "stream",
     "text": [
      "C:\\Users\\u0115374\\AppData\\Local\\Continuum\\anaconda3\\lib\\site-packages\\ipykernel_launcher.py:11: FutureWarning: Sorting because non-concatenation axis is not aligned. A future version\n",
      "of pandas will change to not sort by default.\n",
      "\n",
      "To accept the future behavior, pass 'sort=False'.\n",
      "\n",
      "To retain the current behavior and silence the warning, pass 'sort=True'.\n",
      "\n",
      "  # This is added back by InteractiveShellApp.init_path()\n"
     ]
    }
   ],
   "source": [
    "## MULTI LAYER PERCEPTRON##\n",
    "def reformat_mlp(df):\n",
    "    df = deepcopy(df)\n",
    "    \n",
    "    # transform values of some nominal variables\n",
    "    df.screen_size = df.screen_size.pow(2)  #square the values\n",
    "    df.ram = df.ram.pow(2)  #square the values\n",
    "    df.weight = np.maximum(0,np.log(df.weight)) \n",
    "    \n",
    "    # drop columns\n",
    "    drop_cols=[\"id\", \"name\", \"detachable_keyboard\", \"base_name\", \"pixels_x\"]\n",
    "    df = df.drop(columns=drop_cols)\n",
    "    \n",
    "    # replace rare categorical levels by \"other\": doesn't seem to help\n",
    "    #cat_col = df.select_dtypes(include=['object']).columns\n",
    "    #for col in cat_col:\n",
    "    #    val_counts = df[col].value_counts(normalize=True).cumsum()\n",
    "    #    val_counts = val_counts.where(val_counts < .99)\n",
    "    #    keep_vals = list(val_counts.dropna().index.values)\n",
    "    #    df.loc[~df[col].isin(keep_vals), col] = \"other\"\n",
    "\n",
    "    return df\n",
    "\n",
    "reformat_dict[\"mlp\"] = reformat_mlp\n",
    "categories_dict[\"mlp\"] =  get_categories(df_train, df_test, reformat_mlp)\n",
    "log_dict[\"mlp\"] = True\n",
    "\n",
    "def pipe_mlp(preprocessor, input_shape):\n",
    "    \n",
    "    pipeline = Pipeline([\n",
    "                        (('preprocessor', preprocessor)),\n",
    "                         ('mlp', MLP_custom(input_shape=input_shape, nodes=10))\n",
    "                        ])\n",
    "    return pipeline\n",
    "\n",
    "model_dict[\"mlp\"] = pipe_mlp"
   ]
  },
  {
   "cell_type": "code",
   "execution_count": 16,
   "metadata": {
    "scrolled": false
   },
   "outputs": [],
   "source": [
    "# this preprocessor is the same for all models, but doesn't have to be\n",
    "def create_preprocessor(df_pp, categories):\n",
    "    #global categories\n",
    "    numeric_transformer = Pipeline(steps=[\n",
    "        ('imputer', SimpleImputer(strategy='median')),\n",
    "        ('scaler', StandardScaler())\n",
    "        ])\n",
    "    categorical_transformer = Pipeline(steps=[\n",
    "        ('imputer', SimpleImputer(strategy='constant', fill_value='missing')),\n",
    "        #('ordinal', OrdinalEncoder(categories=categories)),\n",
    "        #('scaler', StandardScaler())\n",
    "        ('onehot', OneHotEncoder(categories=categories, handle_unknown=\"ignore\")),   \n",
    "        ])\n",
    "\n",
    "    numeric_features = df_pp.select_dtypes(include=['int64', 'float64', 'boolean']).columns\n",
    "    categorical_features = df_pp.select_dtypes(include=['object']).columns\n",
    "    \n",
    "    preprocessor = ColumnTransformer(\n",
    "        transformers=[\n",
    "            ('num', numeric_transformer, numeric_features),\n",
    "            ('cat', categorical_transformer, categorical_features)\n",
    "        ])\n",
    "    return preprocessor"
   ]
  },
  {
   "cell_type": "code",
   "execution_count": 17,
   "metadata": {},
   "outputs": [
    {
     "name": "stderr",
     "output_type": "stream",
     "text": [
      "C:\\Users\\u0115374\\AppData\\Local\\Continuum\\anaconda3\\lib\\site-packages\\ipykernel_launcher.py:11: FutureWarning: Sorting because non-concatenation axis is not aligned. A future version\n",
      "of pandas will change to not sort by default.\n",
      "\n",
      "To accept the future behavior, pass 'sort=False'.\n",
      "\n",
      "To retain the current behavior and silence the warning, pass 'sort=True'.\n",
      "\n",
      "  # This is added back by InteractiveShellApp.init_path()\n"
     ]
    }
   ],
   "source": [
    "## RANSAC ##\n",
    "from sklearn.linear_model import RANSACRegressor\n",
    "def reformat_ran(df):\n",
    "    df = deepcopy(df)\n",
    "    \n",
    "    # transform values of some nominal variables\n",
    "    df.screen_size = df.screen_size.pow(2)  #square the values\n",
    "    df.ram = df.ram.pow(2)  #square the values\n",
    "    df.weight = np.maximum(0,np.log(df.weight)) \n",
    "    \n",
    "    # drop columns\n",
    "    drop_cols=[\"id\", \"name\", \"detachable_keyboard\", \"base_name\", \"pixels_x\", \"cpu_details\", \"os\", \"gimmick\",\n",
    "              \"os_type\", \"os_details\", \"Dual-Core\", \"discrete_gpu\", \"cpu_brand\", \"Hexa-Core\", \"screen_surface\",\n",
    "              \"weight\", \"Quad-Core\", \"touchscreen\", \"ram\", \"cpu\", \"speed\", \"resolution\", \"storage\", \"gpu_brand\"]\n",
    "    df = df.drop(columns=drop_cols)\n",
    "    \n",
    "    # replace rare categorical levels by \"other\": doesn't seem to help\n",
    "    #cat_col = df.select_dtypes(include=['object']).columns\n",
    "    #for col in cat_col:\n",
    "    #    val_counts = df[col].value_counts(normalize=True).cumsum()\n",
    "    #    val_counts = val_counts.where(val_counts < .99)\n",
    "    #    keep_vals = list(val_counts.dropna().index.values)\n",
    "    #    df.loc[~df[col].isin(keep_vals), col] = \"other\"\n",
    "\n",
    "    return df\n",
    "\n",
    "reformat_dict[\"ran\"] = reformat_ran\n",
    "categories_dict[\"ran\"] =  get_categories(df_train, df_test, reformat_ran)\n",
    "log_dict[\"ran\"] = True\n",
    "\n",
    "def pipe_ran(preprocessor, input_shape):\n",
    "    \n",
    "    pipeline = Pipeline([\n",
    "                        (('preprocessor', preprocessor)),\n",
    "                         ('ran', RANSACRegressor())\n",
    "                        ])\n",
    "    return pipeline\n",
    "\n",
    "model_dict[\"ran\"] = pipe_ran"
   ]
  },
  {
   "cell_type": "code",
   "execution_count": 18,
   "metadata": {},
   "outputs": [
    {
     "name": "stderr",
     "output_type": "stream",
     "text": [
      "C:\\Users\\u0115374\\AppData\\Local\\Continuum\\anaconda3\\lib\\site-packages\\ipykernel_launcher.py:11: FutureWarning: Sorting because non-concatenation axis is not aligned. A future version\n",
      "of pandas will change to not sort by default.\n",
      "\n",
      "To accept the future behavior, pass 'sort=False'.\n",
      "\n",
      "To retain the current behavior and silence the warning, pass 'sort=True'.\n",
      "\n",
      "  # This is added back by InteractiveShellApp.init_path()\n"
     ]
    }
   ],
   "source": [
    "## SGD ##\n",
    "from sklearn.linear_model import SGDRegressor\n",
    "def reformat_sgd(df):\n",
    "    df = deepcopy(df)\n",
    "    \n",
    "    # transform values of some nominal variables\n",
    "    df.screen_size = df.screen_size.pow(2)  #square the values\n",
    "    df.ram = df.ram.pow(2)  #square the values\n",
    "    df.weight = np.maximum(0,np.log(df.weight)) \n",
    "    \n",
    "    # drop columns\n",
    "    drop_cols=[\"id\", \"name\", \"detachable_keyboard\", \"base_name\", \"pixels_x\", \"gimmick\", \"touchscreen\",\n",
    "              \"screen_surface\", \"gpu_brand\", \"os_details\", \"cpu\", \"Hexa-Core\", \"ram\", \"storage\",\n",
    "              \"pixels_y\", \"speed\", \"Hyper-Threading\", \"os_type\", \"gpu_series\", \"Dual-Core\"]\n",
    "    df = df.drop(columns=drop_cols)\n",
    "    \n",
    "    # replace rare categorical levels by \"other\": doesn't seem to help\n",
    "    #cat_col = df.select_dtypes(include=['object']).columns\n",
    "    #for col in cat_col:\n",
    "    #    val_counts = df[col].value_counts(normalize=True).cumsum()\n",
    "    #    val_counts = val_counts.where(val_counts < .99)\n",
    "    #    keep_vals = list(val_counts.dropna().index.values)\n",
    "    #    df.loc[~df[col].isin(keep_vals), col] = \"other\"\n",
    "\n",
    "    return df\n",
    "\n",
    "reformat_dict[\"sgd\"] = reformat_sgd\n",
    "categories_dict[\"sgd\"] =  get_categories(df_train, df_test, reformat_sgd)\n",
    "log_dict[\"sgd\"] = True\n",
    "\n",
    "def pipe_sgd(preprocessor, input_shape):\n",
    "    \n",
    "    pipeline = Pipeline([\n",
    "                        (('preprocessor', preprocessor)),\n",
    "                         ('sgd', SGDRegressor(loss='squared_loss', penalty='l1', alpha=0.0001, max_iter=5000))\n",
    "                        ])\n",
    "    return pipeline\n",
    "\n",
    "model_dict[\"sgd\"] = pipe_sgd"
   ]
  },
  {
   "cell_type": "code",
   "execution_count": 19,
   "metadata": {},
   "outputs": [],
   "source": [
    "# permutation variable importance\n",
    "def var_importance(pipe, X, Y, scoring=None):\n",
    "    perm_imp = permutation_importance(pipe, X, Y, scoring=scoring, n_repeats=10, n_jobs=None, random_state=None)\n",
    "    sorted_idx = perm_imp.importances_mean.argsort()\n",
    "\n",
    "    fig, ax = plt.subplots()\n",
    "    ax.boxplot(perm_imp.importances[sorted_idx].T,\n",
    "               vert=False, labels=X.columns[sorted_idx])\n",
    "    ax.set_title(\"Permutation Importances (test set)\")\n",
    "    fig.tight_layout()\n",
    "    plt.show()"
   ]
  },
  {
   "cell_type": "code",
   "execution_count": 20,
   "metadata": {},
   "outputs": [
    {
     "ename": "TypeError",
     "evalue": "data type \"boolean\" not understood",
     "output_type": "error",
     "traceback": [
      "\u001b[1;31m---------------------------------------------------------------------------\u001b[0m",
      "\u001b[1;31mTypeError\u001b[0m                                 Traceback (most recent call last)",
      "\u001b[1;32m<ipython-input-20-b9a3ab5399e1>\u001b[0m in \u001b[0;36m<module>\u001b[1;34m\u001b[0m\n\u001b[1;32m----> 1\u001b[1;33m \u001b[0mtest_model\u001b[0m\u001b[1;33m(\u001b[0m\u001b[1;34m\"sgd\"\u001b[0m\u001b[1;33m,\u001b[0m \u001b[0mdf_train\u001b[0m\u001b[1;33m,\u001b[0m \u001b[0mtarget\u001b[0m\u001b[1;33m=\u001b[0m\u001b[1;34m\"max_price\"\u001b[0m\u001b[1;33m,\u001b[0m \u001b[0mlog\u001b[0m\u001b[1;33m=\u001b[0m\u001b[1;32mFalse\u001b[0m\u001b[1;33m,\u001b[0m \u001b[0mnr_folds\u001b[0m\u001b[1;33m=\u001b[0m\u001b[1;36m10\u001b[0m\u001b[1;33m)\u001b[0m\u001b[1;33m\u001b[0m\u001b[1;33m\u001b[0m\u001b[0m\n\u001b[0m",
      "\u001b[1;32m<ipython-input-7-ea6a2f969f0b>\u001b[0m in \u001b[0;36mtest_model\u001b[1;34m(model, df, target, log, nr_folds)\u001b[0m\n\u001b[0;32m      3\u001b[0m \u001b[1;32mdef\u001b[0m \u001b[0mtest_model\u001b[0m\u001b[1;33m(\u001b[0m\u001b[0mmodel\u001b[0m\u001b[1;33m,\u001b[0m \u001b[0mdf\u001b[0m\u001b[1;33m,\u001b[0m \u001b[0mtarget\u001b[0m \u001b[1;33m=\u001b[0m \u001b[1;34m\"max_price\"\u001b[0m\u001b[1;33m,\u001b[0m \u001b[0mlog\u001b[0m\u001b[1;33m=\u001b[0m\u001b[1;32mTrue\u001b[0m\u001b[1;33m,\u001b[0m \u001b[0mnr_folds\u001b[0m\u001b[1;33m=\u001b[0m\u001b[1;36m10\u001b[0m\u001b[1;33m)\u001b[0m\u001b[1;33m:\u001b[0m\u001b[1;33m\u001b[0m\u001b[1;33m\u001b[0m\u001b[0m\n\u001b[0;32m      4\u001b[0m     \u001b[0mY\u001b[0m \u001b[1;33m=\u001b[0m \u001b[0mdf\u001b[0m\u001b[1;33m[\u001b[0m\u001b[0mtarget\u001b[0m\u001b[1;33m]\u001b[0m\u001b[1;33m\u001b[0m\u001b[1;33m\u001b[0m\u001b[0m\n\u001b[1;32m----> 5\u001b[1;33m     \u001b[0mX\u001b[0m\u001b[1;33m,\u001b[0m \u001b[0mregressor\u001b[0m \u001b[1;33m=\u001b[0m \u001b[0mprepare_model\u001b[0m\u001b[1;33m(\u001b[0m\u001b[0mmodel\u001b[0m\u001b[1;33m,\u001b[0m \u001b[0mdf\u001b[0m\u001b[1;33m,\u001b[0m \u001b[0mtarget\u001b[0m\u001b[1;33m,\u001b[0m \u001b[0mlog\u001b[0m\u001b[1;33m)\u001b[0m\u001b[1;33m\u001b[0m\u001b[1;33m\u001b[0m\u001b[0m\n\u001b[0m\u001b[0;32m      6\u001b[0m     \u001b[0mscores\u001b[0m \u001b[1;33m=\u001b[0m \u001b[0mcross_validate\u001b[0m\u001b[1;33m(\u001b[0m\u001b[0mregressor\u001b[0m\u001b[1;33m,\u001b[0m \u001b[0mX\u001b[0m\u001b[1;33m,\u001b[0m \u001b[0mY\u001b[0m\u001b[1;33m,\u001b[0m \u001b[0mscoring\u001b[0m\u001b[1;33m=\u001b[0m\u001b[1;33m[\u001b[0m\u001b[1;34m'neg_mean_absolute_error'\u001b[0m\u001b[1;33m]\u001b[0m\u001b[1;33m,\u001b[0m \u001b[0mcv\u001b[0m\u001b[1;33m=\u001b[0m\u001b[0mnr_folds\u001b[0m\u001b[1;33m)\u001b[0m\u001b[1;33m\u001b[0m\u001b[1;33m\u001b[0m\u001b[0m\n\u001b[0;32m      7\u001b[0m     \u001b[0mprint\u001b[0m\u001b[1;33m(\u001b[0m\u001b[1;34m\"gemiddeld: {}, details: {}\"\u001b[0m\u001b[1;33m.\u001b[0m\u001b[0mformat\u001b[0m\u001b[1;33m(\u001b[0m\u001b[1;33m-\u001b[0m\u001b[0mnp\u001b[0m\u001b[1;33m.\u001b[0m\u001b[0mmean\u001b[0m\u001b[1;33m(\u001b[0m\u001b[0mscores\u001b[0m\u001b[1;33m[\u001b[0m\u001b[1;34m'test_neg_mean_absolute_error'\u001b[0m\u001b[1;33m]\u001b[0m\u001b[1;33m)\u001b[0m\u001b[1;33m,\u001b[0m \u001b[1;33m-\u001b[0m\u001b[0mscores\u001b[0m\u001b[1;33m[\u001b[0m\u001b[1;34m'test_neg_mean_absolute_error'\u001b[0m\u001b[1;33m]\u001b[0m\u001b[1;33m)\u001b[0m\u001b[1;33m)\u001b[0m\u001b[1;33m\u001b[0m\u001b[1;33m\u001b[0m\u001b[0m\n",
      "\u001b[1;32m<ipython-input-6-1b99d56d77f7>\u001b[0m in \u001b[0;36mprepare_model\u001b[1;34m(model, df, target, log, verbose)\u001b[0m\n\u001b[0;32m      5\u001b[0m     \u001b[0mX\u001b[0m \u001b[1;33m=\u001b[0m \u001b[0mdf_pp\u001b[0m\u001b[1;33m.\u001b[0m\u001b[0mdrop\u001b[0m\u001b[1;33m(\u001b[0m\u001b[0mtargets\u001b[0m\u001b[1;33m,\u001b[0m \u001b[0maxis\u001b[0m\u001b[1;33m=\u001b[0m\u001b[1;36m1\u001b[0m\u001b[1;33m)\u001b[0m\u001b[1;33m\u001b[0m\u001b[1;33m\u001b[0m\u001b[0m\n\u001b[0;32m      6\u001b[0m     \u001b[0mcategories\u001b[0m \u001b[1;33m=\u001b[0m \u001b[0mcategories_dict\u001b[0m\u001b[1;33m[\u001b[0m\u001b[0mmodel\u001b[0m\u001b[1;33m]\u001b[0m\u001b[1;33m\u001b[0m\u001b[1;33m\u001b[0m\u001b[0m\n\u001b[1;32m----> 7\u001b[1;33m     \u001b[0mpreprocessor\u001b[0m \u001b[1;33m=\u001b[0m \u001b[0mcreate_preprocessor\u001b[0m\u001b[1;33m(\u001b[0m\u001b[0mX\u001b[0m\u001b[1;33m,\u001b[0m \u001b[0mcategories\u001b[0m\u001b[1;33m)\u001b[0m\u001b[1;33m\u001b[0m\u001b[1;33m\u001b[0m\u001b[0m\n\u001b[0m\u001b[0;32m      8\u001b[0m     \u001b[0minput_shape\u001b[0m \u001b[1;33m=\u001b[0m \u001b[0mPipeline\u001b[0m\u001b[1;33m(\u001b[0m\u001b[1;33m[\u001b[0m\u001b[1;33m(\u001b[0m\u001b[1;34m'tp'\u001b[0m\u001b[1;33m,\u001b[0m \u001b[0mpreprocessor\u001b[0m\u001b[1;33m)\u001b[0m\u001b[1;33m]\u001b[0m\u001b[1;33m)\u001b[0m\u001b[1;33m.\u001b[0m\u001b[0mfit_transform\u001b[0m\u001b[1;33m(\u001b[0m\u001b[0mX\u001b[0m\u001b[1;33m)\u001b[0m\u001b[1;33m.\u001b[0m\u001b[0mshape\u001b[0m\u001b[1;33m[\u001b[0m\u001b[1;36m1\u001b[0m\u001b[1;33m]\u001b[0m\u001b[1;33m\u001b[0m\u001b[1;33m\u001b[0m\u001b[0m\n\u001b[0;32m      9\u001b[0m     \u001b[0mvprint\u001b[0m\u001b[1;33m(\u001b[0m\u001b[1;34m\"nr of features=\"\u001b[0m\u001b[1;33m,\u001b[0m \u001b[0minput_shape\u001b[0m\u001b[1;33m)\u001b[0m\u001b[1;33m\u001b[0m\u001b[1;33m\u001b[0m\u001b[0m\n",
      "\u001b[1;32m<ipython-input-16-4b1b13ec159d>\u001b[0m in \u001b[0;36mcreate_preprocessor\u001b[1;34m(df_pp, categories)\u001b[0m\n\u001b[0;32m     13\u001b[0m         ])\n\u001b[0;32m     14\u001b[0m \u001b[1;33m\u001b[0m\u001b[0m\n\u001b[1;32m---> 15\u001b[1;33m     \u001b[0mnumeric_features\u001b[0m \u001b[1;33m=\u001b[0m \u001b[0mdf_pp\u001b[0m\u001b[1;33m.\u001b[0m\u001b[0mselect_dtypes\u001b[0m\u001b[1;33m(\u001b[0m\u001b[0minclude\u001b[0m\u001b[1;33m=\u001b[0m\u001b[1;33m[\u001b[0m\u001b[1;34m'int64'\u001b[0m\u001b[1;33m,\u001b[0m \u001b[1;34m'float64'\u001b[0m\u001b[1;33m,\u001b[0m \u001b[1;34m'boolean'\u001b[0m\u001b[1;33m]\u001b[0m\u001b[1;33m)\u001b[0m\u001b[1;33m.\u001b[0m\u001b[0mcolumns\u001b[0m\u001b[1;33m\u001b[0m\u001b[1;33m\u001b[0m\u001b[0m\n\u001b[0m\u001b[0;32m     16\u001b[0m     \u001b[0mcategorical_features\u001b[0m \u001b[1;33m=\u001b[0m \u001b[0mdf_pp\u001b[0m\u001b[1;33m.\u001b[0m\u001b[0mselect_dtypes\u001b[0m\u001b[1;33m(\u001b[0m\u001b[0minclude\u001b[0m\u001b[1;33m=\u001b[0m\u001b[1;33m[\u001b[0m\u001b[1;34m'object'\u001b[0m\u001b[1;33m]\u001b[0m\u001b[1;33m)\u001b[0m\u001b[1;33m.\u001b[0m\u001b[0mcolumns\u001b[0m\u001b[1;33m\u001b[0m\u001b[1;33m\u001b[0m\u001b[0m\n\u001b[0;32m     17\u001b[0m \u001b[1;33m\u001b[0m\u001b[0m\n",
      "\u001b[1;32m~\\AppData\\Local\\Continuum\\anaconda3\\lib\\site-packages\\pandas\\core\\frame.py\u001b[0m in \u001b[0;36mselect_dtypes\u001b[1;34m(self, include, exclude)\u001b[0m\n\u001b[0;32m   3304\u001b[0m         \u001b[1;31m# convert the myriad valid dtypes object to a single representation\u001b[0m\u001b[1;33m\u001b[0m\u001b[1;33m\u001b[0m\u001b[1;33m\u001b[0m\u001b[0m\n\u001b[0;32m   3305\u001b[0m         include, exclude = map(\n\u001b[1;32m-> 3306\u001b[1;33m             lambda x: frozenset(map(infer_dtype_from_object, x)), selection)\n\u001b[0m\u001b[0;32m   3307\u001b[0m         \u001b[1;32mfor\u001b[0m \u001b[0mdtypes\u001b[0m \u001b[1;32min\u001b[0m \u001b[1;33m(\u001b[0m\u001b[0minclude\u001b[0m\u001b[1;33m,\u001b[0m \u001b[0mexclude\u001b[0m\u001b[1;33m)\u001b[0m\u001b[1;33m:\u001b[0m\u001b[1;33m\u001b[0m\u001b[1;33m\u001b[0m\u001b[0m\n\u001b[0;32m   3308\u001b[0m             \u001b[0minvalidate_string_dtypes\u001b[0m\u001b[1;33m(\u001b[0m\u001b[0mdtypes\u001b[0m\u001b[1;33m)\u001b[0m\u001b[1;33m\u001b[0m\u001b[1;33m\u001b[0m\u001b[0m\n",
      "\u001b[1;32m~\\AppData\\Local\\Continuum\\anaconda3\\lib\\site-packages\\pandas\\core\\frame.py\u001b[0m in \u001b[0;36m<lambda>\u001b[1;34m(x)\u001b[0m\n\u001b[0;32m   3304\u001b[0m         \u001b[1;31m# convert the myriad valid dtypes object to a single representation\u001b[0m\u001b[1;33m\u001b[0m\u001b[1;33m\u001b[0m\u001b[1;33m\u001b[0m\u001b[0m\n\u001b[0;32m   3305\u001b[0m         include, exclude = map(\n\u001b[1;32m-> 3306\u001b[1;33m             lambda x: frozenset(map(infer_dtype_from_object, x)), selection)\n\u001b[0m\u001b[0;32m   3307\u001b[0m         \u001b[1;32mfor\u001b[0m \u001b[0mdtypes\u001b[0m \u001b[1;32min\u001b[0m \u001b[1;33m(\u001b[0m\u001b[0minclude\u001b[0m\u001b[1;33m,\u001b[0m \u001b[0mexclude\u001b[0m\u001b[1;33m)\u001b[0m\u001b[1;33m:\u001b[0m\u001b[1;33m\u001b[0m\u001b[1;33m\u001b[0m\u001b[0m\n\u001b[0;32m   3308\u001b[0m             \u001b[0minvalidate_string_dtypes\u001b[0m\u001b[1;33m(\u001b[0m\u001b[0mdtypes\u001b[0m\u001b[1;33m)\u001b[0m\u001b[1;33m\u001b[0m\u001b[1;33m\u001b[0m\u001b[0m\n",
      "\u001b[1;32m~\\AppData\\Local\\Continuum\\anaconda3\\lib\\site-packages\\pandas\\core\\dtypes\\common.py\u001b[0m in \u001b[0;36minfer_dtype_from_object\u001b[1;34m(dtype)\u001b[0m\n\u001b[0;32m   1951\u001b[0m             \u001b[1;32mpass\u001b[0m\u001b[1;33m\u001b[0m\u001b[1;33m\u001b[0m\u001b[0m\n\u001b[0;32m   1952\u001b[0m \u001b[1;33m\u001b[0m\u001b[0m\n\u001b[1;32m-> 1953\u001b[1;33m     \u001b[1;32mreturn\u001b[0m \u001b[0minfer_dtype_from_object\u001b[0m\u001b[1;33m(\u001b[0m\u001b[0mnp\u001b[0m\u001b[1;33m.\u001b[0m\u001b[0mdtype\u001b[0m\u001b[1;33m(\u001b[0m\u001b[0mdtype\u001b[0m\u001b[1;33m)\u001b[0m\u001b[1;33m)\u001b[0m\u001b[1;33m\u001b[0m\u001b[1;33m\u001b[0m\u001b[0m\n\u001b[0m\u001b[0;32m   1954\u001b[0m \u001b[1;33m\u001b[0m\u001b[0m\n\u001b[0;32m   1955\u001b[0m \u001b[1;33m\u001b[0m\u001b[0m\n",
      "\u001b[1;31mTypeError\u001b[0m: data type \"boolean\" not understood"
     ]
    }
   ],
   "source": [
    "test_model(\"sgd\", df_train, target=\"max_price\", log=False, nr_folds=10)"
   ]
  },
  {
   "cell_type": "code",
   "execution_count": 21,
   "metadata": {},
   "outputs": [
    {
     "ename": "TypeError",
     "evalue": "data type \"boolean\" not understood",
     "output_type": "error",
     "traceback": [
      "\u001b[1;31m---------------------------------------------------------------------------\u001b[0m",
      "\u001b[1;31mTypeError\u001b[0m                                 Traceback (most recent call last)",
      "\u001b[1;32m<ipython-input-21-aedfd4db916e>\u001b[0m in \u001b[0;36m<module>\u001b[1;34m\u001b[0m\n\u001b[1;32m----> 1\u001b[1;33m \u001b[0mtest_model\u001b[0m\u001b[1;33m(\u001b[0m\u001b[1;34m\"sgd\"\u001b[0m\u001b[1;33m,\u001b[0m \u001b[0mdf_train\u001b[0m\u001b[1;33m,\u001b[0m \u001b[0mtarget\u001b[0m\u001b[1;33m=\u001b[0m\u001b[1;34m\"min_price\"\u001b[0m\u001b[1;33m,\u001b[0m \u001b[0mlog\u001b[0m\u001b[1;33m=\u001b[0m\u001b[1;32mFalse\u001b[0m\u001b[1;33m,\u001b[0m \u001b[0mnr_folds\u001b[0m\u001b[1;33m=\u001b[0m\u001b[1;36m10\u001b[0m\u001b[1;33m)\u001b[0m\u001b[1;33m\u001b[0m\u001b[1;33m\u001b[0m\u001b[0m\n\u001b[0m",
      "\u001b[1;32m<ipython-input-7-ea6a2f969f0b>\u001b[0m in \u001b[0;36mtest_model\u001b[1;34m(model, df, target, log, nr_folds)\u001b[0m\n\u001b[0;32m      3\u001b[0m \u001b[1;32mdef\u001b[0m \u001b[0mtest_model\u001b[0m\u001b[1;33m(\u001b[0m\u001b[0mmodel\u001b[0m\u001b[1;33m,\u001b[0m \u001b[0mdf\u001b[0m\u001b[1;33m,\u001b[0m \u001b[0mtarget\u001b[0m \u001b[1;33m=\u001b[0m \u001b[1;34m\"max_price\"\u001b[0m\u001b[1;33m,\u001b[0m \u001b[0mlog\u001b[0m\u001b[1;33m=\u001b[0m\u001b[1;32mTrue\u001b[0m\u001b[1;33m,\u001b[0m \u001b[0mnr_folds\u001b[0m\u001b[1;33m=\u001b[0m\u001b[1;36m10\u001b[0m\u001b[1;33m)\u001b[0m\u001b[1;33m:\u001b[0m\u001b[1;33m\u001b[0m\u001b[1;33m\u001b[0m\u001b[0m\n\u001b[0;32m      4\u001b[0m     \u001b[0mY\u001b[0m \u001b[1;33m=\u001b[0m \u001b[0mdf\u001b[0m\u001b[1;33m[\u001b[0m\u001b[0mtarget\u001b[0m\u001b[1;33m]\u001b[0m\u001b[1;33m\u001b[0m\u001b[1;33m\u001b[0m\u001b[0m\n\u001b[1;32m----> 5\u001b[1;33m     \u001b[0mX\u001b[0m\u001b[1;33m,\u001b[0m \u001b[0mregressor\u001b[0m \u001b[1;33m=\u001b[0m \u001b[0mprepare_model\u001b[0m\u001b[1;33m(\u001b[0m\u001b[0mmodel\u001b[0m\u001b[1;33m,\u001b[0m \u001b[0mdf\u001b[0m\u001b[1;33m,\u001b[0m \u001b[0mtarget\u001b[0m\u001b[1;33m,\u001b[0m \u001b[0mlog\u001b[0m\u001b[1;33m)\u001b[0m\u001b[1;33m\u001b[0m\u001b[1;33m\u001b[0m\u001b[0m\n\u001b[0m\u001b[0;32m      6\u001b[0m     \u001b[0mscores\u001b[0m \u001b[1;33m=\u001b[0m \u001b[0mcross_validate\u001b[0m\u001b[1;33m(\u001b[0m\u001b[0mregressor\u001b[0m\u001b[1;33m,\u001b[0m \u001b[0mX\u001b[0m\u001b[1;33m,\u001b[0m \u001b[0mY\u001b[0m\u001b[1;33m,\u001b[0m \u001b[0mscoring\u001b[0m\u001b[1;33m=\u001b[0m\u001b[1;33m[\u001b[0m\u001b[1;34m'neg_mean_absolute_error'\u001b[0m\u001b[1;33m]\u001b[0m\u001b[1;33m,\u001b[0m \u001b[0mcv\u001b[0m\u001b[1;33m=\u001b[0m\u001b[0mnr_folds\u001b[0m\u001b[1;33m)\u001b[0m\u001b[1;33m\u001b[0m\u001b[1;33m\u001b[0m\u001b[0m\n\u001b[0;32m      7\u001b[0m     \u001b[0mprint\u001b[0m\u001b[1;33m(\u001b[0m\u001b[1;34m\"gemiddeld: {}, details: {}\"\u001b[0m\u001b[1;33m.\u001b[0m\u001b[0mformat\u001b[0m\u001b[1;33m(\u001b[0m\u001b[1;33m-\u001b[0m\u001b[0mnp\u001b[0m\u001b[1;33m.\u001b[0m\u001b[0mmean\u001b[0m\u001b[1;33m(\u001b[0m\u001b[0mscores\u001b[0m\u001b[1;33m[\u001b[0m\u001b[1;34m'test_neg_mean_absolute_error'\u001b[0m\u001b[1;33m]\u001b[0m\u001b[1;33m)\u001b[0m\u001b[1;33m,\u001b[0m \u001b[1;33m-\u001b[0m\u001b[0mscores\u001b[0m\u001b[1;33m[\u001b[0m\u001b[1;34m'test_neg_mean_absolute_error'\u001b[0m\u001b[1;33m]\u001b[0m\u001b[1;33m)\u001b[0m\u001b[1;33m)\u001b[0m\u001b[1;33m\u001b[0m\u001b[1;33m\u001b[0m\u001b[0m\n",
      "\u001b[1;32m<ipython-input-6-1b99d56d77f7>\u001b[0m in \u001b[0;36mprepare_model\u001b[1;34m(model, df, target, log, verbose)\u001b[0m\n\u001b[0;32m      5\u001b[0m     \u001b[0mX\u001b[0m \u001b[1;33m=\u001b[0m \u001b[0mdf_pp\u001b[0m\u001b[1;33m.\u001b[0m\u001b[0mdrop\u001b[0m\u001b[1;33m(\u001b[0m\u001b[0mtargets\u001b[0m\u001b[1;33m,\u001b[0m \u001b[0maxis\u001b[0m\u001b[1;33m=\u001b[0m\u001b[1;36m1\u001b[0m\u001b[1;33m)\u001b[0m\u001b[1;33m\u001b[0m\u001b[1;33m\u001b[0m\u001b[0m\n\u001b[0;32m      6\u001b[0m     \u001b[0mcategories\u001b[0m \u001b[1;33m=\u001b[0m \u001b[0mcategories_dict\u001b[0m\u001b[1;33m[\u001b[0m\u001b[0mmodel\u001b[0m\u001b[1;33m]\u001b[0m\u001b[1;33m\u001b[0m\u001b[1;33m\u001b[0m\u001b[0m\n\u001b[1;32m----> 7\u001b[1;33m     \u001b[0mpreprocessor\u001b[0m \u001b[1;33m=\u001b[0m \u001b[0mcreate_preprocessor\u001b[0m\u001b[1;33m(\u001b[0m\u001b[0mX\u001b[0m\u001b[1;33m,\u001b[0m \u001b[0mcategories\u001b[0m\u001b[1;33m)\u001b[0m\u001b[1;33m\u001b[0m\u001b[1;33m\u001b[0m\u001b[0m\n\u001b[0m\u001b[0;32m      8\u001b[0m     \u001b[0minput_shape\u001b[0m \u001b[1;33m=\u001b[0m \u001b[0mPipeline\u001b[0m\u001b[1;33m(\u001b[0m\u001b[1;33m[\u001b[0m\u001b[1;33m(\u001b[0m\u001b[1;34m'tp'\u001b[0m\u001b[1;33m,\u001b[0m \u001b[0mpreprocessor\u001b[0m\u001b[1;33m)\u001b[0m\u001b[1;33m]\u001b[0m\u001b[1;33m)\u001b[0m\u001b[1;33m.\u001b[0m\u001b[0mfit_transform\u001b[0m\u001b[1;33m(\u001b[0m\u001b[0mX\u001b[0m\u001b[1;33m)\u001b[0m\u001b[1;33m.\u001b[0m\u001b[0mshape\u001b[0m\u001b[1;33m[\u001b[0m\u001b[1;36m1\u001b[0m\u001b[1;33m]\u001b[0m\u001b[1;33m\u001b[0m\u001b[1;33m\u001b[0m\u001b[0m\n\u001b[0;32m      9\u001b[0m     \u001b[0mvprint\u001b[0m\u001b[1;33m(\u001b[0m\u001b[1;34m\"nr of features=\"\u001b[0m\u001b[1;33m,\u001b[0m \u001b[0minput_shape\u001b[0m\u001b[1;33m)\u001b[0m\u001b[1;33m\u001b[0m\u001b[1;33m\u001b[0m\u001b[0m\n",
      "\u001b[1;32m<ipython-input-16-4b1b13ec159d>\u001b[0m in \u001b[0;36mcreate_preprocessor\u001b[1;34m(df_pp, categories)\u001b[0m\n\u001b[0;32m     13\u001b[0m         ])\n\u001b[0;32m     14\u001b[0m \u001b[1;33m\u001b[0m\u001b[0m\n\u001b[1;32m---> 15\u001b[1;33m     \u001b[0mnumeric_features\u001b[0m \u001b[1;33m=\u001b[0m \u001b[0mdf_pp\u001b[0m\u001b[1;33m.\u001b[0m\u001b[0mselect_dtypes\u001b[0m\u001b[1;33m(\u001b[0m\u001b[0minclude\u001b[0m\u001b[1;33m=\u001b[0m\u001b[1;33m[\u001b[0m\u001b[1;34m'int64'\u001b[0m\u001b[1;33m,\u001b[0m \u001b[1;34m'float64'\u001b[0m\u001b[1;33m,\u001b[0m \u001b[1;34m'boolean'\u001b[0m\u001b[1;33m]\u001b[0m\u001b[1;33m)\u001b[0m\u001b[1;33m.\u001b[0m\u001b[0mcolumns\u001b[0m\u001b[1;33m\u001b[0m\u001b[1;33m\u001b[0m\u001b[0m\n\u001b[0m\u001b[0;32m     16\u001b[0m     \u001b[0mcategorical_features\u001b[0m \u001b[1;33m=\u001b[0m \u001b[0mdf_pp\u001b[0m\u001b[1;33m.\u001b[0m\u001b[0mselect_dtypes\u001b[0m\u001b[1;33m(\u001b[0m\u001b[0minclude\u001b[0m\u001b[1;33m=\u001b[0m\u001b[1;33m[\u001b[0m\u001b[1;34m'object'\u001b[0m\u001b[1;33m]\u001b[0m\u001b[1;33m)\u001b[0m\u001b[1;33m.\u001b[0m\u001b[0mcolumns\u001b[0m\u001b[1;33m\u001b[0m\u001b[1;33m\u001b[0m\u001b[0m\n\u001b[0;32m     17\u001b[0m \u001b[1;33m\u001b[0m\u001b[0m\n",
      "\u001b[1;32m~\\AppData\\Local\\Continuum\\anaconda3\\lib\\site-packages\\pandas\\core\\frame.py\u001b[0m in \u001b[0;36mselect_dtypes\u001b[1;34m(self, include, exclude)\u001b[0m\n\u001b[0;32m   3304\u001b[0m         \u001b[1;31m# convert the myriad valid dtypes object to a single representation\u001b[0m\u001b[1;33m\u001b[0m\u001b[1;33m\u001b[0m\u001b[1;33m\u001b[0m\u001b[0m\n\u001b[0;32m   3305\u001b[0m         include, exclude = map(\n\u001b[1;32m-> 3306\u001b[1;33m             lambda x: frozenset(map(infer_dtype_from_object, x)), selection)\n\u001b[0m\u001b[0;32m   3307\u001b[0m         \u001b[1;32mfor\u001b[0m \u001b[0mdtypes\u001b[0m \u001b[1;32min\u001b[0m \u001b[1;33m(\u001b[0m\u001b[0minclude\u001b[0m\u001b[1;33m,\u001b[0m \u001b[0mexclude\u001b[0m\u001b[1;33m)\u001b[0m\u001b[1;33m:\u001b[0m\u001b[1;33m\u001b[0m\u001b[1;33m\u001b[0m\u001b[0m\n\u001b[0;32m   3308\u001b[0m             \u001b[0minvalidate_string_dtypes\u001b[0m\u001b[1;33m(\u001b[0m\u001b[0mdtypes\u001b[0m\u001b[1;33m)\u001b[0m\u001b[1;33m\u001b[0m\u001b[1;33m\u001b[0m\u001b[0m\n",
      "\u001b[1;32m~\\AppData\\Local\\Continuum\\anaconda3\\lib\\site-packages\\pandas\\core\\frame.py\u001b[0m in \u001b[0;36m<lambda>\u001b[1;34m(x)\u001b[0m\n\u001b[0;32m   3304\u001b[0m         \u001b[1;31m# convert the myriad valid dtypes object to a single representation\u001b[0m\u001b[1;33m\u001b[0m\u001b[1;33m\u001b[0m\u001b[1;33m\u001b[0m\u001b[0m\n\u001b[0;32m   3305\u001b[0m         include, exclude = map(\n\u001b[1;32m-> 3306\u001b[1;33m             lambda x: frozenset(map(infer_dtype_from_object, x)), selection)\n\u001b[0m\u001b[0;32m   3307\u001b[0m         \u001b[1;32mfor\u001b[0m \u001b[0mdtypes\u001b[0m \u001b[1;32min\u001b[0m \u001b[1;33m(\u001b[0m\u001b[0minclude\u001b[0m\u001b[1;33m,\u001b[0m \u001b[0mexclude\u001b[0m\u001b[1;33m)\u001b[0m\u001b[1;33m:\u001b[0m\u001b[1;33m\u001b[0m\u001b[1;33m\u001b[0m\u001b[0m\n\u001b[0;32m   3308\u001b[0m             \u001b[0minvalidate_string_dtypes\u001b[0m\u001b[1;33m(\u001b[0m\u001b[0mdtypes\u001b[0m\u001b[1;33m)\u001b[0m\u001b[1;33m\u001b[0m\u001b[1;33m\u001b[0m\u001b[0m\n",
      "\u001b[1;32m~\\AppData\\Local\\Continuum\\anaconda3\\lib\\site-packages\\pandas\\core\\dtypes\\common.py\u001b[0m in \u001b[0;36minfer_dtype_from_object\u001b[1;34m(dtype)\u001b[0m\n\u001b[0;32m   1951\u001b[0m             \u001b[1;32mpass\u001b[0m\u001b[1;33m\u001b[0m\u001b[1;33m\u001b[0m\u001b[0m\n\u001b[0;32m   1952\u001b[0m \u001b[1;33m\u001b[0m\u001b[0m\n\u001b[1;32m-> 1953\u001b[1;33m     \u001b[1;32mreturn\u001b[0m \u001b[0minfer_dtype_from_object\u001b[0m\u001b[1;33m(\u001b[0m\u001b[0mnp\u001b[0m\u001b[1;33m.\u001b[0m\u001b[0mdtype\u001b[0m\u001b[1;33m(\u001b[0m\u001b[0mdtype\u001b[0m\u001b[1;33m)\u001b[0m\u001b[1;33m)\u001b[0m\u001b[1;33m\u001b[0m\u001b[1;33m\u001b[0m\u001b[0m\n\u001b[0m\u001b[0;32m   1954\u001b[0m \u001b[1;33m\u001b[0m\u001b[0m\n\u001b[0;32m   1955\u001b[0m \u001b[1;33m\u001b[0m\u001b[0m\n",
      "\u001b[1;31mTypeError\u001b[0m: data type \"boolean\" not understood"
     ]
    }
   ],
   "source": [
    "test_model(\"sgd\", df_train, target=\"min_price\", log=False, nr_folds=10)"
   ]
  },
  {
   "cell_type": "code",
   "execution_count": 386,
   "metadata": {},
   "outputs": [
    {
     "name": "stdout",
     "output_type": "stream",
     "text": [
      "nr of features= 157\n",
      "gemiddeld: 175.42549782032356, details: [188.95225663 194.97725446 183.61049541 155.19253782 175.67642184\n",
      " 184.25456286 194.86635641 152.64853437 196.55274247 127.52381593]\n"
     ]
    },
    {
     "data": {
      "image/png": "[encoded data removed]",
      "text/plain": [
       "<Figure size 432x288 with 1 Axes>"
      ]
     },
     "metadata": {
      "needs_background": "light"
     },
     "output_type": "display_data"
    }
   ],
   "source": [
    "test_model(\"ran\", df_train, target=\"max_price\", log=False, nr_folds=10)"
   ]
  },
  {
   "cell_type": "code",
   "execution_count": 387,
   "metadata": {},
   "outputs": [
    {
     "name": "stdout",
     "output_type": "stream",
     "text": [
      "nr of features= 157\n",
      "gemiddeld: 178.0115374175391, details: [162.75020294 225.82935705 126.21896369 169.88615054 167.95815545\n",
      " 166.1341621  187.01728165 175.12795047 256.78997349 142.4031768 ]\n"
     ]
    },
    {
     "data": {
      "image/png": "[encoded data removed]",
      "text/plain": [
       "<Figure size 432x288 with 1 Axes>"
      ]
     },
     "metadata": {
      "needs_background": "light"
     },
     "output_type": "display_data"
    }
   ],
   "source": [
    "test_model(\"ran\", df_train, target=\"min_price\", log=False, nr_folds=10)"
   ]
  },
  {
   "cell_type": "code",
   "execution_count": 315,
   "metadata": {},
   "outputs": [
    {
     "name": "stdout",
     "output_type": "stream",
     "text": [
      "nr of features= 412\n",
      "gemiddeld: 183.91060283346738, details: [194.53317417 183.99491533 173.203719  ]\n"
     ]
    },
    {
     "data": {
      "image/png": "[encoded data removed]",
      "text/plain": [
       "<Figure size 432x288 with 1 Axes>"
      ]
     },
     "metadata": {
      "needs_background": "light"
     },
     "output_type": "display_data"
    }
   ],
   "source": [
    "test_model(\"mlp\", df_train, target=\"max_price\", log=False, nr_folds=3)\n",
    "# patience! This takes a few minutes...\n",
    "# very strange permutation importances (all negative)"
   ]
  },
  {
   "cell_type": "code",
   "execution_count": 233,
   "metadata": {},
   "outputs": [
    {
     "name": "stdout",
     "output_type": "stream",
     "text": [
      "nr of features= 175\n",
      "gemiddeld: 152.44498601106892, details: [ 97.00999962 218.0773104  151.56210661 130.32068511 171.52063376\n",
      " 162.82315067 126.93171879 129.12247025 205.61826998 131.46351492]\n"
     ]
    },
    {
     "data": {
      "image/png": "[encoded data removed]",
      "text/plain": [
       "<Figure size 432x288 with 1 Axes>"
      ]
     },
     "metadata": {
      "needs_background": "light"
     },
     "output_type": "display_data"
    }
   ],
   "source": [
    "test_model(\"knr\", df_train, target=\"max_price\", log=True)"
   ]
  },
  {
   "cell_type": "code",
   "execution_count": null,
   "metadata": {},
   "outputs": [],
   "source": []
  },
  {
   "cell_type": "code",
   "execution_count": 231,
   "metadata": {},
   "outputs": [
    {
     "name": "stdout",
     "output_type": "stream",
     "text": [
      "nr of features= 175\n",
      "gemiddeld: 151.91610091013965, details: [108.80322648 212.05057044 152.43100819 131.69120186 166.77191511\n",
      " 154.79403522 133.01059356 125.55313773 205.19628948 128.85903104]\n"
     ]
    },
    {
     "data": {
      "image/png": "[encoded data removed]",
      "text/plain": [
       "<Figure size 432x288 with 1 Axes>"
      ]
     },
     "metadata": {
      "needs_background": "light"
     },
     "output_type": "display_data"
    }
   ],
   "source": [
    "test_model(\"knr\", df_train, target=\"max_price\", log=False)"
   ]
  },
  {
   "cell_type": "code",
   "execution_count": 83,
   "metadata": {},
   "outputs": [
    {
     "name": "stdout",
     "output_type": "stream",
     "text": [
      "nr of features= 185\n",
      "gemiddeld: 146.39535897490603, details: [128.86736998 198.95034015 137.22208664 130.41532195 150.01425403\n",
      " 158.84858007 132.03744141 122.25116411 179.44563464 125.90139677]\n"
     ]
    },
    {
     "data": {
      "image/png": "[encoded data removed]",
      "text/plain": [
       "<Figure size 432x288 with 1 Axes>"
      ]
     },
     "metadata": {
      "needs_background": "light"
     },
     "output_type": "display_data"
    }
   ],
   "source": [
    "test_model(\"svm\", df_train, target=\"max_price\", log=True)"
   ]
  },
  {
   "cell_type": "code",
   "execution_count": 43,
   "metadata": {},
   "outputs": [
    {
     "name": "stdout",
     "output_type": "stream",
     "text": [
      "nr of features= 185\n",
      "gemiddeld: 139.83376965575283, details: [125.03785701 189.77263379 119.65308192 127.92071551 133.21785662\n",
      " 144.10758927 139.61419856 111.59941576 176.99091303 130.42343509]\n"
     ]
    },
    {
     "data": {
      "image/png": "[encoded data removed]",
      "text/plain": [
       "<Figure size 432x288 with 1 Axes>"
      ]
     },
     "metadata": {
      "needs_background": "light"
     },
     "output_type": "display_data"
    }
   ],
   "source": [
    "test_model(\"svm\", df_train, target=\"min_price\", log=True)"
   ]
  },
  {
   "cell_type": "code",
   "execution_count": 146,
   "metadata": {},
   "outputs": [
    {
     "name": "stdout",
     "output_type": "stream",
     "text": [
      "nr of features= 413\n",
      "gemiddeld: 137.76782731388332, details: [ 97.40321267 192.38044222 124.78652456 126.70012481 161.74390995\n",
      " 153.46035866 122.54653289 124.72536183 168.67077324 105.26103231]\n"
     ]
    },
    {
     "data": {
      "image/png": "[encoded data removed]",
      "text/plain": [
       "<Figure size 432x288 with 1 Axes>"
      ]
     },
     "metadata": {
      "needs_background": "light"
     },
     "output_type": "display_data"
    }
   ],
   "source": [
    "test_model(\"gbr\", df_train, target=\"max_price\", log=True)"
   ]
  },
  {
   "cell_type": "code",
   "execution_count": 26,
   "metadata": {},
   "outputs": [
    {
     "name": "stderr",
     "output_type": "stream",
     "text": [
      "c:\\users\\hans\\anaconda3\\lib\\site-packages\\pandas\\core\\ops\\array_ops.py:253: FutureWarning: elementwise comparison failed; returning scalar instead, but in the future will perform elementwise comparison\n",
      "  res_values = method(rvalues)\n"
     ]
    },
    {
     "name": "stdout",
     "output_type": "stream",
     "text": [
      "nr of features= 413\n",
      "gemiddeld: 135.06789288963284, details: [ 94.77516641 195.94096115 115.77819387 122.85093404 149.53797941\n",
      " 143.28383709 134.92207385 119.73680104 167.57572303 106.277259  ]\n"
     ]
    },
    {
     "data": {
      "image/png": "[encoded data removed]",
      "text/plain": [
       "<Figure size 432x288 with 1 Axes>"
      ]
     },
     "metadata": {
      "needs_background": "light"
     },
     "output_type": "display_data"
    }
   ],
   "source": [
    "test_model(\"gbr\", df_train, target=\"min_price\", log=True)"
   ]
  },
  {
   "cell_type": "code",
   "execution_count": 20,
   "metadata": {},
   "outputs": [
    {
     "name": "stderr",
     "output_type": "stream",
     "text": [
      "c:\\users\\hans\\anaconda3\\lib\\site-packages\\pandas\\core\\ops\\array_ops.py:253: FutureWarning: elementwise comparison failed; returning scalar instead, but in the future will perform elementwise comparison\n",
      "  res_values = method(rvalues)\n"
     ]
    },
    {
     "name": "stdout",
     "output_type": "stream",
     "text": [
      "nr of features= 187\n",
      "gemiddeld: 145.33147791270582, details: [103.87242024 215.11674759 128.32031557 139.89619145 149.56658165\n",
      " 141.88335412 130.65437622 138.37654286 197.44293108 108.18531832]\n"
     ]
    },
    {
     "data": {
      "image/png": "[encoded data removed]",
      "text/plain": [
       "<Figure size 432x288 with 1 Axes>"
      ]
     },
     "metadata": {
      "needs_background": "light"
     },
     "output_type": "display_data"
    }
   ],
   "source": [
    "test_model(\"rfr\", df_train, target=\"max_price\", log=True)"
   ]
  },
  {
   "cell_type": "code",
   "execution_count": 21,
   "metadata": {},
   "outputs": [
    {
     "name": "stderr",
     "output_type": "stream",
     "text": [
      "c:\\users\\hans\\anaconda3\\lib\\site-packages\\pandas\\core\\ops\\array_ops.py:253: FutureWarning: elementwise comparison failed; returning scalar instead, but in the future will perform elementwise comparison\n",
      "  res_values = method(rvalues)\n"
     ]
    },
    {
     "name": "stdout",
     "output_type": "stream",
     "text": [
      "nr of features= 187\n",
      "gemiddeld: 138.20318714727964, details: [102.35392979 209.31747894 104.40532481 129.71163067 134.07845038\n",
      " 130.74642247 133.92602779 126.1397913  197.49558414 113.85723119]\n"
     ]
    },
    {
     "data": {
      "image/png": "[encoded data removed]",
      "text/plain": [
       "<Figure size 432x288 with 1 Axes>"
      ]
     },
     "metadata": {
      "needs_background": "light"
     },
     "output_type": "display_data"
    }
   ],
   "source": [
    "test_model(\"rfr\", df_train, target=\"min_price\", log=True)"
   ]
  },
  {
   "cell_type": "code",
   "execution_count": 18,
   "metadata": {},
   "outputs": [
    {
     "name": "stderr",
     "output_type": "stream",
     "text": [
      "c:\\users\\hans\\anaconda3\\lib\\site-packages\\ipykernel_launcher.py:11: UserWarning: Pandas doesn't allow columns to be created via a new attribute name - see https://pandas.pydata.org/pandas-docs/stable/indexing.html#attribute-access\n",
      "  # This is added back by InteractiveShellApp.init_path()\n"
     ]
    },
    {
     "name": "stdout",
     "output_type": "stream",
     "text": [
      "nr of features= 723\n",
      "gemiddeld: 152.23769571947395, details: [124.20295928 178.45524106 157.75308386 139.54251535 160.15242969\n",
      " 155.72477782 153.07454598 137.53201264 179.43595045 136.50344107]\n"
     ]
    },
    {
     "data": {
      "image/png": "[encoded data removed]",
      "text/plain": [
       "<Figure size 432x288 with 1 Axes>"
      ]
     },
     "metadata": {
      "needs_background": "light"
     },
     "output_type": "display_data"
    }
   ],
   "source": [
    "test_model(\"huber\", df_train, target=\"max_price\", log=False)"
   ]
  },
  {
   "cell_type": "code",
   "execution_count": 19,
   "metadata": {},
   "outputs": [
    {
     "name": "stderr",
     "output_type": "stream",
     "text": [
      "c:\\users\\hans\\anaconda3\\lib\\site-packages\\pandas\\core\\ops\\array_ops.py:253: FutureWarning: elementwise comparison failed; returning scalar instead, but in the future will perform elementwise comparison\n",
      "  res_values = method(rvalues)\n",
      "c:\\users\\hans\\anaconda3\\lib\\site-packages\\ipykernel_launcher.py:11: UserWarning: Pandas doesn't allow columns to be created via a new attribute name - see https://pandas.pydata.org/pandas-docs/stable/indexing.html#attribute-access\n",
      "  # This is added back by InteractiveShellApp.init_path()\n"
     ]
    },
    {
     "name": "stdout",
     "output_type": "stream",
     "text": [
      "nr of features= 723\n",
      "gemiddeld: 147.1575129743022, details: [123.78103075 173.004275   140.25640363 136.34449775 144.61238018\n",
      " 139.43777982 151.74639019 129.56044399 187.32254132 145.5093871 ]\n"
     ]
    },
    {
     "data": {
      "image/png": "[encoded data removed]",
      "text/plain": [
       "<Figure size 432x288 with 1 Axes>"
      ]
     },
     "metadata": {
      "needs_background": "light"
     },
     "output_type": "display_data"
    }
   ],
   "source": [
    "test_model(\"huber\", df_train, target=\"min_price\", log=False)"
   ]
  },
  {
   "cell_type": "code",
   "execution_count": 127,
   "metadata": {},
   "outputs": [],
   "source": [
    "# Huber regression to compuet optimal shares between models\n",
    "def find_shares(df):\n",
    "    X = df.drop(columns=[\"Y\"])\n",
    "    Y = df[\"Y\"]\n",
    "    reg =  HuberRegressor() #2, alpha=.9, max_iter=50000)\n",
    "    reg.fit(X,Y)\n",
    "    shares = reg.coef_\n",
    "    return shares"
   ]
  },
  {
   "cell_type": "code",
   "execution_count": 523,
   "metadata": {},
   "outputs": [
    {
     "name": "stdout",
     "output_type": "stream",
     "text": [
      "huber: 120.62; rfr: 102.76; svm: 128.87; gbr: 97.40; knr: 101.17; \n",
      "huber: 178.95; rfr: 215.25; svm: 198.95; gbr: 192.38; knr: 219.81; \n",
      "huber: 156.10; rfr: 128.76; svm: 137.22; gbr: 124.79; knr: 152.20; \n",
      "huber: 137.78; rfr: 140.38; svm: 130.42; gbr: 126.70; knr: 120.39; \n",
      "huber: 159.52; rfr: 152.04; svm: 150.01; gbr: 161.74; knr: 166.28; \n",
      "huber: 156.10; rfr: 141.18; svm: 158.85; gbr: 153.46; knr: 175.15; \n",
      "huber: 155.58; rfr: 129.71; svm: 132.04; gbr: 122.55; knr: 119.14; \n",
      "huber: 137.30; rfr: 139.07; svm: 122.25; gbr: 124.73; knr: 131.60; \n",
      "huber: 176.83; rfr: 194.90; svm: 179.45; gbr: 168.67; knr: 206.72; \n",
      "huber: 134.69; rfr: 109.35; svm: 125.90; gbr: 105.26; knr: 125.90; \n",
      "avg. huber: 151.35, share: 0.23\n",
      "avg. rfr: 145.34, share: -0.13\n",
      "avg. svm: 146.40, share: 0.17\n",
      "avg. gbr: 137.77, share: 0.56\n",
      "avg. knr: 151.84, share: 0.18\n",
      "avg. ensemble: 133.71\n",
      "\n",
      "huber: 119.82; rfr: 102.00; svm: 125.04; gbr: 94.78; knr: 107.47; \n",
      "huber: 174.90; rfr: 206.63; svm: 189.77; gbr: 195.94; knr: 209.55; \n",
      "huber: 138.25; rfr: 104.96; svm: 119.65; gbr: 115.78; knr: 130.94; \n",
      "huber: 135.89; rfr: 128.63; svm: 127.92; gbr: 122.85; knr: 115.74; \n",
      "huber: 143.70; rfr: 132.74; svm: 133.22; gbr: 149.54; knr: 148.32; \n",
      "huber: 139.60; rfr: 129.43; svm: 144.11; gbr: 143.28; knr: 164.74; \n",
      "huber: 153.21; rfr: 134.29; svm: 139.61; gbr: 134.92; knr: 127.66; \n",
      "huber: 128.19; rfr: 127.29; svm: 111.60; gbr: 119.74; knr: 119.95; \n",
      "huber: 185.29; rfr: 194.54; svm: 176.99; gbr: 167.58; knr: 204.46; \n",
      "huber: 143.40; rfr: 112.01; svm: 130.42; gbr: 106.28; knr: 118.06; \n",
      "avg. huber: 146.23, share: 0.28\n",
      "avg. rfr: 137.25, share: 0.18\n",
      "avg. svm: 139.83, share: 0.14\n",
      "avg. gbr: 135.07, share: 0.20\n",
      "avg. knr: 144.69, share: 0.22\n",
      "avg. ensemble: 130.18\n",
      "\n",
      "Seppe error = 263.89\n"
     ]
    }
   ],
   "source": [
    "# 10-fold cross-validation that automatically determine optimal shares of respective models\n",
    "def ensemble_test(df, target, reformat_dict, categories_dict, log_dict, learners, verbose=True):\n",
    "    vprint = print if verbose else lambda *a, **k: None\n",
    "    N = 10 \n",
    "    kf = KFold(n_splits=N)\n",
    "    df_res_full = pd.DataFrame()\n",
    "    \n",
    "    for train, val in kf.split(df):\n",
    "        Y_train = df[target].iloc[train]\n",
    "        Y_val = df[target].iloc[val]\n",
    "        df_res = pd.DataFrame()\n",
    "        df_res[\"Y\"] = np.array(Y_val)\n",
    "        #learners_error = []\n",
    "        for learner in learners:\n",
    "            X, regressor = prepare_model(learner, df, target, log=log_dict[learner], verbose=False)\n",
    "            X_train = X.iloc[train]\n",
    "            X_val = X.iloc[val]\n",
    "            regressor.fit(X_train, Y_train)\n",
    "            df_res[learner] = regressor.predict(X_val)\n",
    "            learner_error = mean_absolute_error(df_res[\"Y\"], df_res[learner])\n",
    "            vprint(\"{}: {:.2f}\".format(learner, learner_error), end='; ')  \n",
    "            \n",
    "        df_res_full = pd.concat([df_res_full, df_res], join='outer', axis=0)\n",
    "        vprint(\"\")        \n",
    "    \n",
    "    # find optimal shares for each learner\n",
    "    shares = find_shares(df_res_full)\n",
    "    df_res_full[\"ensemble\"] = 0\n",
    "    \n",
    "    # compute results\n",
    "    for learner, share in zip(learners, shares):\n",
    "        df_res_full[\"ensemble\"] += share * df_res_full[learner]\n",
    "        learner_error = mean_absolute_error(df_res_full[\"Y\"], df_res_full[learner])\n",
    "        vprint(\"avg. {}: {:.2f}, share: {:.2f}\".format(learner, learner_error, share)) \n",
    "    ens_error = mean_absolute_error(df_res_full[\"Y\"], df_res_full[\"ensemble\"])\n",
    "    vprint(\"avg. ensemble: {:.2f}\".format(ens_error))\n",
    "    vprint(\"\")\n",
    "    \n",
    "    return ens_error, shares\n",
    "\n",
    "ens_max, share_max = ensemble_test(df_train, \"max_price\", reformat_dict, categories_dict, log_dict,\n",
    "                                                     learners=[\"huber\", \"rfr\", \"svm\", \"gbr\", \"knr\"], verbose=True)\n",
    "ens_min, share_min = ensemble_test(df_train, \"min_price\", reformat_dict, categories_dict, log_dict,\n",
    "                                                     learners=[\"huber\", \"rfr\", \"svm\", \"gbr\", \"knr\"], verbose=True)\n",
    "print(\"Seppe error = {:.2f}\".format(ens_max+ens_min))"
   ]
  },
  {
   "cell_type": "markdown",
   "metadata": {},
   "source": [
    "CREATE CSV FOR SEPPE"
   ]
  },
  {
   "cell_type": "code",
   "execution_count": 524,
   "metadata": {},
   "outputs": [
    {
     "name": "stderr",
     "output_type": "stream",
     "text": [
      "c:\\users\\hans\\anaconda3\\lib\\site-packages\\sklearn\\compose\\_column_transformer.py:430: FutureWarning: Given feature/column names or counts do not match the ones for the data given during fit. This will fail from v0.24.\n",
      "  FutureWarning)\n",
      "c:\\users\\hans\\anaconda3\\lib\\site-packages\\sklearn\\compose\\_column_transformer.py:430: FutureWarning: Given feature/column names or counts do not match the ones for the data given during fit. This will fail from v0.24.\n",
      "  FutureWarning)\n",
      "c:\\users\\hans\\anaconda3\\lib\\site-packages\\sklearn\\compose\\_column_transformer.py:430: FutureWarning: Given feature/column names or counts do not match the ones for the data given during fit. This will fail from v0.24.\n",
      "  FutureWarning)\n",
      "c:\\users\\hans\\anaconda3\\lib\\site-packages\\sklearn\\compose\\_column_transformer.py:430: FutureWarning: Given feature/column names or counts do not match the ones for the data given during fit. This will fail from v0.24.\n",
      "  FutureWarning)\n",
      "c:\\users\\hans\\anaconda3\\lib\\site-packages\\sklearn\\compose\\_column_transformer.py:430: FutureWarning: Given feature/column names or counts do not match the ones for the data given during fit. This will fail from v0.24.\n",
      "  FutureWarning)\n",
      "c:\\users\\hans\\anaconda3\\lib\\site-packages\\sklearn\\compose\\_column_transformer.py:430: FutureWarning: Given feature/column names or counts do not match the ones for the data given during fit. This will fail from v0.24.\n",
      "  FutureWarning)\n",
      "c:\\users\\hans\\anaconda3\\lib\\site-packages\\sklearn\\compose\\_column_transformer.py:430: FutureWarning: Given feature/column names or counts do not match the ones for the data given during fit. This will fail from v0.24.\n",
      "  FutureWarning)\n",
      "c:\\users\\hans\\anaconda3\\lib\\site-packages\\sklearn\\compose\\_column_transformer.py:430: FutureWarning: Given feature/column names or counts do not match the ones for the data given during fit. This will fail from v0.24.\n",
      "  FutureWarning)\n",
      "c:\\users\\hans\\anaconda3\\lib\\site-packages\\sklearn\\compose\\_column_transformer.py:430: FutureWarning: Given feature/column names or counts do not match the ones for the data given during fit. This will fail from v0.24.\n",
      "  FutureWarning)\n",
      "c:\\users\\hans\\anaconda3\\lib\\site-packages\\sklearn\\compose\\_column_transformer.py:430: FutureWarning: Given feature/column names or counts do not match the ones for the data given during fit. This will fail from v0.24.\n",
      "  FutureWarning)\n",
      "c:\\users\\hans\\anaconda3\\lib\\site-packages\\sklearn\\compose\\_column_transformer.py:430: FutureWarning: Given feature/column names or counts do not match the ones for the data given during fit. This will fail from v0.24.\n",
      "  FutureWarning)\n",
      "c:\\users\\hans\\anaconda3\\lib\\site-packages\\sklearn\\compose\\_column_transformer.py:430: FutureWarning: Given feature/column names or counts do not match the ones for the data given during fit. This will fail from v0.24.\n",
      "  FutureWarning)\n",
      "c:\\users\\hans\\anaconda3\\lib\\site-packages\\sklearn\\compose\\_column_transformer.py:430: FutureWarning: Given feature/column names or counts do not match the ones for the data given during fit. This will fail from v0.24.\n",
      "  FutureWarning)\n",
      "c:\\users\\hans\\anaconda3\\lib\\site-packages\\sklearn\\compose\\_column_transformer.py:430: FutureWarning: Given feature/column names or counts do not match the ones for the data given during fit. This will fail from v0.24.\n",
      "  FutureWarning)\n",
      "c:\\users\\hans\\anaconda3\\lib\\site-packages\\sklearn\\compose\\_column_transformer.py:430: FutureWarning: Given feature/column names or counts do not match the ones for the data given during fit. This will fail from v0.24.\n",
      "  FutureWarning)\n",
      "c:\\users\\hans\\anaconda3\\lib\\site-packages\\sklearn\\compose\\_column_transformer.py:430: FutureWarning: Given feature/column names or counts do not match the ones for the data given during fit. This will fail from v0.24.\n",
      "  FutureWarning)\n",
      "c:\\users\\hans\\anaconda3\\lib\\site-packages\\sklearn\\compose\\_column_transformer.py:430: FutureWarning: Given feature/column names or counts do not match the ones for the data given during fit. This will fail from v0.24.\n",
      "  FutureWarning)\n",
      "c:\\users\\hans\\anaconda3\\lib\\site-packages\\sklearn\\compose\\_column_transformer.py:430: FutureWarning: Given feature/column names or counts do not match the ones for the data given during fit. This will fail from v0.24.\n",
      "  FutureWarning)\n",
      "c:\\users\\hans\\anaconda3\\lib\\site-packages\\sklearn\\compose\\_column_transformer.py:430: FutureWarning: Given feature/column names or counts do not match the ones for the data given during fit. This will fail from v0.24.\n",
      "  FutureWarning)\n",
      "c:\\users\\hans\\anaconda3\\lib\\site-packages\\sklearn\\compose\\_column_transformer.py:430: FutureWarning: Given feature/column names or counts do not match the ones for the data given during fit. This will fail from v0.24.\n",
      "  FutureWarning)\n",
      "c:\\users\\hans\\anaconda3\\lib\\site-packages\\sklearn\\compose\\_column_transformer.py:430: FutureWarning: Given feature/column names or counts do not match the ones for the data given during fit. This will fail from v0.24.\n",
      "  FutureWarning)\n",
      "c:\\users\\hans\\anaconda3\\lib\\site-packages\\sklearn\\compose\\_column_transformer.py:430: FutureWarning: Given feature/column names or counts do not match the ones for the data given during fit. This will fail from v0.24.\n",
      "  FutureWarning)\n",
      "c:\\users\\hans\\anaconda3\\lib\\site-packages\\sklearn\\compose\\_column_transformer.py:430: FutureWarning: Given feature/column names or counts do not match the ones for the data given during fit. This will fail from v0.24.\n",
      "  FutureWarning)\n",
      "c:\\users\\hans\\anaconda3\\lib\\site-packages\\sklearn\\compose\\_column_transformer.py:430: FutureWarning: Given feature/column names or counts do not match the ones for the data given during fit. This will fail from v0.24.\n",
      "  FutureWarning)\n",
      "c:\\users\\hans\\anaconda3\\lib\\site-packages\\sklearn\\compose\\_column_transformer.py:430: FutureWarning: Given feature/column names or counts do not match the ones for the data given during fit. This will fail from v0.24.\n",
      "  FutureWarning)\n",
      "c:\\users\\hans\\anaconda3\\lib\\site-packages\\sklearn\\compose\\_column_transformer.py:430: FutureWarning: Given feature/column names or counts do not match the ones for the data given during fit. This will fail from v0.24.\n",
      "  FutureWarning)\n",
      "c:\\users\\hans\\anaconda3\\lib\\site-packages\\sklearn\\compose\\_column_transformer.py:430: FutureWarning: Given feature/column names or counts do not match the ones for the data given during fit. This will fail from v0.24.\n",
      "  FutureWarning)\n",
      "c:\\users\\hans\\anaconda3\\lib\\site-packages\\sklearn\\compose\\_column_transformer.py:430: FutureWarning: Given feature/column names or counts do not match the ones for the data given during fit. This will fail from v0.24.\n",
      "  FutureWarning)\n",
      "c:\\users\\hans\\anaconda3\\lib\\site-packages\\sklearn\\compose\\_column_transformer.py:430: FutureWarning: Given feature/column names or counts do not match the ones for the data given during fit. This will fail from v0.24.\n",
      "  FutureWarning)\n",
      "c:\\users\\hans\\anaconda3\\lib\\site-packages\\sklearn\\compose\\_column_transformer.py:430: FutureWarning: Given feature/column names or counts do not match the ones for the data given during fit. This will fail from v0.24.\n",
      "  FutureWarning)\n",
      "c:\\users\\hans\\anaconda3\\lib\\site-packages\\sklearn\\compose\\_column_transformer.py:430: FutureWarning: Given feature/column names or counts do not match the ones for the data given during fit. This will fail from v0.24.\n",
      "  FutureWarning)\n",
      "c:\\users\\hans\\anaconda3\\lib\\site-packages\\sklearn\\compose\\_column_transformer.py:430: FutureWarning: Given feature/column names or counts do not match the ones for the data given during fit. This will fail from v0.24.\n",
      "  FutureWarning)\n",
      "c:\\users\\hans\\anaconda3\\lib\\site-packages\\sklearn\\compose\\_column_transformer.py:430: FutureWarning: Given feature/column names or counts do not match the ones for the data given during fit. This will fail from v0.24.\n",
      "  FutureWarning)\n",
      "c:\\users\\hans\\anaconda3\\lib\\site-packages\\sklearn\\compose\\_column_transformer.py:430: FutureWarning: Given feature/column names or counts do not match the ones for the data given during fit. This will fail from v0.24.\n",
      "  FutureWarning)\n",
      "c:\\users\\hans\\anaconda3\\lib\\site-packages\\sklearn\\compose\\_column_transformer.py:430: FutureWarning: Given feature/column names or counts do not match the ones for the data given during fit. This will fail from v0.24.\n",
      "  FutureWarning)\n"
     ]
    },
    {
     "name": "stderr",
     "output_type": "stream",
     "text": [
      "c:\\users\\hans\\anaconda3\\lib\\site-packages\\sklearn\\compose\\_column_transformer.py:430: FutureWarning: Given feature/column names or counts do not match the ones for the data given during fit. This will fail from v0.24.\n",
      "  FutureWarning)\n",
      "c:\\users\\hans\\anaconda3\\lib\\site-packages\\sklearn\\compose\\_column_transformer.py:430: FutureWarning: Given feature/column names or counts do not match the ones for the data given during fit. This will fail from v0.24.\n",
      "  FutureWarning)\n",
      "c:\\users\\hans\\anaconda3\\lib\\site-packages\\sklearn\\compose\\_column_transformer.py:430: FutureWarning: Given feature/column names or counts do not match the ones for the data given during fit. This will fail from v0.24.\n",
      "  FutureWarning)\n",
      "c:\\users\\hans\\anaconda3\\lib\\site-packages\\sklearn\\compose\\_column_transformer.py:430: FutureWarning: Given feature/column names or counts do not match the ones for the data given during fit. This will fail from v0.24.\n",
      "  FutureWarning)\n",
      "c:\\users\\hans\\anaconda3\\lib\\site-packages\\sklearn\\compose\\_column_transformer.py:430: FutureWarning: Given feature/column names or counts do not match the ones for the data given during fit. This will fail from v0.24.\n",
      "  FutureWarning)\n",
      "c:\\users\\hans\\anaconda3\\lib\\site-packages\\sklearn\\compose\\_column_transformer.py:430: FutureWarning: Given feature/column names or counts do not match the ones for the data given during fit. This will fail from v0.24.\n",
      "  FutureWarning)\n",
      "c:\\users\\hans\\anaconda3\\lib\\site-packages\\sklearn\\compose\\_column_transformer.py:430: FutureWarning: Given feature/column names or counts do not match the ones for the data given during fit. This will fail from v0.24.\n",
      "  FutureWarning)\n",
      "c:\\users\\hans\\anaconda3\\lib\\site-packages\\sklearn\\compose\\_column_transformer.py:430: FutureWarning: Given feature/column names or counts do not match the ones for the data given during fit. This will fail from v0.24.\n",
      "  FutureWarning)\n",
      "c:\\users\\hans\\anaconda3\\lib\\site-packages\\sklearn\\compose\\_column_transformer.py:430: FutureWarning: Given feature/column names or counts do not match the ones for the data given during fit. This will fail from v0.24.\n",
      "  FutureWarning)\n",
      "c:\\users\\hans\\anaconda3\\lib\\site-packages\\sklearn\\compose\\_column_transformer.py:430: FutureWarning: Given feature/column names or counts do not match the ones for the data given during fit. This will fail from v0.24.\n",
      "  FutureWarning)\n",
      "c:\\users\\hans\\anaconda3\\lib\\site-packages\\sklearn\\compose\\_column_transformer.py:430: FutureWarning: Given feature/column names or counts do not match the ones for the data given during fit. This will fail from v0.24.\n",
      "  FutureWarning)\n",
      "c:\\users\\hans\\anaconda3\\lib\\site-packages\\sklearn\\compose\\_column_transformer.py:430: FutureWarning: Given feature/column names or counts do not match the ones for the data given during fit. This will fail from v0.24.\n",
      "  FutureWarning)\n",
      "c:\\users\\hans\\anaconda3\\lib\\site-packages\\sklearn\\compose\\_column_transformer.py:430: FutureWarning: Given feature/column names or counts do not match the ones for the data given during fit. This will fail from v0.24.\n",
      "  FutureWarning)\n",
      "c:\\users\\hans\\anaconda3\\lib\\site-packages\\sklearn\\compose\\_column_transformer.py:430: FutureWarning: Given feature/column names or counts do not match the ones for the data given during fit. This will fail from v0.24.\n",
      "  FutureWarning)\n",
      "c:\\users\\hans\\anaconda3\\lib\\site-packages\\sklearn\\compose\\_column_transformer.py:430: FutureWarning: Given feature/column names or counts do not match the ones for the data given during fit. This will fail from v0.24.\n",
      "  FutureWarning)\n",
      "c:\\users\\hans\\anaconda3\\lib\\site-packages\\sklearn\\compose\\_column_transformer.py:430: FutureWarning: Given feature/column names or counts do not match the ones for the data given during fit. This will fail from v0.24.\n",
      "  FutureWarning)\n",
      "c:\\users\\hans\\anaconda3\\lib\\site-packages\\sklearn\\compose\\_column_transformer.py:430: FutureWarning: Given feature/column names or counts do not match the ones for the data given during fit. This will fail from v0.24.\n",
      "  FutureWarning)\n",
      "c:\\users\\hans\\anaconda3\\lib\\site-packages\\sklearn\\compose\\_column_transformer.py:430: FutureWarning: Given feature/column names or counts do not match the ones for the data given during fit. This will fail from v0.24.\n",
      "  FutureWarning)\n",
      "c:\\users\\hans\\anaconda3\\lib\\site-packages\\sklearn\\compose\\_column_transformer.py:430: FutureWarning: Given feature/column names or counts do not match the ones for the data given during fit. This will fail from v0.24.\n",
      "  FutureWarning)\n",
      "c:\\users\\hans\\anaconda3\\lib\\site-packages\\sklearn\\compose\\_column_transformer.py:430: FutureWarning: Given feature/column names or counts do not match the ones for the data given during fit. This will fail from v0.24.\n",
      "  FutureWarning)\n",
      "c:\\users\\hans\\anaconda3\\lib\\site-packages\\sklearn\\compose\\_column_transformer.py:430: FutureWarning: Given feature/column names or counts do not match the ones for the data given during fit. This will fail from v0.24.\n",
      "  FutureWarning)\n",
      "c:\\users\\hans\\anaconda3\\lib\\site-packages\\sklearn\\compose\\_column_transformer.py:430: FutureWarning: Given feature/column names or counts do not match the ones for the data given during fit. This will fail from v0.24.\n",
      "  FutureWarning)\n",
      "c:\\users\\hans\\anaconda3\\lib\\site-packages\\sklearn\\compose\\_column_transformer.py:430: FutureWarning: Given feature/column names or counts do not match the ones for the data given during fit. This will fail from v0.24.\n",
      "  FutureWarning)\n",
      "c:\\users\\hans\\anaconda3\\lib\\site-packages\\sklearn\\compose\\_column_transformer.py:430: FutureWarning: Given feature/column names or counts do not match the ones for the data given during fit. This will fail from v0.24.\n",
      "  FutureWarning)\n",
      "c:\\users\\hans\\anaconda3\\lib\\site-packages\\sklearn\\compose\\_column_transformer.py:430: FutureWarning: Given feature/column names or counts do not match the ones for the data given during fit. This will fail from v0.24.\n",
      "  FutureWarning)\n",
      "c:\\users\\hans\\anaconda3\\lib\\site-packages\\sklearn\\compose\\_column_transformer.py:430: FutureWarning: Given feature/column names or counts do not match the ones for the data given during fit. This will fail from v0.24.\n",
      "  FutureWarning)\n",
      "c:\\users\\hans\\anaconda3\\lib\\site-packages\\sklearn\\compose\\_column_transformer.py:430: FutureWarning: Given feature/column names or counts do not match the ones for the data given during fit. This will fail from v0.24.\n",
      "  FutureWarning)\n",
      "c:\\users\\hans\\anaconda3\\lib\\site-packages\\sklearn\\compose\\_column_transformer.py:430: FutureWarning: Given feature/column names or counts do not match the ones for the data given during fit. This will fail from v0.24.\n",
      "  FutureWarning)\n",
      "c:\\users\\hans\\anaconda3\\lib\\site-packages\\sklearn\\compose\\_column_transformer.py:430: FutureWarning: Given feature/column names or counts do not match the ones for the data given during fit. This will fail from v0.24.\n",
      "  FutureWarning)\n",
      "c:\\users\\hans\\anaconda3\\lib\\site-packages\\sklearn\\compose\\_column_transformer.py:430: FutureWarning: Given feature/column names or counts do not match the ones for the data given during fit. This will fail from v0.24.\n",
      "  FutureWarning)\n",
      "c:\\users\\hans\\anaconda3\\lib\\site-packages\\sklearn\\compose\\_column_transformer.py:430: FutureWarning: Given feature/column names or counts do not match the ones for the data given during fit. This will fail from v0.24.\n",
      "  FutureWarning)\n",
      "c:\\users\\hans\\anaconda3\\lib\\site-packages\\sklearn\\compose\\_column_transformer.py:430: FutureWarning: Given feature/column names or counts do not match the ones for the data given during fit. This will fail from v0.24.\n",
      "  FutureWarning)\n",
      "c:\\users\\hans\\anaconda3\\lib\\site-packages\\sklearn\\compose\\_column_transformer.py:430: FutureWarning: Given feature/column names or counts do not match the ones for the data given during fit. This will fail from v0.24.\n",
      "  FutureWarning)\n",
      "c:\\users\\hans\\anaconda3\\lib\\site-packages\\sklearn\\compose\\_column_transformer.py:430: FutureWarning: Given feature/column names or counts do not match the ones for the data given during fit. This will fail from v0.24.\n",
      "  FutureWarning)\n",
      "c:\\users\\hans\\anaconda3\\lib\\site-packages\\sklearn\\compose\\_column_transformer.py:430: FutureWarning: Given feature/column names or counts do not match the ones for the data given during fit. This will fail from v0.24.\n",
      "  FutureWarning)\n"
     ]
    },
    {
     "name": "stderr",
     "output_type": "stream",
     "text": [
      "c:\\users\\hans\\anaconda3\\lib\\site-packages\\sklearn\\compose\\_column_transformer.py:430: FutureWarning: Given feature/column names or counts do not match the ones for the data given during fit. This will fail from v0.24.\n",
      "  FutureWarning)\n",
      "c:\\users\\hans\\anaconda3\\lib\\site-packages\\sklearn\\compose\\_column_transformer.py:430: FutureWarning: Given feature/column names or counts do not match the ones for the data given during fit. This will fail from v0.24.\n",
      "  FutureWarning)\n",
      "c:\\users\\hans\\anaconda3\\lib\\site-packages\\sklearn\\compose\\_column_transformer.py:430: FutureWarning: Given feature/column names or counts do not match the ones for the data given during fit. This will fail from v0.24.\n",
      "  FutureWarning)\n",
      "c:\\users\\hans\\anaconda3\\lib\\site-packages\\sklearn\\compose\\_column_transformer.py:430: FutureWarning: Given feature/column names or counts do not match the ones for the data given during fit. This will fail from v0.24.\n",
      "  FutureWarning)\n",
      "c:\\users\\hans\\anaconda3\\lib\\site-packages\\sklearn\\compose\\_column_transformer.py:430: FutureWarning: Given feature/column names or counts do not match the ones for the data given during fit. This will fail from v0.24.\n",
      "  FutureWarning)\n",
      "c:\\users\\hans\\anaconda3\\lib\\site-packages\\sklearn\\compose\\_column_transformer.py:430: FutureWarning: Given feature/column names or counts do not match the ones for the data given during fit. This will fail from v0.24.\n",
      "  FutureWarning)\n",
      "c:\\users\\hans\\anaconda3\\lib\\site-packages\\sklearn\\compose\\_column_transformer.py:430: FutureWarning: Given feature/column names or counts do not match the ones for the data given during fit. This will fail from v0.24.\n",
      "  FutureWarning)\n",
      "c:\\users\\hans\\anaconda3\\lib\\site-packages\\sklearn\\compose\\_column_transformer.py:430: FutureWarning: Given feature/column names or counts do not match the ones for the data given during fit. This will fail from v0.24.\n",
      "  FutureWarning)\n",
      "c:\\users\\hans\\anaconda3\\lib\\site-packages\\sklearn\\compose\\_column_transformer.py:430: FutureWarning: Given feature/column names or counts do not match the ones for the data given during fit. This will fail from v0.24.\n",
      "  FutureWarning)\n",
      "c:\\users\\hans\\anaconda3\\lib\\site-packages\\sklearn\\compose\\_column_transformer.py:430: FutureWarning: Given feature/column names or counts do not match the ones for the data given during fit. This will fail from v0.24.\n",
      "  FutureWarning)\n",
      "c:\\users\\hans\\anaconda3\\lib\\site-packages\\sklearn\\compose\\_column_transformer.py:430: FutureWarning: Given feature/column names or counts do not match the ones for the data given during fit. This will fail from v0.24.\n",
      "  FutureWarning)\n",
      "c:\\users\\hans\\anaconda3\\lib\\site-packages\\sklearn\\compose\\_column_transformer.py:430: FutureWarning: Given feature/column names or counts do not match the ones for the data given during fit. This will fail from v0.24.\n",
      "  FutureWarning)\n",
      "c:\\users\\hans\\anaconda3\\lib\\site-packages\\sklearn\\compose\\_column_transformer.py:430: FutureWarning: Given feature/column names or counts do not match the ones for the data given during fit. This will fail from v0.24.\n",
      "  FutureWarning)\n",
      "c:\\users\\hans\\anaconda3\\lib\\site-packages\\sklearn\\compose\\_column_transformer.py:430: FutureWarning: Given feature/column names or counts do not match the ones for the data given during fit. This will fail from v0.24.\n",
      "  FutureWarning)\n",
      "c:\\users\\hans\\anaconda3\\lib\\site-packages\\sklearn\\compose\\_column_transformer.py:430: FutureWarning: Given feature/column names or counts do not match the ones for the data given during fit. This will fail from v0.24.\n",
      "  FutureWarning)\n",
      "c:\\users\\hans\\anaconda3\\lib\\site-packages\\sklearn\\compose\\_column_transformer.py:430: FutureWarning: Given feature/column names or counts do not match the ones for the data given during fit. This will fail from v0.24.\n",
      "  FutureWarning)\n",
      "c:\\users\\hans\\anaconda3\\lib\\site-packages\\sklearn\\compose\\_column_transformer.py:430: FutureWarning: Given feature/column names or counts do not match the ones for the data given during fit. This will fail from v0.24.\n",
      "  FutureWarning)\n",
      "c:\\users\\hans\\anaconda3\\lib\\site-packages\\sklearn\\compose\\_column_transformer.py:430: FutureWarning: Given feature/column names or counts do not match the ones for the data given during fit. This will fail from v0.24.\n",
      "  FutureWarning)\n",
      "c:\\users\\hans\\anaconda3\\lib\\site-packages\\sklearn\\compose\\_column_transformer.py:430: FutureWarning: Given feature/column names or counts do not match the ones for the data given during fit. This will fail from v0.24.\n",
      "  FutureWarning)\n",
      "c:\\users\\hans\\anaconda3\\lib\\site-packages\\sklearn\\compose\\_column_transformer.py:430: FutureWarning: Given feature/column names or counts do not match the ones for the data given during fit. This will fail from v0.24.\n",
      "  FutureWarning)\n",
      "c:\\users\\hans\\anaconda3\\lib\\site-packages\\sklearn\\compose\\_column_transformer.py:430: FutureWarning: Given feature/column names or counts do not match the ones for the data given during fit. This will fail from v0.24.\n",
      "  FutureWarning)\n",
      "c:\\users\\hans\\anaconda3\\lib\\site-packages\\sklearn\\compose\\_column_transformer.py:430: FutureWarning: Given feature/column names or counts do not match the ones for the data given during fit. This will fail from v0.24.\n",
      "  FutureWarning)\n",
      "c:\\users\\hans\\anaconda3\\lib\\site-packages\\sklearn\\compose\\_column_transformer.py:430: FutureWarning: Given feature/column names or counts do not match the ones for the data given during fit. This will fail from v0.24.\n",
      "  FutureWarning)\n",
      "c:\\users\\hans\\anaconda3\\lib\\site-packages\\sklearn\\compose\\_column_transformer.py:430: FutureWarning: Given feature/column names or counts do not match the ones for the data given during fit. This will fail from v0.24.\n",
      "  FutureWarning)\n",
      "c:\\users\\hans\\anaconda3\\lib\\site-packages\\sklearn\\compose\\_column_transformer.py:430: FutureWarning: Given feature/column names or counts do not match the ones for the data given during fit. This will fail from v0.24.\n",
      "  FutureWarning)\n",
      "c:\\users\\hans\\anaconda3\\lib\\site-packages\\sklearn\\compose\\_column_transformer.py:430: FutureWarning: Given feature/column names or counts do not match the ones for the data given during fit. This will fail from v0.24.\n",
      "  FutureWarning)\n",
      "c:\\users\\hans\\anaconda3\\lib\\site-packages\\sklearn\\compose\\_column_transformer.py:430: FutureWarning: Given feature/column names or counts do not match the ones for the data given during fit. This will fail from v0.24.\n",
      "  FutureWarning)\n",
      "c:\\users\\hans\\anaconda3\\lib\\site-packages\\sklearn\\compose\\_column_transformer.py:430: FutureWarning: Given feature/column names or counts do not match the ones for the data given during fit. This will fail from v0.24.\n",
      "  FutureWarning)\n",
      "c:\\users\\hans\\anaconda3\\lib\\site-packages\\sklearn\\compose\\_column_transformer.py:430: FutureWarning: Given feature/column names or counts do not match the ones for the data given during fit. This will fail from v0.24.\n",
      "  FutureWarning)\n",
      "c:\\users\\hans\\anaconda3\\lib\\site-packages\\sklearn\\compose\\_column_transformer.py:430: FutureWarning: Given feature/column names or counts do not match the ones for the data given during fit. This will fail from v0.24.\n",
      "  FutureWarning)\n"
     ]
    }
   ],
   "source": [
    "# compute results on test set\n",
    "# ignoreer de foutmeldingen \"Given feature/column names or counts do not match...\"\n",
    "def compute_test(df_train, df_test, targets, shares, reformat_dict, log_dict, learners):\n",
    "    NR_RUNS = 10\n",
    "    df_res = pd.DataFrame()\n",
    "    df_res[\"id\"] = df_test[\"id\"]\n",
    "    \n",
    "    for target in targets:\n",
    "        df_res[target] = 0\n",
    "        for run in range(NR_RUNS):\n",
    "            df_train.sample(frac=1)    # shuffle the training set\n",
    "            Y_train = df_train[target]\n",
    "\n",
    "            for learner, share in zip(learners, shares):\n",
    "                X_train, regressor = prepare_model(learner, df_train, target, log=log_dict[learner], verbose=False)\n",
    "                regressor.fit(X_train, Y_train)\n",
    "                X_test = reformat_dict[learner](df_test)\n",
    "                df_res[target] += (share * regressor.predict(X_test)) / NR_RUNS\n",
    "\n",
    "    return df_res\n",
    "\n",
    "df_res = compute_test(df_train, df_test,[\"min_price\", \"max_price\"] , share_max, reformat_dict, log_dict,\n",
    "                                                     learners=[\"huber\", \"rfr\", \"svm\", \"gbr\", \"knr\", \"ran\", \"sgd\"])\n",
    "df_res.to_csv('group1.csv', sep=\",\", index=False)"
   ]
  },
  {
   "cell_type": "code",
   "execution_count": 525,
   "metadata": {},
   "outputs": [
    {
     "data": {
      "text/html": [
       "<div>\n",
       "<style scoped>\n",
       "    .dataframe tbody tr th:only-of-type {\n",
       "        vertical-align: middle;\n",
       "    }\n",
       "\n",
       "    .dataframe tbody tr th {\n",
       "        vertical-align: top;\n",
       "    }\n",
       "\n",
       "    .dataframe thead th {\n",
       "        text-align: right;\n",
       "    }\n",
       "</style>\n",
       "<table border=\"1\" class=\"dataframe\">\n",
       "  <thead>\n",
       "    <tr style=\"text-align: right;\">\n",
       "      <th></th>\n",
       "      <th>id</th>\n",
       "      <th>min_price</th>\n",
       "      <th>max_price</th>\n",
       "    </tr>\n",
       "  </thead>\n",
       "  <tbody>\n",
       "    <tr>\n",
       "      <th>0</th>\n",
       "      <td>28807</td>\n",
       "      <td>1093.018941</td>\n",
       "      <td>1192.999567</td>\n",
       "    </tr>\n",
       "    <tr>\n",
       "      <th>1</th>\n",
       "      <td>22559</td>\n",
       "      <td>398.181770</td>\n",
       "      <td>412.072605</td>\n",
       "    </tr>\n",
       "    <tr>\n",
       "      <th>2</th>\n",
       "      <td>28647</td>\n",
       "      <td>757.284967</td>\n",
       "      <td>830.263048</td>\n",
       "    </tr>\n",
       "    <tr>\n",
       "      <th>3</th>\n",
       "      <td>22141</td>\n",
       "      <td>575.498786</td>\n",
       "      <td>591.278862</td>\n",
       "    </tr>\n",
       "    <tr>\n",
       "      <th>4</th>\n",
       "      <td>26116</td>\n",
       "      <td>1709.667977</td>\n",
       "      <td>1825.726596</td>\n",
       "    </tr>\n",
       "    <tr>\n",
       "      <th>5</th>\n",
       "      <td>27111</td>\n",
       "      <td>1429.143261</td>\n",
       "      <td>1404.296698</td>\n",
       "    </tr>\n",
       "    <tr>\n",
       "      <th>6</th>\n",
       "      <td>23420</td>\n",
       "      <td>614.979459</td>\n",
       "      <td>632.959060</td>\n",
       "    </tr>\n",
       "    <tr>\n",
       "      <th>7</th>\n",
       "      <td>21464</td>\n",
       "      <td>184.058619</td>\n",
       "      <td>181.323526</td>\n",
       "    </tr>\n",
       "    <tr>\n",
       "      <th>8</th>\n",
       "      <td>29405</td>\n",
       "      <td>646.564991</td>\n",
       "      <td>693.567424</td>\n",
       "    </tr>\n",
       "    <tr>\n",
       "      <th>9</th>\n",
       "      <td>27107</td>\n",
       "      <td>360.678122</td>\n",
       "      <td>336.694250</td>\n",
       "    </tr>\n",
       "  </tbody>\n",
       "</table>\n",
       "</div>"
      ],
      "text/plain": [
       "      id    min_price    max_price\n",
       "0  28807  1093.018941  1192.999567\n",
       "1  22559   398.181770   412.072605\n",
       "2  28647   757.284967   830.263048\n",
       "3  22141   575.498786   591.278862\n",
       "4  26116  1709.667977  1825.726596\n",
       "5  27111  1429.143261  1404.296698\n",
       "6  23420   614.979459   632.959060\n",
       "7  21464   184.058619   181.323526\n",
       "8  29405   646.564991   693.567424\n",
       "9  27107   360.678122   336.694250"
      ]
     },
     "execution_count": 525,
     "metadata": {},
     "output_type": "execute_result"
    }
   ],
   "source": [
    "df_res.head(10)"
   ]
  },
  {
   "cell_type": "markdown",
   "metadata": {},
   "source": [
    "COMMENTS FOR REPORT\n",
    "Huber: schnell\n",
    "RandaomForestRegressor: zeer stochastische resultaten ?, langzaam\n",
    "Verschillende parameters -> hoop op ensemble, want verschillend\n",
    "RFR: mae slechter als mse??\n",
    "pixels_x, pixels_Y (clearly share in permutation var importance), resolution, screen_size\n",
    "Permutation variance not best guidance -> trial & error\n",
    "Gave up points for model simplicity\n",
    "ram niet daar in huber, belangrijk in rfr"
   ]
  },
  {
   "cell_type": "markdown",
   "metadata": {},
   "source": [
    "IDEAS\n",
    "shuffle data for different training runs\n",
    "predict the min price (easier than max price), then the difference (delta_abs or delta_rel)\n",
    "different preprocessors, models\n",
    "learning: include levels test set -> no unknowns! Possible to to embedding / OrdinalEncoder then?\n",
    "PCA nog eens proberen?\n",
    "unsupervised technique"
   ]
  },
  {
   "cell_type": "markdown",
   "metadata": {},
   "source": [
    "FUNCTIONS FOR DATASET ANALYSIS"
   ]
  },
  {
   "cell_type": "code",
   "execution_count": null,
   "metadata": {
    "scrolled": true
   },
   "outputs": [],
   "source": [
    "testdf=shared_reformat(df_test)\n",
    "with pd.option_context('display.max_rows', None, 'display.max_columns', None):  # more options can be specified also\n",
    "    print(testdf)"
   ]
  },
  {
   "cell_type": "code",
   "execution_count": null,
   "metadata": {},
   "outputs": [],
   "source": [
    "# test dependencies\n",
    "df_dep = reformat_rfr(df_train)\n",
    "#df_dep = df_train\n",
    "nominal_columns = list(df_dep.select_dtypes(include=['object']).columns)\n",
    "corr=associations(df_dep, return_results=True, theil_u=True, plot=False, nominal_columns=nominal_columns)\n",
    "plt.subplots(figsize=(20,15))\n",
    "sns.heatmap(corr, annot=True)"
   ]
  },
  {
   "cell_type": "code",
   "execution_count": null,
   "metadata": {},
   "outputs": [],
   "source": [
    "# look for missing values etc.\n",
    "df_dep_train = reformat_huber(df_train)\n",
    "df_dep_test = reformat_huber(df_test)\n",
    "def check_values(df):\n",
    "    df_datacheck = pd.DataFrame(columns=[\"feature\", \"zero\", \"empty_string\", \"NaN\"])\n",
    "    missing_list, zero_list, empty_string_list, nan_list=[], [], [], []\n",
    "    for col in list(df):\n",
    "        nan_list.append(df[col].isna().sum())\n",
    "        zero_list = df[col][df[col] == 0].count()\n",
    "        empty_string_list = df[col][df[col] == \"\"].count()\n",
    "    df_datacheck.feature = list(df)\n",
    "    df_datacheck.zero = zero_list\n",
    "    df_datacheck.empty_string = empty_string_list\n",
    "    df_datacheck.NaN = nan_list\n",
    "    name =[x for x in globals() if globals()[x] is df][0]\n",
    "    print(name)\n",
    "    print(df_datacheck)\n",
    "    print(\"\")\n",
    "check_values(df_dep_train)\n",
    "check_values(df_dep_test)\n",
    "check_values(df_train)\n",
    "check_values(df_test)\n",
    "\n"
   ]
  },
  {
   "cell_type": "code",
   "execution_count": null,
   "metadata": {
    "scrolled": true
   },
   "outputs": [],
   "source": [
    "check_cols = list(set(list(df_dep_train)).difference(targets))\n",
    "for col in check_cols:\n",
    "    train_list = df_dep_train[col].unique()\n",
    "    test_list = df_dep_test[col].unique()\n",
    "    diff_list = list(set(test_list).difference(train_list))\n",
    "    print(\"{}: {}\".format(col, diff_list))"
   ]
  },
  {
   "cell_type": "markdown",
   "metadata": {},
   "source": [
    "NOT USED: ENSEMBLE WITH WEIGHTS COMPUTED BY LINEAR REGRESSION MODEL"
   ]
  },
  {
   "cell_type": "code",
   "execution_count": null,
   "metadata": {},
   "outputs": [],
   "source": [
    "df_win = pd.DataFrame()\n",
    "df_win[\"id\"] = df_train[\"id\"]\n",
    "df_win[\"huber_max\"] = pipe_max_huber.predict(X_hub)\n",
    "df_win[\"rfr_max\"] = pipe_max_rfr.predict(X_rfr)\n",
    "df_win[\"Y_max\"] = np.array(Y_max)\n",
    "df_win[\"huber_err_max\"] = (df_win[\"huber_max\"] - df_win[\"Y_max\"]).abs()\n",
    "df_win[\"rfr_err_max\"] = (df_win[\"rfr_max\"] - df_win[\"Y_max\"]).abs()\n",
    "df_win[\"huber_wins_max\"] = df_win[\"huber_err_max\"] < df_win[\"rfr_err_max\"]\n",
    "df_win[\"huber_min\"] = pipe_min_huber.predict(X_hub)\n",
    "df_win[\"rfr_min\"] = pipe_min_rfr.predict(X_rfr)\n",
    "df_win[\"Y_min\"] = np.array(Y_min)\n",
    "df_win[\"huber_err_min\"] = (df_win[\"huber_min\"] - df_win[\"Y_min\"]).abs()\n",
    "df_win[\"rfr_err_min\"] = (df_win[\"rfr_min\"] - df_win[\"Y_min\"]).abs()\n",
    "df_win[\"huber_wins_min\"] = df_win[\"huber_err_min\"] < df_win[\"rfr_err_min\"]\n",
    "all_cols = set (X_hub) | set(X_rfr)# list of cols used in X_hub and X_rfr\n",
    "print(df_win.head(10))"
   ]
  },
  {
   "cell_type": "code",
   "execution_count": null,
   "metadata": {},
   "outputs": [],
   "source": [
    "## WHO WINS MAX LOGISTIC REGRESSION##\n",
    "def reformat_wins_max_lr(df):\n",
    "    df = deepcopy(df)\n",
    "    df = shared_reformat(df)\n",
    "    \n",
    "    # transform values of some nominal variables\n",
    "    df.screen_size = df.screen_size.pow(2)  #square the values\n",
    "    df.ram = df.ram.pow(2)  #square the values\n",
    "    df.weight = np.maximum(0,np.log(df.weight)) \n",
    "    \n",
    "    drop_cols = [\"cpu\", \"cpu_type\", \"cpu_brand\", \"discrete_gpu\", \"pixels_y\", \"base_name\",\n",
    "                \"screen_size\", \"storage\", \"ram\", \"weight\", \"cpu_details\", \"brand\",\n",
    "                \"ssd\", \"os_details\", \"os_type\"]\n",
    "    df = df.drop(columns=drop_cols)\n",
    "    \n",
    "    # replace rare categorical levels by \"other\"\n",
    "    cat_col = df.select_dtypes(include=['object']).columns\n",
    "    for col in cat_col:\n",
    "        val_counts = df[col].value_counts(normalize=True).cumsum()\n",
    "        val_counts = val_counts.where(val_counts < .83)\n",
    "        keep_vals = list(val_counts.dropna().index.values)\n",
    "        df.loc[~df[col].isin(keep_vals), col] = \"other\"\n",
    "\n",
    "    return df"
   ]
  },
  {
   "cell_type": "code",
   "execution_count": null,
   "metadata": {},
   "outputs": [],
   "source": [
    "## WHO WINS MAX LOGISTIC REGRESSION##\n",
    "X_win_max = reformat_wins_max_lr(df_train)\n",
    "X_win_max = X_win_max[np.intersect1d(list(X_win_max), list(all_cols))]\n",
    "Y_win_max = df_win[\"huber_wins_max\"]\n",
    "preprocessor = create_preprocessor(X_win_max)\n",
    "pipe_win_max_lr = Pipeline([\n",
    "                    (('preprocessor', preprocessor)),\n",
    "                     ('lr', LogisticRegression(penalty=\"l1\", solver=\"saga\", C=1.3, max_iter=2000))\n",
    "                    ])\n",
    "scores = cross_validate(pipe_win_max_lr, X_win_max, Y_win_max, cv=10)\n",
    "print(\"gemiddeld: {}, details: {}\".format(np.mean(scores['test_score']), scores['test_score']))\n",
    "\n",
    "pipe_win_max_lr.fit(X_win_max, Y_win_max)\n",
    "var_importance(pipe_win_max_lr, X_win_max, Y_win_max)"
   ]
  },
  {
   "cell_type": "code",
   "execution_count": null,
   "metadata": {},
   "outputs": [],
   "source": [
    "## WHO WINS MIN LOGISTIC REGRESSION##\n",
    "def reformat_wins_min_lr(df):\n",
    "    df = deepcopy(df)\n",
    "    df = shared_reformat(df)\n",
    "    \n",
    "    # transform values of some nominal variables\n",
    "    df.screen_size = df.screen_size.pow(2)  #square the values\n",
    "    df.ram = df.ram.pow(2)  #square the values\n",
    "    df.weight = np.maximum(0,np.log(df.weight)) \n",
    "    \n",
    "    drop_cols = [\"discrete_gpu\", \"cpu_brand\", \"pixels_y\", \"os_type\", \"cpu_type\", \"ram\",\n",
    "                \"ssd\", \"screen_size\", \"resolution\", \"weight\", \"os_details\", \"storage\",\n",
    "                \"base_name\", \"brand\", \"cpu\", \"cpu_details\"]\n",
    "    df = df.drop(columns=drop_cols)\n",
    "    \n",
    "    # replace rare categorical levels by \"other\"\n",
    "    cat_col = df.select_dtypes(include=['object']).columns\n",
    "    for col in cat_col:\n",
    "        val_counts = df[col].value_counts(normalize=True).cumsum()\n",
    "        val_counts = val_counts.where(val_counts < .83)\n",
    "        keep_vals = list(val_counts.dropna().index.values)\n",
    "        df.loc[~df[col].isin(keep_vals), col] = \"other\"\n",
    "\n",
    "    return df"
   ]
  },
  {
   "cell_type": "code",
   "execution_count": null,
   "metadata": {},
   "outputs": [],
   "source": [
    "## WHO WINS MIN LOGISTIC REGRESSION##\n",
    "X_win_min = reformat_wins_min_lr(df_train)\n",
    "X_win_min = X_win_min[np.intersect1d(list(X_win_min), list(all_cols))]\n",
    "Y_win_min = df_win[\"huber_wins_min\"]\n",
    "preprocessor = create_preprocessor(X_win_min)\n",
    "pipe_win_min_lr = Pipeline([\n",
    "                    (('preprocessor', preprocessor)),\n",
    "                     ('lr', LogisticRegression(penalty=\"l1\", solver=\"saga\", C=.7))\n",
    "                    ])\n",
    "scores = cross_validate(pipe_win_min_lr, X_win_min, Y_win_min, cv=10)\n",
    "print(\"gemiddeld: {}, details: {}\".format(np.mean(scores['test_score']), scores['test_score']))\n",
    "\n",
    "pipe_win_min_lr.fit(X_win_min, Y_win_min)\n",
    "var_importance(pipe_win_min_lr, X_win_min, Y_win_min)"
   ]
  },
  {
   "cell_type": "markdown",
   "metadata": {},
   "source": [
    "NOT USED: MLP"
   ]
  },
  {
   "cell_type": "code",
   "execution_count": null,
   "metadata": {},
   "outputs": [],
   "source": [
    "# neural network imports\n",
    "from sklearn.base import TransformerMixin\n",
    "from keras.wrappers.scikit_learn import KerasRegressor\n",
    "from keras.callbacks import EarlyStopping, ModelCheckpoint\n",
    "from keras.layers import Dense, Input\n",
    "from keras.models import Model\n",
    "from keras import regularizers\n",
    "from keras.regularizers import l1_l2\n",
    "from keras.models import load_model"
   ]
  },
  {
   "cell_type": "code",
   "execution_count": null,
   "metadata": {},
   "outputs": [],
   "source": [
    "## Y_MAX: MLP ##\n",
    "df_pp = reformat_mlp(df_train)\n",
    "X_mlp, Y_max, Y2, Y3, Y_min = create_xy(df_pp, targets)\n",
    "preprocessor = create_preprocessor(X_mlp)\n",
    "\n",
    "'''\n",
    "# cross-validation                    \n",
    "kf = KFold(n_splits=3)\n",
    "total_error = []\n",
    "for train, val in kf.split(X_mlp):\n",
    "        X_mlp_train = X_mlp.iloc[train]\n",
    "        X_mlp_val = X_mlp.iloc[val]\n",
    "        Y_max_train, Y_min_train = Y_max.iloc[train], Y_min.iloc[train]\n",
    "        Y_max_val = Y_max.iloc[val]\n",
    "        input_shape_cv  = Pipeline([('tp', preprocessor)]).fit_transform(X_mlp_train).shape[1]\n",
    "        pipe_max_mlp_CV = Pipeline([\n",
    "                    (('preprocessor', preprocessor)),\n",
    "                     ('mlp', MLP_custom(nodes=5, epochs=200, batch_size=60, metric='mean_absolute_error', \n",
    "                            l1=0.0001, l2=0.0001, input_shape=input_shape_cv, validation_split=.3, patience=3)) \n",
    "                    ])\n",
    "        pipe_max_mlp_CV.fit(X_mlp_train, Y_max_train)\n",
    "        df_res = pd.DataFrame()\n",
    "        predictions = pipe_max_mlp_CV.predict(X_mlp_val) # is list of lists, must be converted\n",
    "        predictions = [x[0] for x in predictions]\n",
    "        df_res[\"mlp_max\"] = predictions\n",
    "        df_res[\"Y_max\"] = np.array(Y_max_val)\n",
    "        mae_mlp_max = mean_absolute_error(df_res[\"Y_max\"], df_res[\"mlp_max\"])\n",
    "        total_error.append(mae_mlp_max)\n",
    "print(\"gemiddeld: {}, details: {}\".format(np.mean(total_error), total_error))\n",
    "\n",
    "# training and feature importance\n",
    "\n",
    "input_shape = Pipeline([('tp', preprocessor)]).fit_transform(X_mlp).shape[1]\n",
    "pipe_max_mlp = Pipeline([\n",
    "                    (('preprocessor', preprocessor)),\n",
    "                     ('mlp', MLP_custom(nodes=5, epochs=200, batch_size=60, metric='mean_absolute_error', \n",
    "                            l1=0.0001, l2=0.0001, input_shape=input_shape, validation_split=.3, patience=3)) \n",
    "    ])\n",
    "\n",
    "pipe_max_mlp.fit(X_mlp, Y_max)\n",
    "var_importance(pipe_max_mlp, X_mlp, Y_max, scoring=\"neg_mean_absolute_error\")\n",
    "'''\n",
    "\n",
    "# feature importance on last k-fold\n",
    "idx = range(len(X_mlp))\n",
    "idx = np.random.permutation(idx)\n",
    "X_mlp_train, X_mlp_val = X_mlp.iloc[idx[:400]], X_mlp.iloc[idx[400:]]\n",
    "Y_max_train, Y_max_val = Y_max.iloc[idx[:400]], Y_max.iloc[idx[400:]]\n",
    "input_shape  = Pipeline([('tp', preprocessor)]).fit_transform(X_mlp_train).shape[1]\n",
    "pipe_max_mlp = Pipeline([\n",
    "                    (('preprocessor', preprocessor)),\n",
    "                     ('mlp', MLP_custom(nodes=10, epochs=200, batch_size=128, metric='mean_absolute_error', \n",
    "                            l1=0.00001, l2=0.0005, input_shape=input_shape, validation_split=.2, patience=3)) \n",
    "    ])\n",
    "pipe_max_mlp.fit(X_mlp_train, Y_max_train)\n",
    "df_res = pd.DataFrame()\n",
    "predictions = pipe_max_mlp.predict(X_mlp_val) # is list of lists, must be converted\n",
    "predictions = [x[0] for x in predictions]\n",
    "df_res[\"mlp_max\"] = predictions\n",
    "df_res[\"Y_max\"] = np.array(Y_max_val)\n",
    "mae_mlp_max = mean_absolute_error(df_res[\"Y_max\"], df_res[\"mlp_max\"])\n",
    "print(\"error:\",mae_mlp_max)\n",
    "\n",
    "var_importance(pipe_max_mlp, X_mlp_train, Y_max_train, scoring=\"neg_mean_absolute_error\")"
   ]
  }
 ],
 "metadata": {
  "@webio": {
   "lastCommId": null,
   "lastKernelId": null
  },
  "kernelspec": {
   "display_name": "Python 3",
   "language": "python",
   "name": "python3"
  },
  "language_info": {
   "codemirror_mode": {
    "name": "ipython",
    "version": 3
   },
   "file_extension": ".py",
   "mimetype": "text/x-python",
   "name": "python",
   "nbconvert_exporter": "python",
   "pygments_lexer": "ipython3",
   "version": "3.7.3"
  },
  "pycharm": {
   "stem_cell": {
    "cell_type": "raw",
    "source": [],
    "metadata": {
     "collapsed": false
    }
   }
  }
 },
 "nbformat": 4,
 "nbformat_minor": 2
}