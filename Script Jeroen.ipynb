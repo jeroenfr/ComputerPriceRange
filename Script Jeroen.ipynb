{
 "cells": [
  {
   "cell_type": "code",
   "execution_count": 91,
   "metadata": {},
   "outputs": [],
   "source": [
    "import pandas as pd\n",
    "import matplotlib.pyplot as plt\n",
    "import numpy as np"
   ]
  },
  {
   "cell_type": "markdown",
   "metadata": {},
   "source": [
    "# EDA\n",
    "\n",
    "Read in data and explore"
   ]
  },
  {
   "cell_type": "code",
   "execution_count": 59,
   "metadata": {},
   "outputs": [],
   "source": [
    "# read the files\n",
    "df_train = pd.read_csv(\"Data/train.csv\")\n",
    "df_test = pd.read_csv(\"Data/test.csv\")"
   ]
  },
  {
   "cell_type": "code",
   "execution_count": 60,
   "metadata": {},
   "outputs": [
    {
     "data": {
      "text/html": [
       "<div>\n",
       "<style scoped>\n",
       "    .dataframe tbody tr th:only-of-type {\n",
       "        vertical-align: middle;\n",
       "    }\n",
       "\n",
       "    .dataframe tbody tr th {\n",
       "        vertical-align: top;\n",
       "    }\n",
       "\n",
       "    .dataframe thead th {\n",
       "        text-align: right;\n",
       "    }\n",
       "</style>\n",
       "<table border=\"1\" class=\"dataframe\">\n",
       "  <thead>\n",
       "    <tr style=\"text-align: right;\">\n",
       "      <th></th>\n",
       "      <th>count</th>\n",
       "      <th>mean</th>\n",
       "      <th>std</th>\n",
       "      <th>min</th>\n",
       "      <th>25%</th>\n",
       "      <th>50%</th>\n",
       "      <th>75%</th>\n",
       "      <th>max</th>\n",
       "    </tr>\n",
       "  </thead>\n",
       "  <tbody>\n",
       "    <tr>\n",
       "      <th>id</th>\n",
       "      <td>510.0</td>\n",
       "      <td>21748.831373</td>\n",
       "      <td>7344.314902</td>\n",
       "      <td>3841.00</td>\n",
       "      <td>18547.750</td>\n",
       "      <td>23196.50</td>\n",
       "      <td>27881.5000</td>\n",
       "      <td>31422.00</td>\n",
       "    </tr>\n",
       "    <tr>\n",
       "      <th>screen_size</th>\n",
       "      <td>510.0</td>\n",
       "      <td>14.648235</td>\n",
       "      <td>1.606050</td>\n",
       "      <td>10.10</td>\n",
       "      <td>13.300</td>\n",
       "      <td>15.60</td>\n",
       "      <td>15.6000</td>\n",
       "      <td>17.30</td>\n",
       "    </tr>\n",
       "    <tr>\n",
       "      <th>pixels_x</th>\n",
       "      <td>510.0</td>\n",
       "      <td>1865.972549</td>\n",
       "      <td>565.111787</td>\n",
       "      <td>1280.00</td>\n",
       "      <td>1366.000</td>\n",
       "      <td>1920.00</td>\n",
       "      <td>1920.0000</td>\n",
       "      <td>3840.00</td>\n",
       "    </tr>\n",
       "    <tr>\n",
       "      <th>pixels_y</th>\n",
       "      <td>510.0</td>\n",
       "      <td>1074.564706</td>\n",
       "      <td>354.346764</td>\n",
       "      <td>768.00</td>\n",
       "      <td>768.000</td>\n",
       "      <td>1080.00</td>\n",
       "      <td>1080.0000</td>\n",
       "      <td>2160.00</td>\n",
       "    </tr>\n",
       "    <tr>\n",
       "      <th>touchscreen</th>\n",
       "      <td>510.0</td>\n",
       "      <td>0.347059</td>\n",
       "      <td>0.476502</td>\n",
       "      <td>0.00</td>\n",
       "      <td>0.000</td>\n",
       "      <td>0.00</td>\n",
       "      <td>1.0000</td>\n",
       "      <td>1.00</td>\n",
       "    </tr>\n",
       "    <tr>\n",
       "      <th>detachable_keyboard</th>\n",
       "      <td>506.0</td>\n",
       "      <td>0.035573</td>\n",
       "      <td>0.185407</td>\n",
       "      <td>0.00</td>\n",
       "      <td>0.000</td>\n",
       "      <td>0.00</td>\n",
       "      <td>0.0000</td>\n",
       "      <td>1.00</td>\n",
       "    </tr>\n",
       "    <tr>\n",
       "      <th>discrete_gpu</th>\n",
       "      <td>510.0</td>\n",
       "      <td>0.290196</td>\n",
       "      <td>0.454298</td>\n",
       "      <td>0.00</td>\n",
       "      <td>0.000</td>\n",
       "      <td>0.00</td>\n",
       "      <td>1.0000</td>\n",
       "      <td>1.00</td>\n",
       "    </tr>\n",
       "    <tr>\n",
       "      <th>ram</th>\n",
       "      <td>510.0</td>\n",
       "      <td>9.590196</td>\n",
       "      <td>6.246940</td>\n",
       "      <td>2.00</td>\n",
       "      <td>4.000</td>\n",
       "      <td>8.00</td>\n",
       "      <td>16.0000</td>\n",
       "      <td>64.00</td>\n",
       "    </tr>\n",
       "    <tr>\n",
       "      <th>ssd</th>\n",
       "      <td>510.0</td>\n",
       "      <td>198.909804</td>\n",
       "      <td>244.424611</td>\n",
       "      <td>0.00</td>\n",
       "      <td>0.000</td>\n",
       "      <td>128.00</td>\n",
       "      <td>256.0000</td>\n",
       "      <td>2000.00</td>\n",
       "    </tr>\n",
       "    <tr>\n",
       "      <th>storage</th>\n",
       "      <td>510.0</td>\n",
       "      <td>574.749020</td>\n",
       "      <td>517.445695</td>\n",
       "      <td>16.00</td>\n",
       "      <td>128.000</td>\n",
       "      <td>500.00</td>\n",
       "      <td>1000.0000</td>\n",
       "      <td>4000.00</td>\n",
       "    </tr>\n",
       "    <tr>\n",
       "      <th>weight</th>\n",
       "      <td>506.0</td>\n",
       "      <td>4.197925</td>\n",
       "      <td>1.342661</td>\n",
       "      <td>1.37</td>\n",
       "      <td>3.020</td>\n",
       "      <td>4.31</td>\n",
       "      <td>4.9350</td>\n",
       "      <td>9.74</td>\n",
       "    </tr>\n",
       "    <tr>\n",
       "      <th>min_price</th>\n",
       "      <td>510.0</td>\n",
       "      <td>793.677686</td>\n",
       "      <td>543.619499</td>\n",
       "      <td>69.00</td>\n",
       "      <td>380.110</td>\n",
       "      <td>638.50</td>\n",
       "      <td>1099.7425</td>\n",
       "      <td>2999.11</td>\n",
       "    </tr>\n",
       "    <tr>\n",
       "      <th>max_price</th>\n",
       "      <td>510.0</td>\n",
       "      <td>829.228000</td>\n",
       "      <td>570.076909</td>\n",
       "      <td>76.00</td>\n",
       "      <td>399.225</td>\n",
       "      <td>649.00</td>\n",
       "      <td>1179.7425</td>\n",
       "      <td>2999.11</td>\n",
       "    </tr>\n",
       "  </tbody>\n",
       "</table>\n",
       "</div>"
      ],
      "text/plain": [
       "                     count          mean          std      min        25%  \\\n",
       "id                   510.0  21748.831373  7344.314902  3841.00  18547.750   \n",
       "screen_size          510.0     14.648235     1.606050    10.10     13.300   \n",
       "pixels_x             510.0   1865.972549   565.111787  1280.00   1366.000   \n",
       "pixels_y             510.0   1074.564706   354.346764   768.00    768.000   \n",
       "touchscreen          510.0      0.347059     0.476502     0.00      0.000   \n",
       "detachable_keyboard  506.0      0.035573     0.185407     0.00      0.000   \n",
       "discrete_gpu         510.0      0.290196     0.454298     0.00      0.000   \n",
       "ram                  510.0      9.590196     6.246940     2.00      4.000   \n",
       "ssd                  510.0    198.909804   244.424611     0.00      0.000   \n",
       "storage              510.0    574.749020   517.445695    16.00    128.000   \n",
       "weight               506.0      4.197925     1.342661     1.37      3.020   \n",
       "min_price            510.0    793.677686   543.619499    69.00    380.110   \n",
       "max_price            510.0    829.228000   570.076909    76.00    399.225   \n",
       "\n",
       "                          50%         75%       max  \n",
       "id                   23196.50  27881.5000  31422.00  \n",
       "screen_size             15.60     15.6000     17.30  \n",
       "pixels_x              1920.00   1920.0000   3840.00  \n",
       "pixels_y              1080.00   1080.0000   2160.00  \n",
       "touchscreen              0.00      1.0000      1.00  \n",
       "detachable_keyboard      0.00      0.0000      1.00  \n",
       "discrete_gpu             0.00      1.0000      1.00  \n",
       "ram                      8.00     16.0000     64.00  \n",
       "ssd                    128.00    256.0000   2000.00  \n",
       "storage                500.00   1000.0000   4000.00  \n",
       "weight                   4.31      4.9350      9.74  \n",
       "min_price              638.50   1099.7425   2999.11  \n",
       "max_price              649.00   1179.7425   2999.11  "
      ]
     },
     "execution_count": 60,
     "metadata": {},
     "output_type": "execute_result"
    }
   ],
   "source": [
    "df_train.describe().T"
   ]
  },
  {
   "cell_type": "code",
   "execution_count": 61,
   "metadata": {},
   "outputs": [
    {
     "name": "stdout",
     "output_type": "stream",
     "text": [
      "<class 'pandas.core.frame.DataFrame'>\n",
      "RangeIndex: 510 entries, 0 to 509\n",
      "Data columns (total 22 columns):\n",
      "id                     510 non-null int64\n",
      "name                   510 non-null object\n",
      "brand                  510 non-null object\n",
      "base_name              510 non-null object\n",
      "screen_size            510 non-null float64\n",
      "pixels_x               510 non-null int64\n",
      "pixels_y               510 non-null int64\n",
      "screen_surface         498 non-null object\n",
      "touchscreen            510 non-null int64\n",
      "cpu                    510 non-null object\n",
      "cpu_details            504 non-null object\n",
      "detachable_keyboard    506 non-null float64\n",
      "discrete_gpu           510 non-null int64\n",
      "gpu                    508 non-null object\n",
      "os                     508 non-null object\n",
      "os_details             508 non-null object\n",
      "ram                    510 non-null int64\n",
      "ssd                    510 non-null int64\n",
      "storage                510 non-null int64\n",
      "weight                 506 non-null float64\n",
      "min_price              510 non-null float64\n",
      "max_price              510 non-null float64\n",
      "dtypes: float64(5), int64(8), object(9)\n",
      "memory usage: 87.7+ KB\n"
     ]
    }
   ],
   "source": [
    "df_train.info()"
   ]
  },
  {
   "cell_type": "code",
   "execution_count": 62,
   "metadata": {},
   "outputs": [
    {
     "data": {
      "text/html": [
       "<div>\n",
       "<style scoped>\n",
       "    .dataframe tbody tr th:only-of-type {\n",
       "        vertical-align: middle;\n",
       "    }\n",
       "\n",
       "    .dataframe tbody tr th {\n",
       "        vertical-align: top;\n",
       "    }\n",
       "\n",
       "    .dataframe thead th {\n",
       "        text-align: right;\n",
       "    }\n",
       "</style>\n",
       "<table border=\"1\" class=\"dataframe\">\n",
       "  <thead>\n",
       "    <tr style=\"text-align: right;\">\n",
       "      <th></th>\n",
       "      <th>id</th>\n",
       "      <th>name</th>\n",
       "      <th>brand</th>\n",
       "      <th>base_name</th>\n",
       "      <th>screen_size</th>\n",
       "      <th>pixels_x</th>\n",
       "      <th>pixels_y</th>\n",
       "      <th>screen_surface</th>\n",
       "      <th>touchscreen</th>\n",
       "      <th>cpu</th>\n",
       "      <th>...</th>\n",
       "      <th>discrete_gpu</th>\n",
       "      <th>gpu</th>\n",
       "      <th>os</th>\n",
       "      <th>os_details</th>\n",
       "      <th>ram</th>\n",
       "      <th>ssd</th>\n",
       "      <th>storage</th>\n",
       "      <th>weight</th>\n",
       "      <th>min_price</th>\n",
       "      <th>max_price</th>\n",
       "    </tr>\n",
       "  </thead>\n",
       "  <tbody>\n",
       "    <tr>\n",
       "      <th>0</th>\n",
       "      <td>7774</td>\n",
       "      <td>Lenovo Flex 3 15.6-Inch Touchscreen Laptop (Co...</td>\n",
       "      <td>Lenovo</td>\n",
       "      <td>Lenovo Flex 3 80JM002CUS</td>\n",
       "      <td>15.6</td>\n",
       "      <td>1920</td>\n",
       "      <td>1080</td>\n",
       "      <td>Glossy</td>\n",
       "      <td>1</td>\n",
       "      <td>Intel Core i7</td>\n",
       "      <td>...</td>\n",
       "      <td>0</td>\n",
       "      <td>Intel HD</td>\n",
       "      <td>Windows</td>\n",
       "      <td>Windows 10</td>\n",
       "      <td>8</td>\n",
       "      <td>0</td>\n",
       "      <td>1000</td>\n",
       "      <td>4.60</td>\n",
       "      <td>899.00</td>\n",
       "      <td>899.00</td>\n",
       "    </tr>\n",
       "    <tr>\n",
       "      <th>1</th>\n",
       "      <td>25926</td>\n",
       "      <td>Razer Blade 15 Gaming Laptop: Intel Core i7-87...</td>\n",
       "      <td>Razer</td>\n",
       "      <td>Razer Blade 15</td>\n",
       "      <td>15.6</td>\n",
       "      <td>1920</td>\n",
       "      <td>1080</td>\n",
       "      <td>Matte</td>\n",
       "      <td>0</td>\n",
       "      <td>Intel Core i7</td>\n",
       "      <td>...</td>\n",
       "      <td>1</td>\n",
       "      <td>NVIDIA GeForce RTX 2070 Max-Q</td>\n",
       "      <td>Windows</td>\n",
       "      <td>Windows 10 Home</td>\n",
       "      <td>16</td>\n",
       "      <td>512</td>\n",
       "      <td>512</td>\n",
       "      <td>4.63</td>\n",
       "      <td>2099.99</td>\n",
       "      <td>2099.99</td>\n",
       "    </tr>\n",
       "    <tr>\n",
       "      <th>2</th>\n",
       "      <td>25267</td>\n",
       "      <td>Hp 15.6 Inch HD Thin and Light Laptop ( 7th Ge...</td>\n",
       "      <td>HP</td>\n",
       "      <td>HP</td>\n",
       "      <td>15.6</td>\n",
       "      <td>1366</td>\n",
       "      <td>768</td>\n",
       "      <td>NaN</td>\n",
       "      <td>0</td>\n",
       "      <td>AMD A6</td>\n",
       "      <td>...</td>\n",
       "      <td>0</td>\n",
       "      <td>AMD Radeon R4</td>\n",
       "      <td>Windows</td>\n",
       "      <td>Windows 10</td>\n",
       "      <td>8</td>\n",
       "      <td>0</td>\n",
       "      <td>500</td>\n",
       "      <td>4.63</td>\n",
       "      <td>439.00</td>\n",
       "      <td>449.00</td>\n",
       "    </tr>\n",
       "    <tr>\n",
       "      <th>3</th>\n",
       "      <td>22367</td>\n",
       "      <td>Acer Aspire E 15, 15.6\" Full HD, 8th Gen Intel...</td>\n",
       "      <td>Acer</td>\n",
       "      <td>Acer Aspire E5-576</td>\n",
       "      <td>15.6</td>\n",
       "      <td>1920</td>\n",
       "      <td>1080</td>\n",
       "      <td>Matte</td>\n",
       "      <td>0</td>\n",
       "      <td>Intel Core i3</td>\n",
       "      <td>...</td>\n",
       "      <td>0</td>\n",
       "      <td>Intel UHD 620</td>\n",
       "      <td>Windows</td>\n",
       "      <td>Windows 10 Home</td>\n",
       "      <td>6</td>\n",
       "      <td>0</td>\n",
       "      <td>1000</td>\n",
       "      <td>5.30</td>\n",
       "      <td>375.00</td>\n",
       "      <td>449.00</td>\n",
       "    </tr>\n",
       "    <tr>\n",
       "      <th>4</th>\n",
       "      <td>17471</td>\n",
       "      <td>HP 17.3 inch (1600 x 900) HD+ Laptop PC, Intel...</td>\n",
       "      <td>HP</td>\n",
       "      <td>HP 17</td>\n",
       "      <td>17.3</td>\n",
       "      <td>1600</td>\n",
       "      <td>900</td>\n",
       "      <td>Glossy</td>\n",
       "      <td>0</td>\n",
       "      <td>Intel Core i5</td>\n",
       "      <td>...</td>\n",
       "      <td>0</td>\n",
       "      <td>Intel HD 620</td>\n",
       "      <td>Windows</td>\n",
       "      <td>Windows 10</td>\n",
       "      <td>8</td>\n",
       "      <td>0</td>\n",
       "      <td>1000</td>\n",
       "      <td>5.80</td>\n",
       "      <td>559.00</td>\n",
       "      <td>559.00</td>\n",
       "    </tr>\n",
       "  </tbody>\n",
       "</table>\n",
       "<p>5 rows × 22 columns</p>\n",
       "</div>"
      ],
      "text/plain": [
       "      id                                               name   brand  \\\n",
       "0   7774  Lenovo Flex 3 15.6-Inch Touchscreen Laptop (Co...  Lenovo   \n",
       "1  25926  Razer Blade 15 Gaming Laptop: Intel Core i7-87...   Razer   \n",
       "2  25267  Hp 15.6 Inch HD Thin and Light Laptop ( 7th Ge...      HP   \n",
       "3  22367  Acer Aspire E 15, 15.6\" Full HD, 8th Gen Intel...    Acer   \n",
       "4  17471  HP 17.3 inch (1600 x 900) HD+ Laptop PC, Intel...      HP   \n",
       "\n",
       "                  base_name  screen_size  pixels_x  pixels_y screen_surface  \\\n",
       "0  Lenovo Flex 3 80JM002CUS         15.6      1920      1080         Glossy   \n",
       "1            Razer Blade 15         15.6      1920      1080          Matte   \n",
       "2                        HP         15.6      1366       768            NaN   \n",
       "3        Acer Aspire E5-576         15.6      1920      1080          Matte   \n",
       "4                     HP 17         17.3      1600       900         Glossy   \n",
       "\n",
       "   touchscreen            cpu  ... discrete_gpu  \\\n",
       "0            1  Intel Core i7  ...            0   \n",
       "1            0  Intel Core i7  ...            1   \n",
       "2            0         AMD A6  ...            0   \n",
       "3            0  Intel Core i3  ...            0   \n",
       "4            0  Intel Core i5  ...            0   \n",
       "\n",
       "                             gpu       os       os_details ram  ssd  storage  \\\n",
       "0                       Intel HD  Windows       Windows 10   8    0     1000   \n",
       "1  NVIDIA GeForce RTX 2070 Max-Q  Windows  Windows 10 Home  16  512      512   \n",
       "2                  AMD Radeon R4  Windows       Windows 10   8    0      500   \n",
       "3                  Intel UHD 620  Windows  Windows 10 Home   6    0     1000   \n",
       "4                   Intel HD 620  Windows       Windows 10   8    0     1000   \n",
       "\n",
       "   weight  min_price  max_price  \n",
       "0    4.60     899.00     899.00  \n",
       "1    4.63    2099.99    2099.99  \n",
       "2    4.63     439.00     449.00  \n",
       "3    5.30     375.00     449.00  \n",
       "4    5.80     559.00     559.00  \n",
       "\n",
       "[5 rows x 22 columns]"
      ]
     },
     "execution_count": 62,
     "metadata": {},
     "output_type": "execute_result"
    }
   ],
   "source": [
    "df_train.head()"
   ]
  },
  {
   "cell_type": "code",
   "execution_count": 63,
   "metadata": {},
   "outputs": [
    {
     "data": {
      "text/plain": [
       "array(['Intel HD', 'NVIDIA GeForce RTX 2070 Max-Q', 'AMD Radeon R4',\n",
       "       'Intel UHD 620', 'Intel HD 620', 'Intel HD 400',\n",
       "       'NVIDIA GeForce GTX 1070', 'Intel HD 500', 'Intel HD 4400',\n",
       "       'NVIDIA GeForce GTX 1650', 'NVIDIA GeForce GTX 1050 Ti',\n",
       "       'Intel HD 6000', 'AMD Radeon Vega 8', 'NVIDIA GeForce GTX 1060',\n",
       "       'AMD Radeon R5', 'NVIDIA GeForce GTX 960M', 'Intel HD 520',\n",
       "       'NVIDIA GeForce RTX 2070', nan, 'Intel UHD 605',\n",
       "       'AMD Radeon Vega 3', 'AMD Radeon R7', 'NVIDIA GeForce RTX 2060',\n",
       "       'NVIDIA GeForce 940MX', 'Intel HD 4000', 'Intel Iris Plus',\n",
       "       'Intel HD (UMA)', 'NVIDIA GeForce 940M', 'Intel UHD 600',\n",
       "       'Intel HD 515', 'Intel HD 615', 'NVIDIA GeForce RTX 2080 Max-Q',\n",
       "       'Intel HD 5500', 'AMD Radeon Pro 5500M', 'NVIDIA GeForce GTX 1050',\n",
       "       'AMD RadeonÂ\\xa0R4', 'NVIDIA GeForce GTX 1050 Max-Q',\n",
       "       'NVIDIA GeForce MX150', 'NVIDIA GeForce', 'NVIDIA GeForce MX250',\n",
       "       'Intel UHD', 'NVIDIA GeForce RTX 2080', 'Intel HD 3000',\n",
       "       'Intel HD 405', 'Intel UHD 617', 'Intel UHD 615',\n",
       "       'NVIDIA GeForce GTX 1660 Ti', 'NVIDIA GeForce GT 750M',\n",
       "       'AMD Radeon R6', 'Intel HD 505', 'AMD Radeon Vega 6',\n",
       "       'NVIDIA GeForce GTX1070', 'AMD Radeon RX 560X', 'AMD Radeon R2',\n",
       "       'AMD Radeon Pro 555X', 'Intel Iris Plus 655',\n",
       "       'Intel Iris Plus 640', 'Intel HD 510',\n",
       "       'NVIDIA GeForce GTX 1070 Max-Q', 'NVIDIA GeForce GTX 1080',\n",
       "       'Intel Iris 5100', 'NVIDIA GeForce GTX 1650 Max-Q',\n",
       "       'Mali-T860 MP4', 'NVIDIA GeForce GTX 980M', 'NVIDIA Quadro M1000M',\n",
       "       'PowerVR GX6250', 'AMD Radeon Vega 10',\n",
       "       'Imagination PowerVR GX6250', 'Intel HD 5000',\n",
       "       'NVIDIA GeForce GTX 965M', 'Intel HD 4200', 'Intel Iris 540',\n",
       "       'Intel Iris Plus 645', 'NVIDIA GeFoce GTX 1060'], dtype=object)"
      ]
     },
     "execution_count": 63,
     "metadata": {},
     "output_type": "execute_result"
    }
   ],
   "source": [
    "df_train[\"brand\"].unique()\n",
    "df_train[\"cpu\"].unique()\n",
    "df_train[\"gpu\"].unique()"
   ]
  },
  {
   "cell_type": "code",
   "execution_count": 64,
   "metadata": {},
   "outputs": [
    {
     "data": {
      "text/plain": [
       "False"
      ]
     },
     "execution_count": 64,
     "metadata": {},
     "output_type": "execute_result"
    }
   ],
   "source": [
    "set(df_test[\"brand\"].unique())<= set(df_train[\"brand\"].unique()) #all overlapping brands\n",
    "set(df_test[\"cpu\"].unique())<= set(df_train[\"cpu\"].unique()) #unknown values in test set\n",
    "set(df_test[\"gpu\"].unique())<= set(df_train[\"gpu\"].unique()) # Unknowns in test set\n"
   ]
  },
  {
   "cell_type": "code",
   "execution_count": 65,
   "metadata": {},
   "outputs": [
    {
     "data": {
      "text/plain": [
       "array(['Glossy', 'Matte', 'NA', 'glossy', 'matte'], dtype=object)"
      ]
     },
     "execution_count": 65,
     "metadata": {},
     "output_type": "execute_result"
    }
   ],
   "source": [
    "df_train[df_train['screen_surface'].isna()] = \"NA\"\n",
    "df_train['screen_surface'].unique()"
   ]
  },
  {
   "cell_type": "code",
   "execution_count": 66,
   "metadata": {},
   "outputs": [
    {
     "data": {
      "text/plain": [
       "<matplotlib.axes._subplots.AxesSubplot at 0x1d950e17cf8>"
      ]
     },
     "execution_count": 66,
     "metadata": {},
     "output_type": "execute_result"
    },
    {
     "data": {
      "image/png": "[encoded data removed]",
      "text/plain": [
       "<Figure size 432x288 with 1 Axes>"
      ]
     },
     "metadata": {
      "needs_background": "light"
     },
     "output_type": "display_data"
    }
   ],
   "source": [
    "#plt.hist(df_train['ram'], bins = 30).show() #somewhat skewed, but seems plausible\n",
    "#plt.hist(df_train['pixels_x'], bins = 30).show() #ok\n",
    "df_train['screen_surface'].value_counts().plot('bar')"
   ]
  },
  {
   "cell_type": "code",
   "execution_count": 70,
   "metadata": {},
   "outputs": [],
   "source": [
    "df_train[\"screen_surface\"] = df_train[\"screen_surface\"].str.lower()"
   ]
  },
  {
   "cell_type": "code",
   "execution_count": 71,
   "metadata": {},
   "outputs": [
    {
     "data": {
      "text/plain": [
       "array(['glossy', 'matte', 'na'], dtype=object)"
      ]
     },
     "execution_count": 71,
     "metadata": {},
     "output_type": "execute_result"
    }
   ],
   "source": [
    "df_train[\"screen_surface\"].unique()"
   ]
  },
  {
   "cell_type": "code",
   "execution_count": 76,
   "metadata": {},
   "outputs": [
    {
     "data": {
      "text/plain": [
       "True"
      ]
     },
     "execution_count": 76,
     "metadata": {},
     "output_type": "execute_result"
    }
   ],
   "source": [
    "set(df_test.brand.str.lower().unique()) <= set(df_train.brand.str.lower().unique())"
   ]
  },
  {
   "cell_type": "code",
   "execution_count": 78,
   "metadata": {},
   "outputs": [
    {
     "data": {
      "text/plain": [
       "{'acer',\n",
       " 'alienware',\n",
       " 'apple',\n",
       " 'asus',\n",
       " 'dell',\n",
       " 'google',\n",
       " 'hp',\n",
       " 'huawei',\n",
       " 'jumper',\n",
       " 'lenovo',\n",
       " 'lg',\n",
       " 'microsoft',\n",
       " 'msi',\n",
       " 'na',\n",
       " 'other',\n",
       " 'razer',\n",
       " 'rca',\n",
       " 'samsung',\n",
       " 'toshiba'}"
      ]
     },
     "execution_count": 78,
     "metadata": {},
     "output_type": "execute_result"
    }
   ],
   "source": [
    "set(df_train.brand.str.lower().unique())"
   ]
  },
  {
   "cell_type": "code",
   "execution_count": 77,
   "metadata": {},
   "outputs": [
    {
     "data": {
      "text/plain": [
       "{'acer',\n",
       " 'alienware',\n",
       " 'apple',\n",
       " 'asus',\n",
       " 'dell',\n",
       " 'google',\n",
       " 'hp',\n",
       " 'huawei',\n",
       " 'lenovo',\n",
       " 'lg',\n",
       " 'microsoft',\n",
       " 'msi',\n",
       " 'other',\n",
       " 'razer',\n",
       " 'samsung'}"
      ]
     },
     "execution_count": 77,
     "metadata": {},
     "output_type": "execute_result"
    }
   ],
   "source": [
    "set(df_test.brand.str.lower().unique())"
   ]
  },
  {
   "cell_type": "code",
   "execution_count": 86,
   "metadata": {},
   "outputs": [
    {
     "data": {
      "text/plain": [
       "array(['Windows', 'NA', 'Chrome', 'OS', 'macOS', 'Android', nan, 'Mac'],\n",
       "      dtype=object)"
      ]
     },
     "execution_count": 86,
     "metadata": {},
     "output_type": "execute_result"
    }
   ],
   "source": [
    "df_train.os_details.str.split(n=1).str[0].unique()"
   ]
  },
  {
   "cell_type": "code",
   "execution_count": 87,
   "metadata": {},
   "outputs": [
    {
     "data": {
      "text/plain": [
       "array(['Windows', 'Chrome', 'OS', 'macOS'], dtype=object)"
      ]
     },
     "execution_count": 87,
     "metadata": {},
     "output_type": "execute_result"
    }
   ],
   "source": [
    "df_test.os_details.str.split(n=1).str[0].unique()"
   ]
  },
  {
   "cell_type": "code",
   "execution_count": 88,
   "metadata": {},
   "outputs": [
    {
     "data": {
      "text/plain": [
       "array(['Lenovo', 'Razer', 'NA', 'Acer', 'HP', 'Asus', 'Dell', 'MSI',\n",
       "       'Apple', 'Samsung', 'Microsoft', 'Other', 'Alienware', 'Huawei',\n",
       "       'LG', 'RCA', 'Toshiba', 'Google', 'Jumper'], dtype=object)"
      ]
     },
     "execution_count": 88,
     "metadata": {},
     "output_type": "execute_result"
    }
   ],
   "source": [
    "df_train.brand.str.split(n=1).str[0].unique()"
   ]
  },
  {
   "cell_type": "code",
   "execution_count": 96,
   "metadata": {},
   "outputs": [
    {
     "data": {
      "text/plain": [
       "310     Dell\n",
       "395    Apple\n",
       "Name: brand, dtype: object"
      ]
     },
     "execution_count": 96,
     "metadata": {},
     "output_type": "execute_result"
    }
   ],
   "source": [
    "df_train[df_train.os_details.str.split(n=1).str[0].isna()].brand"
   ]
  },
  {
   "cell_type": "code",
   "execution_count": null,
   "metadata": {},
   "outputs": [],
   "source": []
  }
 ],
 "metadata": {
  "kernelspec": {
   "display_name": "Python 3",
   "language": "python",
   "name": "python3"
  },
  "language_info": {
   "codemirror_mode": {
    "name": "ipython",
    "version": 3
   },
   "file_extension": ".py",
   "mimetype": "text/x-python",
   "name": "python",
   "nbconvert_exporter": "python",
   "pygments_lexer": "ipython3",
   "version": "3.7.3"
  }
 },
 "nbformat": 4,
 "nbformat_minor": 2
}
