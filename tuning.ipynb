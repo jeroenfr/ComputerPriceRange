{
 "cells": [
  {
   "cell_type": "code",
   "execution_count": 29,
   "metadata": {
    "collapsed": true,
    "pycharm": {
     "is_executing": false
    }
   },
   "outputs": [],
   "source": [
    "from copy import deepcopy\n",
    "import pandas as pd\n",
    "import numpy as np\n",
    "from sklearn.model_selection import GridSearchCV\n",
    "from sklearn.metrics import mean_absolute_error, make_scorer\n",
    "from sklearn.model_selection import train_test_split"
   ]
  },
  {
   "cell_type": "code",
   "source": [
    "raw_train = pd.read_csv(\"Data/train.csv\")\n",
    "raw_test = pd.read_csv(\"Data/test.csv\")\n",
    "targets = [\"max_price\", \"delta_abs\", \"delta_rel\", \"min_price\"]\n"
   ],
   "metadata": {
    "collapsed": false,
    "pycharm": {
     "name": "#%%\n",
     "is_executing": false
    }
   },
   "execution_count": 30,
   "outputs": []
  },
  {
   "cell_type": "code",
   "execution_count": 31,
   "outputs": [],
   "source": [
    "def shared_reformat(df):\n",
    "    df = deepcopy(df)\n",
    "    \n",
    "    # create special targets (only on train set)\n",
    "    if \"max_price\" in list(df):\n",
    "        df[\"delta_abs\"] = df[\"max_price\"] - df[\"min_price\"] \n",
    "        df[\"delta_rel\"] = np.log(df[\"max_price\"] / df[\"min_price\"] )\n",
    "    \n",
    "    # deal with missing data\n",
    "    #df.pixels_y = df.pixels_y.fillna(0)\n",
    "    df.detachable_keyboard.fillna(0, inplace = True)  # only four cases. Assume none\n",
    "    df.pixels_x.fillna(1920, inplace = True)   # only 2 cases, replace by most common value\n",
    "    df.pixels_y.fillna(1080, inplace = True)   # only 2 cases, replace by most common value\n",
    "    df.loc[df.screen_surface.isna(), \"screen_surface\"] = 'Glossy'       # 12 cases, large majority is Glossy,\n",
    "    df.loc[df.screen_surface.isna() & df.pixels_x == 1920, \"screen_surface\"] = 'Matte'  # except here\n",
    "    df.sort_values(by=['name'])\n",
    "    df.cpu_details.fillna(method='bfill', inplace=True)  # take previous value, they are often similar\n",
    "    df.gpu.fillna(method='bfill', inplace=True)  # take previous value, they are often similar\n",
    "    df.weight.fillna(method='bfill', inplace=True)\n",
    "    df.loc[df.os.isna() & df.brand == \"Apple\", \"os\"] = 'macOS'  # 1 case\n",
    "    df.loc[df.os_details.isna() & df.brand == \"Apple\", \"os_details\"] = \"macOS Mojave\"  # 1 case, most common\n",
    "    df.loc[df.os.isna() & df.brand == \"Dell\", \"os\"] = 'Windows'  # 1 case\n",
    "    df.loc[df.os_details.isna() & df.brand == \"Dell\", \"os_details\"] = \"Windows 10 Home\"  # 1 case, most common\n",
    "    \n",
    "\n",
    "    # create new features\n",
    "    df[\"cpu_brand\"] = df.cpu.str.split(n=1).str[0]\n",
    "    df[\"cpu_type\"] = df.cpu.str.split(n=1).str[1]\n",
    "    df[\"gpu_brand\"] = df.gpu.str.split(n=1).str[0]\n",
    "    df[\"gpu_series\"] = df.gpu.str.split(n=2).str[1]\n",
    "    df[\"os_type\"] = df.os_details.str.split(n=1).str[1]\n",
    "    df[\"os_nr\"] = df.os_details.str.split(n=2).str[2]\n",
    "    df[\"resolution\"] = df.pixels_y / df.screen_size\n",
    "    df[\"gimmick\"] = df.detachable_keyboard + 5 * df.discrete_gpu + 3* df.touchscreen\n",
    "    def get_speed(sentence):\n",
    "        try:\n",
    "            sentence = sentence.split()\n",
    "            index = sentence.index('GHz')\n",
    "            return pow(float(sentence[index-1]),2)\n",
    "        except:\n",
    "            return pow(2.4, 2)\n",
    "    df[\"speed\"] = df.cpu_details.apply(get_speed)\n",
    "    def has_word(sentence, word):\n",
    "        try:\n",
    "            return word in sentence\n",
    "        except:\n",
    "            return False\n",
    "    df[\"Dual-Core\"] = df.cpu_details.apply(has_word, word=\"Dual-Core\")\n",
    "    df[\"Quad-Core\"] = df.cpu_details.apply(has_word, word=\"Quad-Core\")\n",
    "    df[\"Hexa-Core\"] = df.cpu_details.apply(has_word, word=\"Hexa-Core\")\n",
    "    df[\"Hyper-Threading\"] = df.cpu_details.apply(has_word, word=\"Hyper-Threading\")\n",
    "    \n",
    "    \n",
    "    # correct a few mistakes in new features\n",
    "    map_gpu_series = {\"GeFoce\":\"GeForce\", \"RadeonÂ\": \"Radeon\"}\n",
    "    df.gpu_series = df.gpu_series.replace(map_gpu_series) \n",
    "    map_screen_surface = {\"glossy\":\"Glossy\", \"matte\":\"Matte\"}\n",
    "    df.screen_surface = df.screen_surface.replace(map_screen_surface)  \n",
    "\n",
    "    \n",
    "    # make sure all values in categorical variables are strings\n",
    "    cat_col = df.select_dtypes(include=['object']).columns\n",
    "    df[cat_col] = df[cat_col].astype(str)\n",
    "    \n",
    "    # cleanup test set\n",
    "    df.pixels_y = df.pixels_y.astype('int64')\n",
    "    \n",
    "    # shuffle the database\n",
    "    df.sample(frac=1)\n",
    "    return df\n"
   ],
   "metadata": {
    "collapsed": false,
    "pycharm": {
     "name": "#%%\n",
     "is_executing": false
    }
   }
  },
  {
   "cell_type": "code",
   "execution_count": 32,
   "outputs": [
    {
     "name": "stdout",
     "text": [
      "Index(['id', 'name', 'brand', 'base_name', 'screen_size', 'pixels_x',\n",
      "       'pixels_y', 'screen_surface', 'touchscreen', 'cpu', 'cpu_details',\n",
      "       'detachable_keyboard', 'discrete_gpu', 'gpu', 'os', 'os_details', 'ram',\n",
      "       'ssd', 'storage', 'weight', 'min_price', 'max_price', 'delta_abs',\n",
      "       'delta_rel', 'cpu_brand', 'cpu_type', 'gpu_brand', 'gpu_series',\n",
      "       'os_type', 'os_nr', 'resolution', 'gimmick', 'speed', 'Dual-Core',\n",
      "       'Quad-Core', 'Hexa-Core', 'Hyper-Threading'],\n",
      "      dtype='object')\n",
      "Index(['brand', 'pixels_y', 'screen_surface', 'touchscreen', 'discrete_gpu',\n",
      "       'os', 'ram', 'storage', 'cpu_brand', 'cpu_type', 'gpu_brand',\n",
      "       'gpu_series', 'os_type', 'os_nr', 'resolution', 'gimmick', 'speed',\n",
      "       'Dual-Core', 'Quad-Core', 'Hexa-Core', 'Hyper-Threading'],\n",
      "      dtype='object')\n",
      "    brand  pixels_y screen_surface  touchscreen  discrete_gpu       os  ram  \\\n",
      "0  Lenovo      1080         Glossy            1             0  Windows    8   \n",
      "1   Razer      1080          Matte            0             1  Windows   16   \n",
      "\n",
      "   storage cpu_brand cpu_type  ... gpu_series  os_type os_nr resolution  \\\n",
      "0     1000     Intel  Core i7  ...         HD       10   nan  69.230769   \n",
      "1      512     Intel  Core i7  ...    GeForce  10 Home  Home  69.230769   \n",
      "\n",
      "   gimmick  speed  Dual-Core  Quad-Core  Hexa-Core  Hyper-Threading  \n",
      "0      3.0   5.76       True      False      False             True  \n",
      "1      5.0   4.84      False      False       True             True  \n",
      "\n",
      "[2 rows x 21 columns]\n"
     ],
     "output_type": "stream"
    },
    {
     "name": "stderr",
     "text": [
      "C:\\ProgramData\\Anaconda3\\envs\\ComputerPriceRange\\lib\\site-packages\\pandas\\core\\ops\\array_ops.py:253: FutureWarning: elementwise comparison failed; returning scalar instead, but in the future will perform elementwise comparison\n",
      "  res_values = method(rvalues)\n"
     ],
     "output_type": "stream"
    },
    {
     "data": {
      "text/plain": "brand               object\npixels_y             int64\nscreen_surface      object\ntouchscreen          int64\ndiscrete_gpu         int64\nos                  object\nram                  int64\nstorage              int64\ncpu_brand           object\ncpu_type            object\ngpu_brand           object\ngpu_series          object\nos_type             object\nos_nr               object\nresolution         float64\ngimmick            float64\nspeed              float64\nDual-Core             bool\nQuad-Core             bool\nHexa-Core             bool\nHyper-Threading       bool\ndtype: object"
     },
     "metadata": {},
     "output_type": "execute_result",
     "execution_count": 32
    }
   ],
   "source": [
    "df_train = shared_reformat(raw_train)\n",
    "df_test = shared_reformat(raw_test)\n",
    "\n",
    "drop_cols=[\"id\", \"name\", \"base_name\", \"screen_size\", \"weight\", \"detachable_keyboard\", \"gpu\",\n",
    "              \"ssd\", \"pixels_x\", \"cpu_details\", \"os_details\", \"cpu\", \"min_price\", \"max_price\", \"delta_abs\", \"delta_rel\"]\n",
    "\n",
    "drop_cols_test=[\"id\", \"name\", \"base_name\", \"screen_size\", \"weight\", \"detachable_keyboard\", \"gpu\",\n",
    "              \"ssd\", \"pixels_x\", \"cpu_details\", \"os_details\", \"cpu\"]\n",
    "X = df_train.drop(columns=drop_cols, axis=1)\n",
    "y = df_train[[\"min_price\", \"max_price\"]]\n",
    "\n",
    "X_train, X_test, y_train, y_test = train_test_split(X, y, test_size=0.3)\n",
    "\n",
    "print(df_train.columns)\n",
    "print(X.columns)\n",
    "print(X.head(2))\n",
    "X.dtypes"
   ],
   "metadata": {
    "collapsed": false,
    "pycharm": {
     "name": "#%%\n",
     "is_executing": false
    }
   }
  },
  {
   "cell_type": "code",
   "execution_count": 33,
   "outputs": [],
   "source": [
    "from sklearn.pipeline import Pipeline\n",
    "from sklearn.impute import SimpleImputer\n",
    "from sklearn.preprocessing import StandardScaler, OneHotEncoder\n",
    "\n",
    "numeric_transformer = Pipeline(steps=[\n",
    "    ('imputer', SimpleImputer(strategy='median')),\n",
    "    ('scaler', StandardScaler())])\n",
    "\n",
    "categorical_transformer = Pipeline(steps=[\n",
    "    ('imputer', SimpleImputer(strategy='constant', fill_value='missing')),\n",
    "    ('onehot', OneHotEncoder(handle_unknown='ignore'))])\n",
    "\n",
    "numeric_features = X.select_dtypes(['int64', 'float64']).columns\n",
    "\n",
    "categorical_features = X.select_dtypes(include=['object']).columns\n",
    "\n",
    "from sklearn.compose import ColumnTransformer\n",
    "\n",
    "preprocessor = ColumnTransformer( \n",
    "    transformers = [\n",
    "        ('num', numeric_transformer, numeric_features),\n",
    "        ('cat', categorical_transformer, categorical_features)])"
   ],
   "metadata": {
    "collapsed": false,
    "pycharm": {
     "name": "#%%\n",
     "is_executing": false
    }
   }
  },
  {
   "cell_type": "code",
   "execution_count": 67,
   "outputs": [
    {
     "data": {
      "text/plain": "Pipeline(memory=None,\n         steps=[('preprocessor',\n                 ColumnTransformer(n_jobs=None, remainder='drop',\n                                   sparse_threshold=0.3,\n                                   transformer_weights=None,\n                                   transformers=[('num',\n                                                  Pipeline(memory=None,\n                                                           steps=[('imputer',\n                                                                   SimpleImputer(add_indicator=False,\n                                                                                 copy=True,\n                                                                                 fill_value=None,\n                                                                                 missing_values=nan,\n                                                                                 strategy='median',\n                                                                                 verbose=0)),\n                                                                  ('scaler',\n                                                                   StandardScaler(copy=True,\n                                                                                  with_mean...\n                 RandomForestRegressor(bootstrap=True, ccp_alpha=0.0,\n                                       criterion='mse', max_depth=None,\n                                       max_features='auto', max_leaf_nodes=None,\n                                       max_samples=None,\n                                       min_impurity_decrease=0.0,\n                                       min_impurity_split=None,\n                                       min_samples_leaf=1, min_samples_split=2,\n                                       min_weight_fraction_leaf=0.0,\n                                       n_estimators=100, n_jobs=None,\n                                       oob_score=False, random_state=None,\n                                       verbose=0, warm_start=False))],\n         verbose=False)"
     },
     "metadata": {},
     "output_type": "execute_result",
     "execution_count": 67
    }
   ],
   "source": [
    "from sklearn.ensemble import RandomForestClassifier, RandomForestRegressor, IsolationForest\n",
    "\n",
    "rf = Pipeline(steps=[('preprocessor', preprocessor),\n",
    "                      ('classifier', RandomForestRegressor())])\n",
    "\n",
    "rf.fit(X, y)"
   ],
   "metadata": {
    "collapsed": false,
    "pycharm": {
     "name": "#%%\n",
     "is_executing": false
    }
   }
  },
  {
   "cell_type": "code",
   "execution_count": 58,
   "outputs": [
    {
     "name": "stdout",
     "text": [
      "[[ 854.3722      865.4991    ]\n",
      " [2160.777275   2254.23048333]\n",
      " [ 449.25664167  460.64845   ]\n",
      " ...\n",
      " [ 627.74043333  696.69832917]\n",
      " [ 563.89953667  568.21683667]\n",
      " [1508.67011905 1556.89797619]]\n"
     ],
     "output_type": "stream"
    }
   ],
   "source": [
    "y_pred = rf.predict(X)\n",
    "print(y_pred)"
   ],
   "metadata": {
    "collapsed": false,
    "pycharm": {
     "name": "#%%\n",
     "is_executing": false
    }
   }
  },
  {
   "cell_type": "code",
   "execution_count": 36,
   "outputs": [],
   "source": [
    "#def seppe_error(Y_true, Y_pred):\n",
    "#    return (mean_absolute_error(Y_true.min_price, Y_pred[:,0]) + mean_absolute_error(Y_true.max_price, Y_pred[:,1])) / 2\n",
    "\n",
    "#seppe_error(y_test, y_pred)"
   ],
   "metadata": {
    "collapsed": false,
    "pycharm": {
     "name": "#%%\n",
     "is_executing": false
    }
   }
  },
  {
   "cell_type": "code",
   "execution_count": 52,
   "outputs": [
    {
     "data": {
      "text/plain": "145.77289760076246"
     },
     "metadata": {},
     "output_type": "execute_result",
     "execution_count": 52
    }
   ],
   "source": [
    "def seppe_error(y_true, y_pred):\n",
    "    return mean_absolute_error(y_true, y_pred, multioutput=[0.5, 0.5])\n",
    "\n",
    "seppe_error(y_test, y_pred)"
   ],
   "metadata": {
    "collapsed": false,
    "pycharm": {
     "name": "#%%\n",
     "is_executing": false
    }
   }
  },
  {
   "cell_type": "code",
   "execution_count": 59,
   "outputs": [
    {
     "name": "stdout",
     "text": [
      "Index(['brand', 'pixels_y', 'screen_surface', 'touchscreen', 'discrete_gpu',\n",
      "       'os', 'ram', 'storage', 'cpu_brand', 'cpu_type', 'gpu_brand',\n",
      "       'gpu_series', 'os_type', 'os_nr', 'resolution', 'gimmick', 'speed',\n",
      "       'Dual-Core', 'Quad-Core', 'Hexa-Core', 'Hyper-Threading'],\n",
      "      dtype='object')\n"
     ],
     "output_type": "stream"
    },
    {
     "data": {
      "text/plain": "Index(['brand', 'pixels_y', 'screen_surface', 'touchscreen', 'discrete_gpu',\n       'os', 'ram', 'storage', 'cpu_brand', 'cpu_type', 'gpu_brand',\n       'gpu_series', 'os_type', 'os_nr', 'resolution', 'gimmick', 'speed',\n       'Dual-Core', 'Quad-Core', 'Hexa-Core', 'Hyper-Threading'],\n      dtype='object')"
     },
     "metadata": {},
     "output_type": "execute_result",
     "execution_count": 59
    }
   ],
   "source": [
    "X_eval = df_test.drop(columns=drop_cols_test, axis=1)\n",
    "print(X_eval.columns)\n",
    "#\n",
    "y_test_pred = rf.predict(X_eval)\n",
    "X_train.columns"
   ],
   "metadata": {
    "collapsed": false,
    "pycharm": {
     "name": "#%%\n",
     "is_executing": false
    }
   }
  },
  {
   "cell_type": "code",
   "execution_count": 60,
   "outputs": [
    {
     "data": {
      "text/plain": "             0            1     id\n0  1090.587350  1182.051400  28807\n1   398.432300   414.908733  22559\n2   783.292183   806.477708  28647\n3   554.888208   571.513850  22141\n4  1425.104562  1489.072902  26116",
      "text/html": "<div>\n<style scoped>\n    .dataframe tbody tr th:only-of-type {\n        vertical-align: middle;\n    }\n\n    .dataframe tbody tr th {\n        vertical-align: top;\n    }\n\n    .dataframe thead th {\n        text-align: right;\n    }\n</style>\n<table border=\"1\" class=\"dataframe\">\n  <thead>\n    <tr style=\"text-align: right;\">\n      <th></th>\n      <th>0</th>\n      <th>1</th>\n      <th>id</th>\n    </tr>\n  </thead>\n  <tbody>\n    <tr>\n      <th>0</th>\n      <td>1090.587350</td>\n      <td>1182.051400</td>\n      <td>28807</td>\n    </tr>\n    <tr>\n      <th>1</th>\n      <td>398.432300</td>\n      <td>414.908733</td>\n      <td>22559</td>\n    </tr>\n    <tr>\n      <th>2</th>\n      <td>783.292183</td>\n      <td>806.477708</td>\n      <td>28647</td>\n    </tr>\n    <tr>\n      <th>3</th>\n      <td>554.888208</td>\n      <td>571.513850</td>\n      <td>22141</td>\n    </tr>\n    <tr>\n      <th>4</th>\n      <td>1425.104562</td>\n      <td>1489.072902</td>\n      <td>26116</td>\n    </tr>\n  </tbody>\n</table>\n</div>"
     },
     "metadata": {},
     "output_type": "execute_result",
     "execution_count": 60
    }
   ],
   "source": [
    "result = pd.DataFrame(y_test_pred)\n",
    "result[\"id\"] = df_test.id.values\n",
    "\n",
    "result.head()"
   ],
   "metadata": {
    "collapsed": false,
    "pycharm": {
     "name": "#%%\n",
     "is_executing": false
    }
   }
  },
  {
   "cell_type": "code",
   "execution_count": 61,
   "outputs": [],
   "source": [
    "result.columns = [\"min_price\", \"max_price\", \"ID\"]\n",
    "result.set_index(keys = 'ID')\n",
    "result = result[[ \"ID\", \"min_price\", \"max_price\"]]\n",
    "result.head()\n",
    "result.to_csv('Data/jeroen_result.csv', index=False)"
   ],
   "metadata": {
    "collapsed": false,
    "pycharm": {
     "name": "#%%\n",
     "is_executing": false
    }
   }
  },
  {
   "cell_type": "code",
   "execution_count": 63,
   "outputs": [
    {
     "name": "stdout",
     "text": [
      "{'classifier__ccp_alpha': 0.1, 'classifier__max_depth': 20, 'classifier__max_features': 0.2, 'classifier__max_samples': None, 'classifier__n_estimators': 200, 'classifier__oob_score': False}\n",
      "-160.54343601807582\n"
     ],
     "output_type": "stream"
    }
   ],
   "source": [
    "params = {\n",
    "        'classifier__n_estimators':[200, 500],\n",
    "        'classifier__max_features' : [.2, .5, None],\n",
    "        'classifier__max_samples' : [.2, .5, None],\n",
    "        'classifier__ccp_alpha' : [0, .01, .1],\n",
    "        'classifier__oob_score' : [True, False],\n",
    "        'classifier__max_depth' : [10, 20, 50]\n",
    "    }\n",
    "scoring = {'Seppe error': make_scorer(seppe_error, greater_is_better=False)}\n",
    "CV = GridSearchCV(rf, params, scoring='neg_mean_absolute_error', cv=5,n_jobs= -1)\n",
    "                  \n",
    "CV.fit(X_train, y_train)\n",
    "print(CV.best_params_)    \n",
    "print(CV.best_score_)"
   ],
   "metadata": {
    "collapsed": false,
    "pycharm": {
     "name": "#%%\n",
     "is_executing": false
    }
   }
  },
  {
   "cell_type": "code",
   "execution_count": 64,
   "outputs": [],
   "source": [
    "result = pd.DataFrame(CV.predict(X_eval))\n",
    "result['ID'] = df_test.id.values\n",
    "result.columns = [\"min_price\", \"max_price\", \"ID\"]\n",
    "result.set_index(keys = 'ID')\n",
    "result = result[[ \"ID\", \"min_price\", \"max_price\"]]\n",
    "result.head()\n",
    "result.to_csv('Data/jeroen_result.csv', index=False)"
   ],
   "metadata": {
    "collapsed": false,
    "pycharm": {
     "name": "#%%\n",
     "is_executing": false
    }
   }
  },
  {
   "cell_type": "code",
   "execution_count": 65,
   "outputs": [
    {
     "data": {
      "text/plain": "      ID    min_price    max_price\n0  28807  1083.243800  1183.061400\n1  22559   378.630148   403.235998\n2  28647   744.237150   782.108800\n3  22141   569.956592   585.370975\n4  26116  1466.376644  1556.589325",
      "text/html": "<div>\n<style scoped>\n    .dataframe tbody tr th:only-of-type {\n        vertical-align: middle;\n    }\n\n    .dataframe tbody tr th {\n        vertical-align: top;\n    }\n\n    .dataframe thead th {\n        text-align: right;\n    }\n</style>\n<table border=\"1\" class=\"dataframe\">\n  <thead>\n    <tr style=\"text-align: right;\">\n      <th></th>\n      <th>ID</th>\n      <th>min_price</th>\n      <th>max_price</th>\n    </tr>\n  </thead>\n  <tbody>\n    <tr>\n      <th>0</th>\n      <td>28807</td>\n      <td>1083.243800</td>\n      <td>1183.061400</td>\n    </tr>\n    <tr>\n      <th>1</th>\n      <td>22559</td>\n      <td>378.630148</td>\n      <td>403.235998</td>\n    </tr>\n    <tr>\n      <th>2</th>\n      <td>28647</td>\n      <td>744.237150</td>\n      <td>782.108800</td>\n    </tr>\n    <tr>\n      <th>3</th>\n      <td>22141</td>\n      <td>569.956592</td>\n      <td>585.370975</td>\n    </tr>\n    <tr>\n      <th>4</th>\n      <td>26116</td>\n      <td>1466.376644</td>\n      <td>1556.589325</td>\n    </tr>\n  </tbody>\n</table>\n</div>"
     },
     "metadata": {},
     "output_type": "execute_result",
     "execution_count": 65
    }
   ],
   "source": [
    "result.head()"
   ],
   "metadata": {
    "collapsed": false,
    "pycharm": {
     "name": "#%%\n",
     "is_executing": false
    }
   }
  },
  {
   "cell_type": "code",
   "execution_count": 131,
   "outputs": [],
   "source": [
    "params = {\n",
    "        'if__n_estimators' : [500, 300],\n",
    "        'if__max_samples' : [0.2, 0.5, 0.7, 1],\n",
    "        'if__contamination' : ['auto'],#[0, 0.1, 0.2, 0.3, 0.4, 0.5, 'auto'],\n",
    "        'if__max_features' : [0.2, 0.5, 1.0]\n",
    "      }\n",
    "drop_cols_if=[\"id\", \"name\", \"base_name\", \"screen_size\",  \n",
    "              \"pixels_x\", \"cpu_details\", \"os_details\", \"delta_abs\", \"delta_rel\"]\n",
    "df_if = df_train.drop(columns=drop_cols, axis=1)\n",
    "\n",
    "isolf = Pipeline(steps=[('preprocessor', preprocessor), \n",
    "                        ('if', IsolationForest(n_estimators=200, max_samples=.5))])\n",
    "forest = isolf.fit(df_train)\n",
    "bin_pred = forest.predict(df_train)\n",
    "y = pd.DataFrame(forest.decision_function(df_train))"
   ],
   "metadata": {
    "collapsed": false,
    "pycharm": {
     "name": "#%%\n",
     "is_executing": false
    }
   }
  },
  {
   "cell_type": "code",
   "execution_count": 132,
   "outputs": [
    {
     "name": "stdout",
     "text": [
      "            0     ID\n",
      "112 -0.027907  28976\n",
      "293 -0.019547  23417\n",
      "86  -0.015317  29202\n",
      "263 -0.010622  19313\n",
      "307 -0.001008  29844\n",
      "31   0.004961  12766\n",
      "83   0.008337  31421\n",
      "453  0.011343  30276\n",
      "209  0.015542  26588\n",
      "220  0.018915  28973\n",
      "485  0.019681  21204\n",
      "176  0.021655  20738\n",
      "296  0.022159  23244\n",
      "242  0.023129   3950\n",
      "65   0.023981  24838\n",
      "346  0.023991   4066\n",
      "194  0.024982  23243\n",
      "161  0.029212  26808\n",
      "100  0.034051   7856\n",
      "35   0.037313  20094\n",
      "404  0.037313  19844\n",
      "470  0.037407  28048\n",
      "374  0.037505  11676\n",
      "201  0.037968  27889\n",
      "14   0.039798  25265\n",
      "442  0.040723  21462\n",
      "355  0.041278  21468\n",
      "471  0.041387   9935\n",
      "24   0.041768  23205\n",
      "26   0.042309   6768\n",
      "246  0.042639  28041\n",
      "171  0.043917  23223\n",
      "495  0.044004  26804\n",
      "429  0.044593  28044\n",
      "229  0.044787  26806\n",
      "265  0.045119  28043\n",
      "82   0.046671  28648\n",
      "417  0.046978  28332\n",
      "214  0.047201  25929\n",
      "305  0.047841  17746\n",
      "2    0.047864  25267\n",
      "58   0.048044  13772\n",
      "463  0.048110  22744\n",
      "460  0.048337  27737\n",
      "243  0.048337  17017\n",
      "210  0.048418  27882\n",
      "480  0.048580  23196\n",
      "331  0.049269  22980\n",
      "394  0.049597  23230\n",
      "215  0.049701  27731\n",
      "     0     ID\n",
      "307 -1  29844\n",
      "293 -1  23417\n",
      "263 -1  19313\n",
      "112 -1  28976\n",
      "86  -1  29202\n",
      "0    1   7774\n",
      "339  1  28487\n",
      "340  1   9285\n",
      "341  1  20515\n",
      "342  1   3841\n",
      "343  1   9719\n",
      "345  1  24014\n",
      "346  1   4066\n",
      "347  1  17467\n",
      "348  1   6973\n",
      "344  1  14070\n",
      "338  1  26964\n",
      "336  1  26131\n",
      "349  1   7077\n",
      "335  1  25738\n",
      "334  1  24431\n",
      "333  1  20286\n",
      "332  1  19857\n",
      "331  1  22980\n",
      "330  1  28646\n",
      "329  1  18832\n",
      "328  1  31197\n",
      "327  1  17473\n",
      "326  1  27417\n",
      "325  1  25262\n",
      "324  1  30998\n",
      "337  1  18660\n",
      "350  1  25057\n",
      "351  1  28047\n",
      "352  1   6345\n",
      "380  1  14447\n",
      "379  1   6771\n",
      "378  1  21472\n",
      "377  1  18656\n",
      "376  1  29410\n",
      "375  1  27244\n",
      "374  1  11676\n",
      "373  1  20745\n",
      "372  1  23619\n",
      "371  1  15335\n",
      "370  1   9181\n",
      "369  1  10818\n",
      "368  1  29847\n",
      "323  1  16465\n",
      "367  1   7269\n"
     ],
     "output_type": "stream"
    }
   ],
   "source": [
    "y['ID'] = df_train.id.values\n",
    "print(y.sort_values(by=0, ascending=True).head(50))\n",
    "\n",
    "tst = pd.DataFrame(bin_pred)\n",
    "tst['ID'] = df_train.id.values\n",
    "print(tst.sort_values(by=0, ascending=True).head(50))"
   ],
   "metadata": {
    "collapsed": false,
    "pycharm": {
     "name": "#%%\n",
     "is_executing": false
    }
   }
  },
  {
   "cell_type": "code",
   "execution_count": 133,
   "outputs": [
    {
     "data": {
      "text/plain": "        id                                               name    brand  \\\n31   12766  Samsung Chromebook Plus Convertible Touch Lapt...  Samsung   \n83   31421  New Apple MacBook Pro (16-Inch, 16GB RAM, 1TB ...    Apple   \n86   29202  ASUS VivoBook F510QA Thin & Lightweight Laptop...     Asus   \n112  28976  2019 ASUS VivoBook F510QA 15.6â€ WideView FHD...     Asus   \n263  19313  ASUS Chromebook Flip C101PA-DB02 10.1inch Rock...     Asus   \n293  23417  Lenovo Flex 11 Chromebook 11.6-Inch HD IPS Tou...   Lenovo   \n307  29844  Lenovo 100E Chromebook 2ND Gen Laptop, 11.6\" H...   Lenovo   \n\n                                   base_name  screen_size  pixels_x  pixels_y  \\\n31    Samsung Chromebook Plus XE513C24-K01US         12.3      2400      1600   \n83                    Apple MacBook Pro 2019         16.0      3072      1920   \n86                      Asus VivoBook F510QA         15.6      1920      1080   \n112                     Asus VivoBook F510QA         15.6      1920      1080   \n263              Asus Chromebook Flip C101PA         10.1      1280       800   \n293                Lenovo Flex 11 Chromebook         11.6      1366       768   \n307  Lenovo 100e Chromebook (2nd Generation)         11.6      1366       768   \n\n    screen_surface  touchscreen            cpu  ... gpu_series   os_type  \\\n31          Glossy            1            OP1  ...        UHD        OS   \n83          Glossy            0  Intel Core i9  ...     Radeon  Catalina   \n86           Matte            0        AMD A12  ...     Radeon      10 S   \n112          Matte            0        AMD A12  ...     Radeon      10 S   \n263         Glossy            1       Rockchip  ...        MP4        OS   \n293          Matte            1       MediaTek  ...     GX6250        OS   \n307          Matte            0       MediaTek  ...    PowerVR        OS   \n\n     os_nr  resolution gimmick speed  Dual-Core  Quad-Core  Hexa-Core  \\\n31     nan  130.081301     3.0  4.00      False      False       True   \n83     nan  120.000000     5.0  5.29      False      False      False   \n86       S   69.230769     0.0  7.29      False       True      False   \n112      S   69.230769     0.0  7.29      False       True      False   \n263    nan   79.207921     3.0  2.56      False      False      False   \n293    nan   66.206897     3.0  4.41      False       True      False   \n307    nan   66.206897     0.0  4.41      False       True      False   \n\n     Hyper-Threading  \n31             False  \n83              True  \n86             False  \n112            False  \n263            False  \n293            False  \n307            False  \n\n[7 rows x 37 columns]",
      "text/html": "<div>\n<style scoped>\n    .dataframe tbody tr th:only-of-type {\n        vertical-align: middle;\n    }\n\n    .dataframe tbody tr th {\n        vertical-align: top;\n    }\n\n    .dataframe thead th {\n        text-align: right;\n    }\n</style>\n<table border=\"1\" class=\"dataframe\">\n  <thead>\n    <tr style=\"text-align: right;\">\n      <th></th>\n      <th>id</th>\n      <th>name</th>\n      <th>brand</th>\n      <th>base_name</th>\n      <th>screen_size</th>\n      <th>pixels_x</th>\n      <th>pixels_y</th>\n      <th>screen_surface</th>\n      <th>touchscreen</th>\n      <th>cpu</th>\n      <th>...</th>\n      <th>gpu_series</th>\n      <th>os_type</th>\n      <th>os_nr</th>\n      <th>resolution</th>\n      <th>gimmick</th>\n      <th>speed</th>\n      <th>Dual-Core</th>\n      <th>Quad-Core</th>\n      <th>Hexa-Core</th>\n      <th>Hyper-Threading</th>\n    </tr>\n  </thead>\n  <tbody>\n    <tr>\n      <th>31</th>\n      <td>12766</td>\n      <td>Samsung Chromebook Plus Convertible Touch Lapt...</td>\n      <td>Samsung</td>\n      <td>Samsung Chromebook Plus XE513C24-K01US</td>\n      <td>12.3</td>\n      <td>2400</td>\n      <td>1600</td>\n      <td>Glossy</td>\n      <td>1</td>\n      <td>OP1</td>\n      <td>...</td>\n      <td>UHD</td>\n      <td>OS</td>\n      <td>nan</td>\n      <td>130.081301</td>\n      <td>3.0</td>\n      <td>4.00</td>\n      <td>False</td>\n      <td>False</td>\n      <td>True</td>\n      <td>False</td>\n    </tr>\n    <tr>\n      <th>83</th>\n      <td>31421</td>\n      <td>New Apple MacBook Pro (16-Inch, 16GB RAM, 1TB ...</td>\n      <td>Apple</td>\n      <td>Apple MacBook Pro 2019</td>\n      <td>16.0</td>\n      <td>3072</td>\n      <td>1920</td>\n      <td>Glossy</td>\n      <td>0</td>\n      <td>Intel Core i9</td>\n      <td>...</td>\n      <td>Radeon</td>\n      <td>Catalina</td>\n      <td>nan</td>\n      <td>120.000000</td>\n      <td>5.0</td>\n      <td>5.29</td>\n      <td>False</td>\n      <td>False</td>\n      <td>False</td>\n      <td>True</td>\n    </tr>\n    <tr>\n      <th>86</th>\n      <td>29202</td>\n      <td>ASUS VivoBook F510QA Thin &amp; Lightweight Laptop...</td>\n      <td>Asus</td>\n      <td>Asus VivoBook F510QA</td>\n      <td>15.6</td>\n      <td>1920</td>\n      <td>1080</td>\n      <td>Matte</td>\n      <td>0</td>\n      <td>AMD A12</td>\n      <td>...</td>\n      <td>Radeon</td>\n      <td>10 S</td>\n      <td>S</td>\n      <td>69.230769</td>\n      <td>0.0</td>\n      <td>7.29</td>\n      <td>False</td>\n      <td>True</td>\n      <td>False</td>\n      <td>False</td>\n    </tr>\n    <tr>\n      <th>112</th>\n      <td>28976</td>\n      <td>2019 ASUS VivoBook F510QA 15.6â€ WideView FHD...</td>\n      <td>Asus</td>\n      <td>Asus VivoBook F510QA</td>\n      <td>15.6</td>\n      <td>1920</td>\n      <td>1080</td>\n      <td>Matte</td>\n      <td>0</td>\n      <td>AMD A12</td>\n      <td>...</td>\n      <td>Radeon</td>\n      <td>10 S</td>\n      <td>S</td>\n      <td>69.230769</td>\n      <td>0.0</td>\n      <td>7.29</td>\n      <td>False</td>\n      <td>True</td>\n      <td>False</td>\n      <td>False</td>\n    </tr>\n    <tr>\n      <th>263</th>\n      <td>19313</td>\n      <td>ASUS Chromebook Flip C101PA-DB02 10.1inch Rock...</td>\n      <td>Asus</td>\n      <td>Asus Chromebook Flip C101PA</td>\n      <td>10.1</td>\n      <td>1280</td>\n      <td>800</td>\n      <td>Glossy</td>\n      <td>1</td>\n      <td>Rockchip</td>\n      <td>...</td>\n      <td>MP4</td>\n      <td>OS</td>\n      <td>nan</td>\n      <td>79.207921</td>\n      <td>3.0</td>\n      <td>2.56</td>\n      <td>False</td>\n      <td>False</td>\n      <td>False</td>\n      <td>False</td>\n    </tr>\n    <tr>\n      <th>293</th>\n      <td>23417</td>\n      <td>Lenovo Flex 11 Chromebook 11.6-Inch HD IPS Tou...</td>\n      <td>Lenovo</td>\n      <td>Lenovo Flex 11 Chromebook</td>\n      <td>11.6</td>\n      <td>1366</td>\n      <td>768</td>\n      <td>Matte</td>\n      <td>1</td>\n      <td>MediaTek</td>\n      <td>...</td>\n      <td>GX6250</td>\n      <td>OS</td>\n      <td>nan</td>\n      <td>66.206897</td>\n      <td>3.0</td>\n      <td>4.41</td>\n      <td>False</td>\n      <td>True</td>\n      <td>False</td>\n      <td>False</td>\n    </tr>\n    <tr>\n      <th>307</th>\n      <td>29844</td>\n      <td>Lenovo 100E Chromebook 2ND Gen Laptop, 11.6\" H...</td>\n      <td>Lenovo</td>\n      <td>Lenovo 100e Chromebook (2nd Generation)</td>\n      <td>11.6</td>\n      <td>1366</td>\n      <td>768</td>\n      <td>Matte</td>\n      <td>0</td>\n      <td>MediaTek</td>\n      <td>...</td>\n      <td>PowerVR</td>\n      <td>OS</td>\n      <td>nan</td>\n      <td>66.206897</td>\n      <td>0.0</td>\n      <td>4.41</td>\n      <td>False</td>\n      <td>True</td>\n      <td>False</td>\n      <td>False</td>\n    </tr>\n  </tbody>\n</table>\n<p>7 rows × 37 columns</p>\n</div>"
     },
     "metadata": {},
     "output_type": "execute_result",
     "execution_count": 133
    }
   ],
   "source": [
    "#df_train.loc[[23417, 29844, 28976],'id']\n",
    "outlier_df = df_train.loc[df_train.id.isin([23417, 29844, 28976, 31421, 12766, 19313, 29202])]\n",
    "\n",
    "outlier_df"
   ],
   "metadata": {
    "collapsed": false,
    "pycharm": {
     "name": "#%%\n",
     "is_executing": false
    }
   }
  }
 ],
 "metadata": {
  "kernelspec": {
   "display_name": "Python 3",
   "language": "python",
   "name": "python3"
  },
  "language_info": {
   "codemirror_mode": {
    "name": "ipython",
    "version": 2
   },
   "file_extension": ".py",
   "mimetype": "text/x-python",
   "name": "python",
   "nbconvert_exporter": "python",
   "pygments_lexer": "ipython2",
   "version": "2.7.6"
  },
  "pycharm": {
   "stem_cell": {
    "cell_type": "raw",
    "source": [],
    "metadata": {
     "collapsed": false
    }
   }
  }
 },
 "nbformat": 4,
 "nbformat_minor": 0
}